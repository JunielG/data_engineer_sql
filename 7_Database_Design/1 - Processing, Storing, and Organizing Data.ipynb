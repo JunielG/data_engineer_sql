{
 "cells": [
  {
   "cell_type": "markdown",
   "id": "8350fd8c-390f-443b-9f48-d3cdb1ef338c",
   "metadata": {},
   "source": [
    "# Processing, Storing, and Organizing Data"
   ]
  },
  {
   "cell_type": "markdown",
   "id": "313ba5e9-8d59-4294-b9bf-4378e482319f",
   "metadata": {},
   "source": [
    "### OLTP and OLAP"
   ]
  },
  {
   "cell_type": "markdown",
   "id": "df210550-d02d-4c5f-9315-1677d657b7b1",
   "metadata": {},
   "source": [
    "Our motivating question:\n",
    "#### How should we organize and manage data?\n",
    "- Schemas: How should my data be logically organized?\n",
    "- Normalization: Should my data have minimal dependency and redundancy?\n",
    "- Views: What joins will be done most often?\n",
    "- Access control: Should all users of the data have the same level of access\n",
    "- DBMS: How do I pick between all the SQL and noSQL options?\\\n",
    "and more!\n"
   ]
  },
  {
   "cell_type": "markdown",
   "id": "d11952c2-65b6-4203-ae3c-d2b9f2da4e31",
   "metadata": {},
   "source": [
    "#### Approaches to processing data \n",
    "OLTP \n",
    "- Online Transaction Processing\n",
    "\n",
    "OLAP\n",
    "- Online Analytical Processing\n"
   ]
  },
  {
   "cell_type": "markdown",
   "id": "969f8114-1997-433f-9c49-0611e390f8e9",
   "metadata": {},
   "source": [
    "#### Some concrete examples\n",
    "OLTP tasks\n",
    "- Find the price of a book\n",
    "- Update latest customer transaction\n",
    "- Keep track of employee hours\n",
    "\n",
    "OLAP tasks\n",
    "- Calculate books with best profit margin\n",
    "- Find most loyal customers\n",
    "- Decide employee of the month"
   ]
  },
  {
   "cell_type": "markdown",
   "id": "78d4f550-1dc3-4113-8f4d-ad5d4a311bc9",
   "metadata": {},
   "source": [
    "#### OLAP vs. OLTP\n",
    "          OLAP\\                        OLTP\\\n",
    "Purpose  support daily transactions    report and analyze data\\\n",
    "Design   application-oriented          subject-oriented \\\n",
    "Data     up-to-date, operational       consolidated, historical\\\n",
    "Size     snapshot, gigabytes           archive, terabytes\\\n",
    "Queries  simple transactions & frequent updates complex, aggregate queries & limited updates \\\n",
    "Users    thousands                     hundreds\n"
   ]
  },
  {
   "cell_type": "code",
   "execution_count": null,
   "id": "993fa9a8-4549-497e-ab0e-74c923fbfe0b",
   "metadata": {},
   "outputs": [],
   "source": []
  },
  {
   "cell_type": "markdown",
   "id": "54aca986-69f4-4b87-9357-97fb4922536e",
   "metadata": {},
   "source": [
    "# Storing data"
   ]
  },
  {
   "cell_type": "markdown",
   "id": "9eb79002-8441-4aa9-8d7c-2617f67cda61",
   "metadata": {},
   "source": [
    "#### Structuring data\n",
    "1. Structured data \n",
    "- Follows a schema\n",
    "- Defined data types & relationships\n",
    "- _e.g., SQL, tables in a relational database _\n",
    "\n",
    "2. Unstructured data \n",
    "- Schemaless\n",
    "- Makes up most of data in the world\n",
    "- e.g., photos, chat logs, MP3\n",
    "\n",
    "3. Semi-structured data\n",
    "- Does not follow larger schema\n",
    "- Self-describing structure\n",
    "- e.g., NoSQL, XML, JSON"
   ]
  },
  {
   "cell_type": "markdown",
   "id": "5ad02395-9175-4b68-a0ee-cc1b2f40947b",
   "metadata": {},
   "source": [
    "#### Storing data beyond traditional databases\n",
    "- Traditional databases\\\n",
    "For storing real-time relational structured data ? OLTP\n",
    "- Data warehouses\\\n",
    "For analyzing archived structured data ? OLAP\n",
    "- Data lakes\\\n",
    "For storing data of all structures = flexibility and scalability\\\n",
    "For analyzing big data\n"
   ]
  },
  {
   "cell_type": "markdown",
   "id": "3f814099-ac88-4aec-89f7-497b7566e4ce",
   "metadata": {},
   "source": [
    "# Database design"
   ]
  },
  {
   "cell_type": "markdown",
   "id": "0c3ccf30-3a0f-44d9-9882-1e4a3275b4ab",
   "metadata": {},
   "source": []
  },
  {
   "cell_type": "markdown",
   "id": "f6c74cf7-1662-4d9e-896f-c6d0e9a7a011",
   "metadata": {},
   "source": []
  },
  {
   "cell_type": "markdown",
   "id": "46d972d6-8860-41f8-b84f-6a2792a074e2",
   "metadata": {},
   "source": []
  },
  {
   "cell_type": "markdown",
   "id": "867008ee-0eb0-4541-8acf-bd9887230b7b",
   "metadata": {},
   "source": []
  },
  {
   "cell_type": "markdown",
   "id": "c17b1d41-583d-4d8e-88fe-6142faa5fc7e",
   "metadata": {},
   "source": []
  },
  {
   "cell_type": "markdown",
   "id": "53f4442f-18f6-49ca-8ced-0c1b73f2706d",
   "metadata": {},
   "source": []
  },
  {
   "cell_type": "markdown",
   "id": "8e40a9ca-eabd-4cfe-b5bf-1c8c2c5fda54",
   "metadata": {},
   "source": []
  },
  {
   "cell_type": "markdown",
   "id": "51994635-9fc2-465a-83ff-71833af03da7",
   "metadata": {},
   "source": []
  },
  {
   "cell_type": "markdown",
   "id": "f5e61fcd-7948-4f71-8611-7eaf616a7a60",
   "metadata": {},
   "source": []
  },
  {
   "cell_type": "markdown",
   "id": "a35b0400-3145-48ed-950e-e1a811bf9ab4",
   "metadata": {},
   "source": []
  },
  {
   "cell_type": "markdown",
   "id": "f8ac3c55-c670-43ab-af4c-1d268dc615c1",
   "metadata": {},
   "source": []
  },
  {
   "cell_type": "markdown",
   "id": "0bdbffa4-9fa8-4c51-8f24-edd102e5fdde",
   "metadata": {},
   "source": []
  },
  {
   "cell_type": "markdown",
   "id": "1c7e9f89-aa3c-41a2-9e3e-f3e4c9f4e134",
   "metadata": {},
   "source": []
  },
  {
   "cell_type": "markdown",
   "id": "deca20ff-4d9b-4a5b-bbb9-298aca4ee778",
   "metadata": {},
   "source": []
  },
  {
   "cell_type": "markdown",
   "id": "808091ff-21ff-4614-ba99-14c498160e59",
   "metadata": {},
   "source": []
  },
  {
   "cell_type": "markdown",
   "id": "351d5e58-c70a-491d-b91d-586c98a8bfac",
   "metadata": {},
   "source": []
  },
  {
   "cell_type": "markdown",
   "id": "d138a8bc-d0b8-4374-9d94-5b746847878f",
   "metadata": {},
   "source": []
  },
  {
   "cell_type": "markdown",
   "id": "00adf6c9-aef9-46be-8c95-80277655b67a",
   "metadata": {},
   "source": []
  },
  {
   "cell_type": "markdown",
   "id": "8a40fb2c-4157-4573-8079-6d61cd7b9a85",
   "metadata": {},
   "source": []
  },
  {
   "cell_type": "markdown",
   "id": "28474cf0-e529-4e48-b140-6688caf755ae",
   "metadata": {},
   "source": []
  }
 ],
 "metadata": {
  "kernelspec": {
   "display_name": "Python 3 (ipykernel)",
   "language": "python",
   "name": "python3"
  },
  "language_info": {
   "codemirror_mode": {
    "name": "ipython",
    "version": 3
   },
   "file_extension": ".py",
   "mimetype": "text/x-python",
   "name": "python",
   "nbconvert_exporter": "python",
   "pygments_lexer": "ipython3",
   "version": "3.13.0"
  }
 },
 "nbformat": 4,
 "nbformat_minor": 5
}
