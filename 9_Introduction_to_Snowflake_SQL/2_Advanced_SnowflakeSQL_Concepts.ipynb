{
 "cells": [
  {
   "cell_type": "markdown",
   "id": "7e463332-e57f-4f08-9d07-1955589db72e",
   "metadata": {},
   "source": [
    "## Joining in Snowflake"
   ]
  },
  {
   "cell_type": "code",
   "execution_count": null,
   "id": "55ef1640-0375-4b82-b890-119b1a5a2273",
   "metadata": {},
   "outputs": [],
   "source": [
    "JOINS \n",
    "INNER JOIN \n",
    "\n",
    "OUTER JOINS\n",
    "LEFT OUTER JOIN or LEFT JOIN\n",
    "RIGHT OUTER JOIN or RIGHT JOIN\n",
    "FULL OUTER JOIN or FULL JOIN\n",
    "\n",
    "CROSS JOINS\n",
    "SELF JOINS\n",
    "NATURAL JOIN\n",
    "LATERAL JOIN"
   ]
  },
  {
   "cell_type": "markdown",
   "id": "293ab3de-fec3-4ebf-b8a2-2e460c30c0b1",
   "metadata": {},
   "source": [
    "#### NATURAL JOIN\n",
    "NATURAL JOIN automatically match columns and eliminate duplicated ones\n",
    "Syntax:"
   ]
  },
  {
   "cell_type": "code",
   "execution_count": null,
   "id": "14e32b7a-3566-4087-8a4f-528574f393ec",
   "metadata": {},
   "outputs": [],
   "source": [
    "Without NATURAL JOIN \n",
    "SELECT * FROM pizzas AS p \n",
    "JOIN  pizza_type AS t \n",
    "ON t.pizza_type_id = p.pizza_type_id\n",
    "\n",
    "With NATURAL JOIN \n",
    "SELECT * FROM pizzas AS p \n",
    "NATURAL JOIN pizza_type AS t"
   ]
  },
  {
   "cell_type": "code",
   "execution_count": null,
   "id": "54a6578a-6167-43ee-80c7-e096886acc7f",
   "metadata": {},
   "outputs": [],
   "source": [
    "SELECT * FROM pizzas AS p \n",
    "NATURAL JOIN pizza_type AS t\n",
    "WHERE pizza_type_id ='bbq_ckn'"
   ]
  },
  {
   "cell_type": "markdown",
   "id": "b2579682-4a31-4866-b466-ca88d03a0966",
   "metadata": {},
   "source": [
    "#### LATERAL JOIN \n",
    "LATERAL JOIN: lets a subquery in FROM reference columns from preceding tables or views."
   ]
  },
  {
   "cell_type": "code",
   "execution_count": null,
   "id": "c9fde2c3-3837-46b4-94ce-aaecb756a7cb",
   "metadata": {},
   "outputs": [],
   "source": [
    "SELECT ... \n",
    "FROM <left_hand_expression> , -- \n",
    "LATERAL (<right_hand_expression>) \n",
    "\n",
    "left_hand_expression - Table, view, or subquery\n",
    "right_hand_expression - Inline view or subquery"
   ]
  },
  {
   "cell_type": "code",
   "execution_count": null,
   "id": "e88f4ba8-14d6-43c5-aca1-bb5943709eb0",
   "metadata": {},
   "outputs": [],
   "source": [
    "SELECT p.pizza_id, lat.name, lat.category \n",
    "FROM pizzas AS p, \n",
    "LATERAL -- Keyword LATERAL\n",
    "( SELECT * FROM pizza_type AS t \n",
    "-- Referencing outer query column: p.pizza_type_id\n",
    "WHERE p.pizza_type_id = t.pizza_type_id \n",
    ") AS lat"
   ]
  },
  {
   "cell_type": "markdown",
   "id": "a9153147-9da9-465e-9a23-2ece49643179",
   "metadata": {},
   "source": [
    "#### Why LATERAL JOIN?"
   ]
  },
  {
   "cell_type": "code",
   "execution_count": null,
   "id": "64030957-a277-473c-bfa3-e0c476a1790f",
   "metadata": {},
   "outputs": [],
   "source": [
    "SELECT * \n",
    "FROM orders AS o, \n",
    "LATERAL (-- Subquery calculating total_spent \n",
    "         SELECT \n",
    "             SUM(p.price * od.quantity) AS total_spent\n",
    "         FROM order_details AS od \n",
    "         JOIN pizzas AS p \n",
    "             ON od.pizza_id = p.pizza_id\n",
    "         WHERE o.order_id = od.order_id\n",
    ") AS t\n",
    "ORDER BY o.order_id"
   ]
  },
  {
   "cell_type": "markdown",
   "id": "6d598d5c-c437-4736-bfb8-c640779c1781",
   "metadata": {},
   "source": [
    "## NATURAL JOIN\n",
    "Pissa, the ever-expanding pizza delivery enterprise, has a new challenge for you. They're interested in discovering which type of pizza generates the most revenue.\n",
    "\n",
    "Here is the pizza schema for reference:"
   ]
  },
  {
   "cell_type": "code",
   "execution_count": null,
   "id": "007babf9-a75b-435a-93c2-1d225fdc74a5",
   "metadata": {},
   "outputs": [],
   "source": [
    "SELECT\n",
    "\t-- Get the pizza category\n",
    "    category,\n",
    "    SUM(p.price * od.quantity) AS total_revenue\n",
    "FROM order_details AS od\n",
    "NATURAL JOIN pizzas AS p\n",
    "-- NATURAL JOIN the pizza_type table\n",
    "NATURAL JOIN pizza_type AS pt\n",
    "-- GROUP the records by category\n",
    "GROUP BY category\n",
    "-- ORDER by total_revenue and limit the records\n",
    "ORDER BY total_revenue DESC\n",
    "LIMIT 1;"
   ]
  },
  {
   "cell_type": "markdown",
   "id": "f232f9e6-e849-4a67-b938-4a68eaba1890",
   "metadata": {},
   "source": [
    "## The world of JOINS\n",
    "Previously, you generated insights for Pissa around their sales and revenue by month. Now, you'll look into their most popular pizzas.\n",
    "\n",
    "Apply your knowledge of joins to get the desired result."
   ]
  },
  {
   "cell_type": "code",
   "execution_count": null,
   "id": "dc6e2cf9-c6d1-44a3-8f3b-7ded6a02a65d",
   "metadata": {},
   "outputs": [],
   "source": [
    "SELECT COUNT(o.order_id) AS total_orders,\n",
    "        AVG(p.price) AS average_price,\n",
    "        -- Calculate total revenue\n",
    "        SUM(p.price * od.quantity) AS total_revenue\t\n",
    "FROM orders AS o\n",
    "LEFT JOIN order_details AS od\n",
    "ON o.order_id = od.order_id\n",
    "-- Use an appropriate JOIN with the pizzas table\n",
    "RIGHT JOIN pizzas AS p\n",
    "ON od.pizza_id = p.pizza_id"
   ]
  },
  {
   "cell_type": "code",
   "execution_count": null,
   "id": "e35d4438-896d-44b8-a77e-c209ac511b78",
   "metadata": {},
   "outputs": [],
   "source": [
    "SELECT COUNT(o.order_id) AS total_orders,\n",
    "        AVG(p.price) AS average_price,\n",
    "        -- Calculate total revenue\n",
    "        SUM(p.price * od.quantity) AS total_revenue,\n",
    "        -- Get the name from the pizza_type table\n",
    "\t\tpt.name AS pizza_name\n",
    "FROM orders AS o\n",
    "LEFT JOIN order_details AS od\n",
    "ON o.order_id = od.order_id\n",
    "-- Use an appropriate JOIN with the pizzas table\n",
    "RIGHT JOIN pizzas p\n",
    "ON od.pizza_id = p.pizza_id\n",
    "-- NATURAL JOIN the pizza_type table\n",
    "NATURAL JOIN pizza_type AS pt\n",
    "GROUP BY pt.name, pt.category\n",
    "ORDER BY total_revenue desc, total_orders desc"
   ]
  },
  {
   "cell_type": "markdown",
   "id": "e4731d6a-fc55-430b-8d6d-80edf278448b",
   "metadata": {},
   "source": [
    "## Subquerying and Common Table Expressions"
   ]
  },
  {
   "cell_type": "code",
   "execution_count": null,
   "id": "e4c24c5c-17c0-41fd-9c63-1ff5df5bea07",
   "metadata": {},
   "outputs": [],
   "source": [
    "Subquerying \n",
    "Nested queries \n",
    "Used in FROM, WHERE, HAVING or SELECT clauses\n",
    "\n",
    "SELECT column1 \n",
    "FROM table1 \n",
    "WHERE column1 = (SELECT column2 FROM table2 WHERE condition)"
   ]
  },
  {
   "cell_type": "code",
   "execution_count": null,
   "id": "8be41d42-4c0c-42d8-917c-41810e4630cf",
   "metadata": {},
   "outputs": [],
   "source": [
    "Uncorrelated subquery\n",
    "-- Main query returns pizzas priced at the maximum value found in the subquery\n",
    "\n",
    "SELECT pizza_id \n",
    "FROM pizzas\n",
    "-- Uncorrelated subquery that identifies the highest pizza price\n",
    "WHERE price = (SELECT MAX(price) FROM pizzas)"
   ]
  },
  {
   "cell_type": "code",
   "execution_count": null,
   "id": "2054c0bc-ad28-41f8-aa46-8c2dcba6c64c",
   "metadata": {},
   "outputs": [],
   "source": [
    "Correlated subquery \n",
    "Subquery references columns from the main query\n",
    "\n",
    "SELECT pt.name, pz.price, pt.category\n",
    "FROM pizzas AS pz \n",
    "JOIN pizza_type AS pt ON pz.pizza_type_id = pt.pizza_type_id\n",
    "WHERE pz.price = (\n",
    "    -- Identifies max price for each pizza category \n",
    "    SELECT MAX(p2.price) -- Max price \n",
    "    FROM pizzas AS p2 \n",
    "    WHERE-- Correlated: uses outer query column   \n",
    "p2.pizza_type_id = pz.pizza_type_id\n",
    ")"
   ]
  },
  {
   "cell_type": "code",
   "execution_count": null,
   "id": "97a50a22-5091-471a-89e4-7e36ad0e484f",
   "metadata": {},
   "outputs": [],
   "source": [
    "Common Table Expressions\n",
    "\n",
    "WITH max_price AS ( -- CTE called max_price \n",
    "                    SELECT pizza_type_id, MAX(price) AS max_price\n",
    "FROM pizzas \n",
    "GROUP BY pizza_type_id\n",
    ")\n",
    "-- Main query \n",
    "SELECT pt.name, pz.price, pt.category\n",
    "FROM pizzas AS pz\n",
    "JOIN pizza_type AS pt ON pz.pizza_type_id = pt.pizza_type_id\n",
    "JOIN max_price AS mp  -- Joining with CTE max_price\n",
    "ON pt.pizza_type_id = mp.pizza_type_id\n",
    "WHERE pz.price < mp.max_price -- Compare the price with max_price CTE column\n"
   ]
  },
  {
   "cell_type": "markdown",
   "id": "63abc809-11c9-42c5-b2e8-6a185c7fa51b",
   "metadata": {},
   "source": [
    "### Subqueries\n",
    "Pissa, the expanding pizza delivery enterprise, is now using your expertise to identify some trends.\n",
    "\n",
    "They want to streamline its pizza offerings by identifying under-performing pizzas. Your task is to find the pizza types ordered less frequently than the average for all types."
   ]
  },
  {
   "cell_type": "code",
   "execution_count": null,
   "id": "4cc48dd5-4ecf-4f11-a1bf-08aa3d9228b6",
   "metadata": {},
   "outputs": [],
   "source": [
    "SELECT pt.name,\n",
    "    pt.category,\n",
    "    SUM(od.quantity) AS total_orders\n",
    "FROM pizza_type pt\n",
    "JOIN pizzas p\n",
    "    ON pt.pizza_type_id = p.pizza_type_id\n",
    "JOIN order_details od\n",
    "    ON p.pizza_id = od.pizza_id\n",
    "GROUP BY ALL\n",
    "HAVING SUM(od.quantity) < (\n",
    "  -- Calculate AVG of total_quantity\n",
    "  SELECT AVG(total_quantity)\n",
    "  FROM (\n",
    "    -- Calculate total_quantity\n",
    "    SELECT SUM(od.quantity) AS total_quantity\n",
    "    FROM pizzas p\n",
    "    JOIN order_details od \n",
    "    \tON p.pizza_id = od.pizza_id\n",
    "    GROUP BY p.pizza_id\n",
    "    -- Alias as subquery\n",
    "  ) AS subquery\n",
    ")"
   ]
  },
  {
   "cell_type": "markdown",
   "id": "cd5e5c3a-7240-4b1b-b5a5-afad063bd502",
   "metadata": {},
   "source": [
    "### Common Table Expressions\n",
    "Pissa, the company you're consulting for, is planning a promotional campaign and needs your expertise.\n",
    "\n",
    "The campaign aims to spotlight their most popular pizza based on total orders.\n",
    "\n",
    "They're also considering introducing a value meal featuring their least expensive pizza.\n",
    "\n",
    "Your task as a consulting data engineer is to identify both these pizzas."
   ]
  },
  {
   "cell_type": "code",
   "execution_count": null,
   "id": "3f42418a-e771-4970-a4c2-27159d1f85c3",
   "metadata": {},
   "outputs": [],
   "source": [
    "-- Create a CTE named most_ordered and limit the results \n",
    "WITH most_ordered AS (\n",
    "    SELECT pizza_id, SUM(quantity) AS total_qty \n",
    "    FROM order_details GROUP BY pizza_id ORDER BY total_qty DESC\n",
    "    LIMIT 1\n",
    ")\n",
    "-- Create CTE cheapest_pizza where price is equal to min price from pizzas table\n",
    ", cheapest_pizza AS (\n",
    "    SELECT pizza_id, price\n",
    "    FROM pizzas \n",
    "    WHERE price = (SELECT MIN(price) FROM pizzas)\n",
    "    LIMIT 1\n",
    ")\n",
    "\n",
    "SELECT pizza_id, 'Most Ordered' AS Description, total_qty AS metric\n",
    "-- Select from the most_ordered CTE\n",
    "FROM most_ordered\n",
    "UNION ALL\n",
    "SELECT pizza_id, 'Cheapest' AS Description, price AS metric\n",
    "-- Select from the cheapest_pizza CTE\n",
    "FROM cheapest_pizza"
   ]
  },
  {
   "cell_type": "markdown",
   "id": "8a43615c-54a5-4b25-af6a-afe6c25ae83f",
   "metadata": {},
   "source": [
    "## Snowflake Query Optimization"
   ]
  },
  {
   "cell_type": "code",
   "execution_count": null,
   "id": "50e93142-4f15-4300-aa9c-43a127cfb49e",
   "metadata": {},
   "outputs": [],
   "source": [
    "Common query problems\n",
    "UNION or UNION ALL: Know the difference \n",
    "UNION removes duplicates, slows down the query\n",
    "UNION ALL is faster if no duplicates \n",
    "\n",
    "Handling big data \n",
    "Use filters to narrow down data\n",
    "Apply limits for quicker results\n"
   ]
  },
  {
   "cell_type": "code",
   "execution_count": null,
   "id": "2572dd0a-fb19-4151-854a-1224ea9d6b97",
   "metadata": {},
   "outputs": [],
   "source": [
    "How to optimize queries? \n",
    "SELECT * \n",
    "FROM SNOWFLAKE_SAMPLE_DATA.TPCH_SF100.ORDERS\n",
    "LIMIT 10\n",
    "\n",
    "SELECT o_orderdate, o_orderstatus \n",
    "FROM SNOWFLAKE_SAMPLE_DATA.TPCH_SF100.ORDERS"
   ]
  },
  {
   "cell_type": "code",
   "execution_count": null,
   "id": "66b2ed2e-04db-4e53-b26d-99866f1f7946",
   "metadata": {},
   "outputs": [],
   "source": [
    "With early filtering\n",
    "\n",
    "WITH filtered_orders AS (\n",
    "    SELECT * FROM orders\n",
    "        WHERE order_date ='2015-01-01'-- Filtering in CTE before JOIN\n",
    "              )\n",
    "    SELECT filtered_orders.order_id, filtered_orders.order_date, pizza_type.name, pizzas.pizza_size\n",
    "    FROM filtered_orders -- Joining with CTE \n",
    "JOIN order_details ON filtered_orders.order_id = order_details.order_id\n",
    "JOIN pizzas \n",
    "ON order_details.pizza_id = pizzas.pizza_id"
   ]
  },
  {
   "cell_type": "code",
   "execution_count": null,
   "id": "5cf125ec-b110-44bd-8813-2c911af95b77",
   "metadata": {},
   "outputs": [],
   "source": [
    "Query History \n",
    "snowflake.account_usage.query_history\n",
    "Query History provides different metrics such as execution time\n",
    "ILIKE: Case-insensitive string-matching\n",
    "\n",
    "SELECT query_text, start_time, end_time, execution_time\n",
    "FROM snowflake.account_usage.query_history\n",
    "WHERE query_text ILIKE '%order_details%'\n",
    "\n",
    "SELECT query_text,\n",
    "start_time,\n",
    "end_time,\n",
    "execution_time\n",
    "FROM snowflake.account_usage.query_history\n",
    "WHERE execution_time > 1000"
   ]
  },
  {
   "cell_type": "markdown",
   "id": "44dfa1d4-a526-420c-b099-e766723ba848",
   "metadata": {},
   "source": [
    "### Early filtering\n",
    "Pissa has now asked for your expertise to optimize the performance of their database queries. They suspect that their existing queries are not efficient enough and take too long to run.\n",
    "\n",
    "The goal is to retrieve the orders made after November 01, 2015, and only the pizzas in the 'Veggie' category.\n",
    "\n",
    "Complete the given SQL query by implementing early filtering techniques."
   ]
  },
  {
   "cell_type": "code",
   "execution_count": null,
   "id": "f339a83e-731a-4046-924f-79fef24ad288",
   "metadata": {},
   "outputs": [],
   "source": [
    "WITH filtered_orders AS (\n",
    "  SELECT order_id, order_date \n",
    "  FROM orders \n",
    "  -- Filter records where order_date is greater than November 1, 2015\n",
    "  WHERE order_date > '2015-11-01'\n",
    ")\n",
    "\n",
    ", filtered_pizza_type AS (\n",
    "  SELECT name, pizza_type_id \n",
    "  FROM pizza_type \n",
    "  -- Filter the pizzas which are in the Veggie category\n",
    "  WHERE category = 'Veggie'\n",
    ")\n",
    "\n",
    "SELECT fo.order_id, fo.order_date, fpt.name, od.quantity\n",
    "-- Get the details from filtered_orders CTE\n",
    "FROM filtered_orders AS fo\n",
    "JOIN order_details AS od ON fo.order_id = od.order_id\n",
    "JOIN pizzas AS p ON od.pizza_id = p.pizza_id\n",
    "-- JOIN the filtered_pizza_type CTE on pizza_type_id\n",
    "JOIN filtered_pizza_type AS fpt ON p.pizza_type_id = fpt.pizza_type_id"
   ]
  },
  {
   "cell_type": "markdown",
   "id": "335a7fc2-ff77-46d0-84a3-0d039e43d837",
   "metadata": {},
   "source": [
    "## Handling semi-structured data"
   ]
  },
  {
   "cell_type": "code",
   "execution_count": null,
   "id": "ff213072-d4bb-43e3-8b05-f12de2097246",
   "metadata": {},
   "outputs": [],
   "source": [
    "Introducing JSON \n",
    "JavaScript Object Notation\n",
    "Common use cases: Web APIs and Config files\n",
    "JSON data structure:\n",
    "Key-Value Pairs, e.g., cust_id: 1"
   ]
  },
  {
   "cell_type": "code",
   "execution_count": null,
   "id": "288c50df-d1db-4a17-af33-c2101f1d4947",
   "metadata": {},
   "outputs": [],
   "source": [
    "Comparisons:\n",
    "Postgres: Uses JSONB\n",
    "Snowflake: Uses VARIANT"
   ]
  },
  {
   "cell_type": "code",
   "execution_count": null,
   "id": "d1bcaa79-83a7-428c-9882-0f89e6323f82",
   "metadata": {},
   "outputs": [],
   "source": [
    "How Snowflake stores JSON data \n",
    "VARIANT supports OBJECT and ARRAY data types\n",
    "OBJECT: { \"key\": \"value\"}\n",
    "ARRAY: [\"list\", \"of\", \"values\"]\n",
    "\n",
    "Creating a Snowflake Table to handle JSON data\n",
    "CREATE TABLE cust_info_json_data (\n",
    "    customer_id INT,\n",
    "    customer_info VARIANT -- VARIANT data type\n",
    ");"
   ]
  },
  {
   "cell_type": "code",
   "execution_count": null,
   "id": "4081ec0b-259f-462c-84bd-463b8a358286",
   "metadata": {},
   "outputs": [],
   "source": [
    "Semi-structured data functions \n",
    "PARSE_JSON \n",
    "expr: JSON data in string format\n",
    "Returns: VARIANT type, valid JSON object\n",
    "\n",
    "SELECT PARSE_JSON(-- Enclosed in strings\n",
    "                  '{\"cust_id\": 1,\n",
    "                    \"cust_name\": \"cust1\", \n",
    "                    \"cust_age\": 40, \n",
    "                    \"cust_email\":\"cust1***@gmail.com\"  \n",
    "}' \n",
    "-- Enclosed in strings\n",
    ") AS customer_info_json"
   ]
  },
  {
   "cell_type": "code",
   "execution_count": null,
   "id": "e7844a68-5846-4b39-b784-0ae638a13708",
   "metadata": {},
   "outputs": [],
   "source": [
    "OBJECT_CONSTRUCT \n",
    "Syntax: OBJECT_CONSTRUCT( [<key1>, <value1> [, <keyN>, <valueN> ...]] )\n",
    "Returns: JSON object\n",
    "\n",
    "SELECT OBJECT_CONSTRUCT(-- Comma separated values rather than : notation\n",
    "'cust_id', 1,\n",
    "'cust_name', 'cust1',\n",
    "'cust_age', 40,\n",
    "'cust_email', 'cust1***@gmail.com'  \n",
    ")"
   ]
  },
  {
   "cell_type": "code",
   "execution_count": null,
   "id": "9dc280f3-6009-469f-9bad-e1068cc5784c",
   "metadata": {},
   "outputs": [],
   "source": [
    "Querying JSON data in Snowflake \n",
    "Simple JSON \n",
    ":\n",
    "\n",
    "SELECT  \n",
    "customer_info:cust_age, -- Use colon to access cust_age from column \n",
    "customer_info:cust_name, \n",
    "customer_info:cust_email,\n",
    "FROM  cust_info_json_data;"
   ]
  },
  {
   "cell_type": "code",
   "execution_count": null,
   "id": "28425fda-1776-4854-9090-b1c5cca96259",
   "metadata": {},
   "outputs": [],
   "source": [
    "Querying nested JSON using colon/dot notations\n",
    "Accessing values using colon notation\n",
    "<column>:<level1_element>:<level2_element>:<level3_element> \n",
    "\n",
    "SELECT\n",
    "    customer_info:address:street AS street_name \n",
    "FROM cust_info_json_data\n",
    "\n",
    "\n",
    "Accessing values using dot notation\n",
    "<column>:<level1_element>.<level2_element>.<level3_element>\n",
    "\n",
    "SELECT\n",
    "    customer_info.address.street AS street_name \n",
    "FROM cust_info_json_data"
   ]
  },
  {
   "cell_type": "markdown",
   "id": "16de3719-718a-403c-93ea-0270649ead5e",
   "metadata": {},
   "source": [
    "### Querying JSON data\n",
    "Yelpto, a leading platform for discovering local businesses, seeks your expertise as a consulting Data Engineer.\n",
    "\n",
    "They aim to explore the restaurant industry, focusing on popular 5-star-rated restaurants that are open on weekends in Philadelphia.\n",
    "\n",
    "You'll work with the yelp_business_data table, particularly the name, categories, attributes, and hours columns.\n",
    "\n",
    "You can explore the yelp_business_data table in the SQL console."
   ]
  },
  {
   "cell_type": "code",
   "execution_count": null,
   "id": "b82f3be6-deb5-4159-9f60-78eeef2e04d4",
   "metadata": {},
   "outputs": [],
   "source": [
    "SELECT name,\n",
    "    review_count,\n",
    "    -- Retrieve the Saturday hours\n",
    "    hours:Saturday,\n",
    "    -- Retrieve the Sunday hours\n",
    "    hours:Sunday\n",
    "FROM yelp_business_data\n",
    "-- Filter for Restaurants\n",
    "WHERE categories ILIKE '%Restaurant%'\n",
    "    AND (hours:Saturday IS NOT NULL AND hours:Sunday IS NOT NULL)\n",
    "    AND city = 'Philadelphia'\n",
    "    AND stars = 5\n",
    "ORDER BY review_count DESC"
   ]
  },
  {
   "cell_type": "markdown",
   "id": "7ff4344a-2c5b-4024-aa8e-3c0cade8d3a3",
   "metadata": {},
   "source": [
    "### JSONified\n",
    "Semi-structured data can be challenging to query, so let's practice interacting with Yelpto's data once again.\n",
    "\n",
    "Here, you will filter the contents of a VARIANT column."
   ]
  },
  {
   "cell_type": "code",
   "execution_count": null,
   "id": "9948a08e-cf62-46cb-b213-aaf7c2df7cba",
   "metadata": {},
   "outputs": [],
   "source": [
    "SELECT business_id, name\n",
    "FROM yelp_business_data\n",
    "WHERE categories ILIKE '%Restaurant%'\n",
    "\t-- Filter where DogsAllowed is '%True%'\n",
    "\tAND attributes:DogsAllowed ILIKE '%True%'\n",
    "    -- Filter where BusinessAcceptsCreditCards is '%True%'\n",
    "    AND attributes:BusinessAcceptsCreditCards ILIKE '%True%'\n",
    "    AND city ILIKE '%Philadelphia%'\n",
    "    AND stars = 5"
   ]
  },
  {
   "cell_type": "code",
   "execution_count": null,
   "id": "c057aeb6-ea99-463f-97ef-d84f98dedb8e",
   "metadata": {},
   "outputs": [],
   "source": []
  },
  {
   "cell_type": "code",
   "execution_count": null,
   "id": "3adb7c43-5bc2-4522-8b3b-b0d06c14b29e",
   "metadata": {},
   "outputs": [],
   "source": []
  }
 ],
 "metadata": {
  "kernelspec": {
   "display_name": "Python 3 (ipykernel)",
   "language": "python",
   "name": "python3"
  },
  "language_info": {
   "codemirror_mode": {
    "name": "ipython",
    "version": 3
   },
   "file_extension": ".py",
   "mimetype": "text/x-python",
   "name": "python",
   "nbconvert_exporter": "python",
   "pygments_lexer": "ipython3",
   "version": "3.9.13"
  }
 },
 "nbformat": 4,
 "nbformat_minor": 5
}
