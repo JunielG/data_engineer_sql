{
 "cells": [
  {
   "cell_type": "markdown",
   "id": "6f1ec536-ef89-44fa-abfe-44b8683f21d9",
   "metadata": {},
   "source": [
    "## Introduction to Snowflake SQL"
   ]
  },
  {
   "cell_type": "code",
   "execution_count": null,
   "id": "7162590d-23b9-404a-9d35-db360ce74cc0",
   "metadata": {},
   "outputs": [],
   "source": [
    "Connecting to Snowflake: Drivers \n",
    "Drivers & Connectors \n",
    "ODBC (Open Database Connectivity)\n",
    "JDBC (Java Database Connectivity)\n",
    "Connectors : Python, Spark, and more"
   ]
  },
  {
   "cell_type": "markdown",
   "id": "7be58626-8e7d-4efd-855f-4a27e0e694d2",
   "metadata": {},
   "source": [
    "### Querying using Snowflake SQL\n",
    "You are consulting as a Data Engineer at Pissa, an expanding pizza delivery company. Their database has four tables: pizzas, pizza_types, orders, and order_details. You can view each table from the SQL console:\n",
    "\n",
    "SQL console\n",
    "\n",
    "As part of their transition from PostgreSQL to Snowflake, you're now examining the different columns in the pizzas table. Are you ready to refresh your SQL skills?"
   ]
  },
  {
   "cell_type": "code",
   "execution_count": null,
   "id": "4a39baa0-8808-4e2f-bc3c-a85b8ca4638d",
   "metadata": {},
   "outputs": [],
   "source": [
    "-- Select pizza_type_id, pizza_size, and price from pizzas table\n",
    "SELECT pizza_type_id,\n",
    "    pizza_size,\n",
    "    price\n",
    "FROM pizzas"
   ]
  },
  {
   "cell_type": "markdown",
   "id": "8574c01e-438a-4d78-b70b-7481fc622818",
   "metadata": {},
   "source": [
    "### Filtering in Snowflake SQL\n",
    "As part of Pissa's migration from PostgreSQL to Snowflake, ensuring data integrity and correctness of the data after migration is crucial.\n",
    "\n",
    "You're specifically working with the pizza_type table, which contains the following columns: pizza_type_id, name, category, and ingredients.\n",
    "\n",
    "Let's apply your SQL skills to Snowflake!"
   ]
  },
  {
   "cell_type": "code",
   "execution_count": null,
   "id": "6eccc447-0360-465d-878f-4c70df14b17c",
   "metadata": {},
   "outputs": [],
   "source": [
    "-- Count all pizza entries\n",
    "SELECT COUNT(pizza_type_id) AS count_all_pizzas\n",
    "FROM pizza_type"
   ]
  },
  {
   "cell_type": "code",
   "execution_count": null,
   "id": "b484b09d-12d8-47e2-b81c-a81e6c9177eb",
   "metadata": {},
   "outputs": [],
   "source": [
    "-- Count all pizza entries\n",
    "SELECT COUNT(*) AS count_all_pizzas\n",
    "FROM pizza_type\n",
    "-- Apply filter on category for Classic pizza types\n",
    "WHERE category LIKE 'Classic'"
   ]
  },
  {
   "cell_type": "markdown",
   "id": "07b25574-2178-46d1-a9c7-329ee0b44e12",
   "metadata": {},
   "source": [
    "## Snowflake data types"
   ]
  },
  {
   "cell_type": "code",
   "execution_count": null,
   "id": "961e527c-3859-452e-9134-fedfa0567290",
   "metadata": {},
   "outputs": [],
   "source": [
    "Common data types \n",
    "Category     Data types\n",
    "Text/string  VARCHAR, CHAR, TEXT\n",
    "Numeric      INTEGER \n",
    "Boolean      BOOLEAN\n",
    "Date/time    DATE, TIME, TIMESTAMP"
   ]
  },
  {
   "cell_type": "code",
   "execution_count": null,
   "id": "ed894360-6de0-4dcb-8b70-003cea38b096",
   "metadata": {},
   "outputs": [],
   "source": [
    "Snowflake SQL data types - NUMBER \n",
    "NUMBER(p, s)\n",
    "\n",
    "NUMERIC works in Snowflake as an alias for NUMBER \n",
    "p = precision; s = scale\n",
    "Max p and s values: 38\n",
    "Exceeding will cause rounding! "
   ]
  },
  {
   "cell_type": "code",
   "execution_count": null,
   "id": "f6d22b9c-7f6c-47b7-b518-3179f4290d26",
   "metadata": {},
   "outputs": [],
   "source": [
    "Snowflake SQL data types - TIMESTAMP_LTZ \n",
    "TIMESTAMP_LTZ\n",
    "Combines DATE and TIME with localtime zone\n",
    "Format: YYYY-MM-DD HH:MI:SS"
   ]
  },
  {
   "cell_type": "code",
   "execution_count": null,
   "id": "9c102640-f855-4b5d-a022-093a6728e980",
   "metadata": {},
   "outputs": [],
   "source": [
    "CREATE TABLE orders (\n",
    "    -- Timestamp with local time zone  \n",
    "    order_timestamp \n",
    "    TIMESTAMP_LTZ\n",
    ")"
   ]
  },
  {
   "cell_type": "code",
   "execution_count": null,
   "id": "3d47954b-7e60-4842-b716-4c18f2e9bb9e",
   "metadata": {},
   "outputs": [],
   "source": [
    "Data type conversion - How?\n",
    "1. CAST \n",
    "Syntax: CAST( <source_data/column> AS <target_data_type> )\n",
    "CAST('80' AS INT)\n",
    "2. :: Syntax: <source_data/column>::<target_data_type>\n",
    "'80'::INT"
   ]
  },
  {
   "cell_type": "code",
   "execution_count": null,
   "id": "8ec4bd3d-43ba-4ac9-a676-26565f902b9c",
   "metadata": {},
   "outputs": [],
   "source": [
    "SELECT \n",
    "CAST(order_timestamp AS DATE)\n",
    "AS order_date\n",
    "FROM orders"
   ]
  },
  {
   "cell_type": "code",
   "execution_count": null,
   "id": "99dc0507-f60d-4848-ab52-e999fd0286ef",
   "metadata": {},
   "outputs": [],
   "source": [
    "Conversion functions \n",
    "Examples: TO_VARCHAR, TO_DATE, etc.\n",
    "TO_VARCHAR \n",
    "TO_VARCHAR( <expr> )expr - numeric, timestamp, etc.\n",
    "Result: VARCHAR"
   ]
  },
  {
   "cell_type": "code",
   "execution_count": null,
   "id": "1b20fdea-1602-4f37-9ca7-17604d4e7778",
   "metadata": {},
   "outputs": [],
   "source": [
    "SELECT TO_VARCHAR(86)"
   ]
  },
  {
   "cell_type": "code",
   "execution_count": null,
   "id": "8112f9a4-cb1b-4745-96b3-1c99073318d0",
   "metadata": {},
   "outputs": [],
   "source": [
    "Checking data types\n",
    "DESC TABLE orders"
   ]
  },
  {
   "cell_type": "markdown",
   "id": "8ee5a20e-910c-4418-8204-cc7b5c303f86",
   "metadata": {},
   "source": [
    "### Checking data types\n",
    "As a Data Engineer, it is important to understand how and where your data is stored so that you can optimize for cost, speed, and accuracy.\n",
    "\n",
    "You are still familiarizing with the data at Pissa, so you decide to get storage information about the columns in one of their tables."
   ]
  },
  {
   "cell_type": "code",
   "execution_count": null,
   "id": "79de6b7d-fa40-4e08-9e4a-64673af767af",
   "metadata": {},
   "outputs": [],
   "source": [
    "-- Get information about the orders table\n",
    "DESC TABLE orders"
   ]
  },
  {
   "cell_type": "markdown",
   "id": "c7dae144-da3c-4129-b261-d0420177f6e1",
   "metadata": {},
   "source": [
    "### Data type conversion\n",
    "When working with databases, there are times when you need to change the data type of a column to better suit your operations or analyses.\n",
    "\n",
    "Continuing your Data Engineer role at Pissa, you will practice converting data between types."
   ]
  },
  {
   "cell_type": "code",
   "execution_count": null,
   "id": "923d31d6-0268-4f69-b84f-0e1ed5dbeac2",
   "metadata": {},
   "outputs": [],
   "source": [
    "-- Convert order_id to VARCHAR aliasing to order_id_string\n",
    "SELECT CAST(order_id AS VARCHAR) AS order_id_string\n",
    "FROM orders"
   ]
  },
  {
   "cell_type": "code",
   "execution_count": null,
   "id": "30420e32-3b4c-47e2-8cf6-eff66462feda",
   "metadata": {},
   "outputs": [],
   "source": [
    "SELECT price, \n",
    "-- Convert price to NUMBER data type\n",
    "price::NUMBER AS price_dollars\n",
    "FROM pizzas"
   ]
  },
  {
   "cell_type": "markdown",
   "id": "1dd67d4c-b9eb-45f5-b66a-f1e77b392815",
   "metadata": {},
   "source": [
    "## Functions, sorting, and grouping"
   ]
  },
  {
   "cell_type": "code",
   "execution_count": null,
   "id": "a570948c-0002-4ac6-9402-7881de0bfec8",
   "metadata": {},
   "outputs": [],
   "source": [
    "String functions - INITCAP \n",
    "Syntax: INITCAP( <expr> )\n",
    "Capitalize each word in a string\n",
    "\n",
    "SELECT INITCAP(category) AS capitalized_category FROM pizza_type"
   ]
  },
  {
   "cell_type": "code",
   "execution_count": null,
   "id": "60a8f7fb-2b58-4715-b8b6-8cf26d67d071",
   "metadata": {},
   "outputs": [],
   "source": [
    "String functions - CONCAT \n",
    "Combines the expressions\n",
    "Syntax:CONCAT( <expr1> [ , <exprN> ... ] )\n",
    "\n",
    "SELECT CONCAT(category, ' - Pizza') AS pizza_category FROM pizza_type"
   ]
  },
  {
   "cell_type": "code",
   "execution_count": null,
   "id": "5b6da773-7bd6-468e-b05e-a28f49eb4901",
   "metadata": {},
   "outputs": [],
   "source": [
    "DATE & TIME functions\n",
    "CURRENT_DATE() or CURRENT_DATE \n",
    "CURRENT_TIME() or CURRENT_TIME\n",
    "\n",
    "SELECT CURRENT_DATE\n",
    "SELECT CURRENT_TIME"
   ]
  },
  {
   "cell_type": "code",
   "execution_count": null,
   "id": "8fd73484-8192-4087-ad92-bc6784a4d280",
   "metadata": {},
   "outputs": [],
   "source": [
    "EXTRACT \n",
    "Syntax EXTRACT( <date_or_time_part> FROM <date_or_time_expr> ) \n",
    "<date_or_time_part> - year, month, day, weekday, etc."
   ]
  },
  {
   "cell_type": "code",
   "execution_count": null,
   "id": "3b465331-bca8-4a46-a7d0-6dcaee63b85d",
   "metadata": {},
   "outputs": [],
   "source": [
    "SELECT EXTRACT(MONTH FROM order_date) AS order_month,\n",
    "COUNT(*) AS num_orders \n",
    "FROM orders \n",
    "GROUP BY order_month"
   ]
  },
  {
   "cell_type": "code",
   "execution_count": null,
   "id": "c56dbeab-4a20-4b33-8464-5589a5d37bd6",
   "metadata": {},
   "outputs": [],
   "source": [
    "SORTING and GROUPING \n",
    "SORTING: ORDER BY \n",
    "GROUPING: GROUP BY\n",
    "Snowflake: GROUP BY ALL"
   ]
  },
  {
   "cell_type": "code",
   "execution_count": null,
   "id": "dc280659-2ff5-4de1-93ee-950316f8c38e",
   "metadata": {},
   "outputs": [],
   "source": [
    "SELECT pizza_type_id, size, AVG(price) AS average_price\n",
    "FROM pizzas\n",
    "GROUP BY pizza_type_id, size -- explicit columns \n",
    "ORDER BY pizza_type_id, average_price DESC"
   ]
  },
  {
   "cell_type": "code",
   "execution_count": null,
   "id": "1e3f936e-0b78-46f1-a865-5dac4913bf9e",
   "metadata": {},
   "outputs": [],
   "source": [
    "Group By All\n",
    "SELECT pizza_type_id, size, AVG(price) AS average_price\n",
    "FROM pizzas \n",
    "GROUP BY ALL -- Don't specify columns \n",
    "ORDER BY pizza_type_id, average_price DESC"
   ]
  },
  {
   "cell_type": "markdown",
   "id": "91912050-0158-4357-9a77-0c2c6fa11ddd",
   "metadata": {},
   "source": [
    "### String functions\n",
    "Having recently mastered some Snowflake SQL string functions, you're ready to put them into practice using Pissa's database!"
   ]
  },
  {
   "cell_type": "code",
   "execution_count": null,
   "id": "c15a7952-6105-426c-a499-7be75e7c1628",
   "metadata": {},
   "outputs": [],
   "source": [
    "-- Capitalize each word in pizza_type_id\n",
    "SELECT INITCAP(pizza_type_id) AS capitalized_pizza_id \n",
    "FROM pizza_type;"
   ]
  },
  {
   "cell_type": "code",
   "execution_count": null,
   "id": "a336d8ca-4519-4318-98eb-af53cdcf10fb",
   "metadata": {},
   "outputs": [],
   "source": [
    "-- Combine the name and category columns\n",
    "SELECT CONCAT(name, ' - ', category) AS name_and_category\n",
    "FROM pizza_type"
   ]
  },
  {
   "cell_type": "markdown",
   "id": "7bc91c8c-33af-40ab-adea-508156b6ac81",
   "metadata": {},
   "source": [
    "### DATE & TIME\n",
    "As a Data Engineer at Pissa, you are now focusing on timestamp-related columns in their raw pizzas data.\n",
    "\n",
    "Use your knowledge of date and time functions to accomplish the tasks."
   ]
  },
  {
   "cell_type": "code",
   "execution_count": null,
   "id": "6b5215eb-0bd2-4c9b-86b3-960bfa430ee4",
   "metadata": {},
   "outputs": [],
   "source": [
    "-- Select the current date, current time\n",
    "SELECT CURRENT_DATE, CURRENT_TIME"
   ]
  },
  {
   "cell_type": "code",
   "execution_count": null,
   "id": "59f29192-cc70-4844-856c-876bd70278fe",
   "metadata": {},
   "outputs": [],
   "source": [
    "-- Count the number of orders per day\n",
    "SELECT COUNT(*) AS orders_per_day, \n",
    "-- Extract the day of the week and alias to order_day\n",
    "\tEXTRACT(WEEKDAY FROM order_date) AS order_day\n",
    "FROM orders\n",
    "GROUP BY order_day\n",
    "ORDER BY orders_per_day DESC"
   ]
  },
  {
   "cell_type": "markdown",
   "id": "c6469ac3-0527-479f-836f-24ee8f80820a",
   "metadata": {},
   "source": [
    "### Functions & Grouping\n",
    "You're examining pizza order details at Pissa. The team is interested in investigating revenue generated by different pizza sizes per month.\n",
    "\n",
    "Complete the query using your knowledge of aggregate functions, sorting, and grouping to support the team with their analysis."
   ]
  },
  {
   "cell_type": "code",
   "execution_count": null,
   "id": "ffc7cece-8f4b-4f19-b9cc-42188af05139",
   "metadata": {},
   "outputs": [],
   "source": [
    "-- Get the month from order_date\n",
    "SELECT EXTRACT(MONTH FROM order_date) AS order_month, \n",
    "    p.pizza_size, \n",
    "    -- Calculate revenue\n",
    "    SUM(p.price * od.quantity) AS revenue\n",
    "FROM orders o\n",
    "INNER JOIN order_details od USING(order_id)\n",
    "INNER JOIN pizzas p USING(pizza_id)\n",
    "-- Appropriately group the query\n",
    "GROUP BY order_month, p.pizza_size\n",
    "-- Sort by revenue in descending order\n",
    "ORDER BY order_month, p.pizza_size"
   ]
  },
  {
   "cell_type": "code",
   "execution_count": null,
   "id": "25ce3724-84e3-4fd1-8bfd-756c8fa806a5",
   "metadata": {},
   "outputs": [],
   "source": [
    "-- Get the month from order_date\n",
    "SELECT EXTRACT(MONTH FROM order_date) AS order_month, \n",
    "    p.pizza_size, \n",
    "    -- Calculate revenue\n",
    "    SUM(p.price * od.quantity) AS revenue\n",
    "FROM orders o\n",
    "INNER JOIN order_details od USING(order_id)\n",
    "INNER JOIN pizzas p USING(pizza_id)\n",
    "-- Appropriately group the query \n",
    "GROUP BY ALL\n",
    "-- Sort by revenue in descending order\n",
    "ORDER BY revenue DESC;"
   ]
  },
  {
   "cell_type": "code",
   "execution_count": null,
   "id": "d589ade0-93a6-4496-8d37-28dec6148c88",
   "metadata": {},
   "outputs": [],
   "source": []
  }
 ],
 "metadata": {
  "kernelspec": {
   "display_name": "Python 3 (ipykernel)",
   "language": "python",
   "name": "python3"
  },
  "language_info": {
   "codemirror_mode": {
    "name": "ipython",
    "version": 3
   },
   "file_extension": ".py",
   "mimetype": "text/x-python",
   "name": "python",
   "nbconvert_exporter": "python",
   "pygments_lexer": "ipython3",
   "version": "3.9.13"
  }
 },
 "nbformat": 4,
 "nbformat_minor": 5
}
