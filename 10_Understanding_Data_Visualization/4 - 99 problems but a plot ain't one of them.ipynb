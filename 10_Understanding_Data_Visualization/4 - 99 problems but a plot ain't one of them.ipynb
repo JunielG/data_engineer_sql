{
 "cells": [
  {
   "cell_type": "markdown",
   "id": "83aa9bc5-ce0e-4ded-b15d-38fe07ac791c",
   "metadata": {},
   "source": [
    "# 1 - Polar coordinates"
   ]
  },
  {
   "cell_type": "markdown",
   "id": "42776642-6ddf-45a7-a6a2-85bdb0b886d6",
   "metadata": {},
   "source": [
    "#### When should you use polar coordinates?\n",
    "- Almost never.\n",
    "- If you have a variable that is naturally circular (time of day, compass direction).\n"
   ]
  },
  {
   "cell_type": "markdown",
   "id": "12fd8c95-0cc6-4e40-ace7-b22a1a6433e8",
   "metadata": {},
   "source": [
    "# 2 - Axes of evil "
   ]
  },
  {
   "cell_type": "markdown",
   "id": "e1a8b65c-b5b5-4af8-a50f-77548a2a7e38",
   "metadata": {},
   "source": [
    "# 3 - Sensory overload"
   ]
  },
  {
   "cell_type": "markdown",
   "id": "772ec9d6-f556-45e8-a0f3-3fb29a284972",
   "metadata": {},
   "source": [
    "#### Measures of a good visualization\n",
    "- How many interesting insights can your reader get from the plot?\n",
    "- How quickly can they get those insights?\n"
   ]
  },
  {
   "cell_type": "markdown",
   "id": "50dd218c-dff8-4372-be89-a6ae035f7135",
   "metadata": {},
   "source": [
    "#### Chartjunk\n",
    "##### Any element of the plot that distracts from the reader getting insight\n",
    "- Pictures\n",
    "- Skueomorphism: reflections, shadows, etc.\n",
    "- Extra dimensions\n",
    "- Ostentatious colors or lines\n"
   ]
  },
  {
   "cell_type": "code",
   "execution_count": null,
   "id": "e4ded109-cfcc-4263-9b85-4b845f545d34",
   "metadata": {},
   "outputs": [],
   "source": []
  },
  {
   "cell_type": "code",
   "execution_count": null,
   "id": "c0dd483e-a9b1-44e5-b781-ffa6907fc187",
   "metadata": {},
   "outputs": [],
   "source": []
  }
 ],
 "metadata": {
  "kernelspec": {
   "display_name": "Python 3 (ipykernel)",
   "language": "python",
   "name": "python3"
  },
  "language_info": {
   "codemirror_mode": {
    "name": "ipython",
    "version": 3
   },
   "file_extension": ".py",
   "mimetype": "text/x-python",
   "name": "python",
   "nbconvert_exporter": "python",
   "pygments_lexer": "ipython3",
   "version": "3.13.0"
  }
 },
 "nbformat": 4,
 "nbformat_minor": 5
}
