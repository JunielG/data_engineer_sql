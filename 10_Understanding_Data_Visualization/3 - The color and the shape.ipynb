{
 "cells": [
  {
   "cell_type": "markdown",
   "id": "343c3cb8-f893-445d-962d-2a55d40ae716",
   "metadata": {},
   "source": [
    "# 1 - Higher dimensions"
   ]
  },
  {
   "cell_type": "markdown",
   "id": "0ef33519-0d4c-418f-b18f-6521a0a35efe",
   "metadata": {},
   "source": [
    "#### x and y are not the only dimensions\n",
    "Points also have these dimensions\n",
    "- color\n",
    "- size\n",
    "- transparency\n",
    "- shape\n"
   ]
  },
  {
   "cell_type": "markdown",
   "id": "6c433acf-dfc9-4b32-bcdf-4180b973568e",
   "metadata": {},
   "source": [
    "#### Other dimensions for line plots\n",
    "- color\n",
    "- thickness\n",
    "- transparency\n",
    "- line type (solid, dashes, dots)\n"
   ]
  },
  {
   "cell_type": "markdown",
   "id": "e7dd097c-63af-4b4e-8ef1-79acce46856c",
   "metadata": {},
   "source": [
    "# 2 - Using color"
   ]
  },
  {
   "cell_type": "markdown",
   "id": "747d159b-cd12-42c3-b2d9-8d649a66b241",
   "metadata": {},
   "source": [
    "#### Colorspaces: Red-Green-Blue \n",
    "#### Colorspaces: Cyan-Magenta-Yellow-blacK\n"
   ]
  },
  {
   "cell_type": "markdown",
   "id": "d790c813-e779-44e2-ab65-a04e9dd9baf6",
   "metadata": {},
   "source": [
    "#### Choosing a plotting palette \n",
    "- Usually, each color should stand out asmuch as other colors.\n",
    "- The perceptual distance from one color inthe plot to the next should be constant.\n"
   ]
  },
  {
   "cell_type": "markdown",
   "id": "241847fa-eb98-49df-9377-5644d858d0a2",
   "metadata": {},
   "source": [
    "#### Colorspaces: Hue-Chroma-Luminance\n"
   ]
  },
  {
   "cell_type": "markdown",
   "id": "43224def-c6bb-476a-9460-b0ce9d2b04d4",
   "metadata": {},
   "source": [
    "#### Three types of color scale: qualitative\n",
    "Type                  Purpose                            What to vary\\\n",
    "qualitative           Distinguish unordered categories   hue\n",
    "#### Three types of color scale: sequential\n",
    "Type                  Purpose                            What to vary   \n",
    "sequential            Show ordering                      chroma or luminance\n",
    "#### Three types of color scale: diverging\n",
    "Type                  Purpose                            What to vary\\\n",
    "diverging             Show above or below a midpoint     chroma or luminance, with 2 hues\n"
   ]
  },
  {
   "cell_type": "markdown",
   "id": "26bf4ae5-6414-4fbc-a293-b516f02cd9b0",
   "metadata": {},
   "source": [
    "#### Green Tech in Malaysia survey dataset\n",
    "question                       response                        n                \n",
    "Uses reliable and repairable   Strongly Disagree               4\\\n",
    "Uses reliable and repairable   Disagree                        8\\\n",
    "Uses reliable and repairable   Neutral                         37\\\n",
    "Uses reliable and repairable   Agree                           52\\\n",
    "Uses reliable and repairable   Strongly Agree                  26........."
   ]
  },
  {
   "cell_type": "markdown",
   "id": "8300d61a-3b16-4045-bfd4-113850e35e11",
   "metadata": {},
   "source": [
    "# 3 - Plotting many variables at once"
   ]
  },
  {
   "cell_type": "markdown",
   "id": "05de62c9-572d-4efd-bb6e-fee98b07a79f",
   "metadata": {},
   "source": [
    "#### When should you use a pair plot?\n",
    "- You have up to ten variables (either continuous, categorical, or a mix).\n",
    "- You want to see the distribution for each variable.\n",
    "- You want to see the relationship between each pair of variables.\n"
   ]
  },
  {
   "cell_type": "markdown",
   "id": "92dd1084-ad51-43f5-a7a8-28e501f8a0e4",
   "metadata": {},
   "source": [
    "#### When should you use a correlation heatmap?\n",
    "- You have lots of continuous variables.\n",
    "- You want to a simple overview of how each pair of variables is related.\n"
   ]
  },
  {
   "cell_type": "markdown",
   "id": "827871c3-9576-455c-8245-73ec83f682c4",
   "metadata": {},
   "source": [
    "#### When should you use a parallel coordinates plot?\n",
    "- You have lots of continuous variables.\n",
    "- You want to find patterns across these variables, or\n",
    "- You want to visualize clusters of observations.\n"
   ]
  },
  {
   "cell_type": "code",
   "execution_count": null,
   "id": "e6c741c9-c3b3-4e03-9fd0-1928a36bb213",
   "metadata": {},
   "outputs": [],
   "source": []
  },
  {
   "cell_type": "code",
   "execution_count": null,
   "id": "5c77371f-8c36-4946-9fb5-5288e4cf70ce",
   "metadata": {},
   "outputs": [],
   "source": []
  },
  {
   "cell_type": "code",
   "execution_count": null,
   "id": "65a3916f-e0e8-45b4-903c-aa6ee02fb823",
   "metadata": {},
   "outputs": [],
   "source": []
  },
  {
   "cell_type": "code",
   "execution_count": null,
   "id": "f424cf7a-7b4a-4149-9d4d-51495b00c978",
   "metadata": {},
   "outputs": [],
   "source": []
  }
 ],
 "metadata": {
  "kernelspec": {
   "display_name": "Python 3 (ipykernel)",
   "language": "python",
   "name": "python3"
  },
  "language_info": {
   "codemirror_mode": {
    "name": "ipython",
    "version": 3
   },
   "file_extension": ".py",
   "mimetype": "text/x-python",
   "name": "python",
   "nbconvert_exporter": "python",
   "pygments_lexer": "ipython3",
   "version": "3.13.0"
  }
 },
 "nbformat": 4,
 "nbformat_minor": 5
}
