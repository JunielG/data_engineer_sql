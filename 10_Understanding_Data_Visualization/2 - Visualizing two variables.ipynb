{
 "cells": [
  {
   "cell_type": "markdown",
   "id": "cf5a76b7-b7eb-499e-bed1-0f36f9a8d656",
   "metadata": {},
   "source": [
    "# 1 - Scatter plots"
   ]
  },
  {
   "cell_type": "markdown",
   "id": "e1097fcd-dde7-4769-a61c-3035bfd64d0b",
   "metadata": {},
   "source": [
    "#### When should you use a scatter plot?\n",
    "1. You have two continuous variables.\n",
    "2. You want to answer questions about the relationship between the two variables.\n"
   ]
  },
  {
   "cell_type": "markdown",
   "id": "ba2b2b9f-4f4a-4e7f-841c-369215133fa8",
   "metadata": {},
   "source": [
    "#### Correlation\n",
    "- How close are you to being able to fit a straight line through the points?\n",
    "- Sometimes correlation isn't helpful\n"
   ]
  },
  {
   "cell_type": "markdown",
   "id": "09290d1b-c4a4-4d3c-9067-b9b55a236da6",
   "metadata": {},
   "source": [
    "#### Adding trend lines\n",
    "#### Adding smooth trend lines\n"
   ]
  },
  {
   "cell_type": "markdown",
   "id": "e9a32a6e-ebe6-4e24-b8d3-0be403e4377c",
   "metadata": {},
   "source": [
    "# 2 - Line plots"
   ]
  },
  {
   "cell_type": "markdown",
   "id": "c1635125-cc10-446f-a738-92e7383d5464",
   "metadata": {},
   "source": [
    "#### When should you use a line plot?\n",
    "1. You have two continuous variables.\n",
    "2. You want to answer questions about their relationship.\n",
    "3. Consecutive observations are connected somehow.\n",
    "- Usually, but not always, the x-axis is dates or times.\n"
   ]
  },
  {
   "cell_type": "markdown",
   "id": "d207615a-0c30-4203-b5a9-4c0fe1368fe1",
   "metadata": {},
   "source": [
    "# 3 - Bar plots"
   ]
  },
  {
   "cell_type": "markdown",
   "id": "3aa91b1f-12cf-4f87-93bd-73b5ed5bcd28",
   "metadata": {},
   "source": [
    "#### When should you use a bar plot?\n",
    "Most common cases:\n",
    "1. You have a categorical variable.\n",
    "2. You want counts or percentages for each category.\\\n",
    "Occasionally:\n",
    "1. You want another numeric score for each category, and need to include zero in the plot.\\\n",
    "When will I, will I be famous?\\\n",
    "I can't answer, I can't answer that\\\n",
    "Bros – \"When will I be famous?\"\n"
   ]
  },
  {
   "cell_type": "markdown",
   "id": "f7dcb710-f7a0-411d-9fa6-40c6179df340",
   "metadata": {},
   "source": [
    "### ESPN 100 most famous athletes from 2017\n",
    "Rank         Last Name        First Name         Sport         Country\\\n",
    "1            Ronaldo          Cristiano          Soccer        Portugal\\\n",
    "2            James            LeBron           Basketball      USA\\\n",
    "3            Messi            Lionel             Soccer        Argentina\\\n",
    "4            Federer          Roger              Tennis        Switzerland\\\n",
    "5            Mickelson        Phil               Golf          USA"
   ]
  },
  {
   "cell_type": "markdown",
   "id": "ba7922e2-e986-4bd6-8206-c68a41355767",
   "metadata": {},
   "source": [
    "### Children's fruit and veg consumption\n",
    "n_portions           year                pct_children\\\n",
    "n = 0                2001                10.921779\\\n",
    "n < 1                2001                3.843093\\\n",
    "1 <= n < 2           2001                23.659102\\\n",
    "...                  ...                 ...\\\n",
    "4 <= n < 5           2018                12.28728\\\n",
    "5 <= n               2018                17.87497"
   ]
  },
  {
   "cell_type": "markdown",
   "id": "b265a0a4-4da0-4b81-a6b5-a579a95886f2",
   "metadata": {},
   "source": [
    "# 4 - Dot plots"
   ]
  },
  {
   "cell_type": "markdown",
   "id": "bef79a52-07eb-47fa-98f7-cf1eff97ebfa",
   "metadata": {},
   "source": [
    "### When should you use a dot plot?\n",
    "1. You have a categorical variable.\n",
    "2. You want to display numeric scores for each category on a log scale, or\n",
    "3. You want to display multiple numeric scores for each category.\n"
   ]
  },
  {
   "cell_type": "markdown",
   "id": "a2ed8d7b-ab0d-47d0-8161-0ca5788e942a",
   "metadata": {},
   "source": [
    "### Nearby stars and brown dwarfs\n",
    "star                  distance_ly                  mass_sm\\\n",
    "The Sun               0.0000158                    1.0000\\\n",
    "Proxima Centauri      4.2441000                    0.1221\\\n",
    "Alpha Centauri A      4.3650000                    1.1000\\\n",
    "Alpha Centauri B      4.3650000                    0.9070\\\n",
    "Barnard's Star        5.9577000                    0.1040\\\n",
    "Luhman 16 A           6.5029000                    0.0320\\\n",
    "...                   ...                          ...\n"
   ]
  },
  {
   "cell_type": "code",
   "execution_count": null,
   "id": "d7abf049-0c2a-4626-9894-4ce65fa53a6e",
   "metadata": {},
   "outputs": [],
   "source": []
  },
  {
   "cell_type": "code",
   "execution_count": null,
   "id": "b224b26a-5e17-485e-87ce-ec26c93bb865",
   "metadata": {},
   "outputs": [],
   "source": []
  }
 ],
 "metadata": {
  "kernelspec": {
   "display_name": "Python 3 (ipykernel)",
   "language": "python",
   "name": "python3"
  },
  "language_info": {
   "codemirror_mode": {
    "name": "ipython",
    "version": 3
   },
   "file_extension": ".py",
   "mimetype": "text/x-python",
   "name": "python",
   "nbconvert_exporter": "python",
   "pygments_lexer": "ipython3",
   "version": "3.13.0"
  }
 },
 "nbformat": 4,
 "nbformat_minor": 5
}
