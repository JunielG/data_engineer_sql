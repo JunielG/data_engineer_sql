{
 "cells": [
  {
   "cell_type": "code",
   "execution_count": 1,
   "id": "c803eed0-2a73-48ab-b2fb-a5c1735b61eb",
   "metadata": {},
   "outputs": [],
   "source": [
    "import pandas as pd\n",
    "import sqlite3 as sql\n",
    "from pandasql import sqldf"
   ]
  },
  {
   "cell_type": "markdown",
   "id": "bd1cd9c5-d092-483a-957d-378c604cd238",
   "metadata": {},
   "source": [
    "# 1 - A plot tells a thousand words"
   ]
  },
  {
   "cell_type": "markdown",
   "id": "f102fb3d-860f-4910-aadc-4abdafead1f8",
   "metadata": {},
   "source": [
    "#### What you'll learn\n",
    "- How do you choose an appropriate plot?\n",
    "- How do you interpret common types of plots?\n",
    "- What are best practices for drawing plots?\n"
   ]
  },
  {
   "cell_type": "markdown",
   "id": "030599d7-007c-46e2-b868-f4cfa2386b8f",
   "metadata": {},
   "source": [
    "### Three ways of getting insights\n",
    "#### Calculating summary statistics\n",
    "- mean, median, standard deviation\n",
    "#### Running models\n",
    "- linear and logistic regression\n",
    "#### Drawing plots\n",
    "- scatter, bar, histogram\n"
   ]
  },
  {
   "cell_type": "markdown",
   "id": "7ed608cb-5a4d-4484-9fe2-5a75b39f4512",
   "metadata": {},
   "source": [
    "### Mean of x for each dataset \n",
    "- dataset mean(x)\\\n",
    "away 54.27 \\\n",
    "bullseye 54.27  \\\n",
    "circle 54.27 \\\n",
    "dino 54.26 \\\n",
    "dots 54.26\\\n",
    "h_lines 54.26  \\\n",
    "high_lines 54.27\n",
    "\n",
    "- dataset mean(x) \\\n",
    "slant_down 54.27\\\n",
    "slant_up 54.27\\\n",
    "star 54.27\\\n",
    "v_lines 54.27\\\n",
    "wide_lines 54.27\\\n",
    "x_shape 54.26\n"
   ]
  },
  {
   "cell_type": "markdown",
   "id": "9397b26a-0359-4be6-a1fe-afed01792408",
   "metadata": {},
   "source": [
    "#### Continuous and categorical variables\n",
    "Continuous: usually numbers\n",
    "- heights, temperatures, revenues\n"
   ]
  },
  {
   "cell_type": "markdown",
   "id": "f4381c27-f3c6-44a3-b6e8-b53d385ea7f0",
   "metadata": {},
   "source": [
    "#### Continuous and categorical variables\n",
    "Continuous: usually numbers\n",
    "- heights, temperatures, revenues\\\n",
    "Categorical: usually text\n",
    "- eye colors, countries, industry\n"
   ]
  },
  {
   "cell_type": "markdown",
   "id": "73e1c90f-328c-4605-bf18-a70516a6153f",
   "metadata": {},
   "source": [
    "#### Continuous and categorical variables\n",
    "##### Continuous: usually numbers\n",
    "- heights, temperatures, revenues\n",
    "\n",
    "##### Categorical: usually text\n",
    "- eye colors, countries, industry\n",
    "\n",
    "##### Can be either\n",
    "- age is continuous, but age group is categorical\n",
    "- time is continuous, month of year is categorical\n"
   ]
  },
  {
   "cell_type": "markdown",
   "id": "c9dc7400-c4e9-440d-9ee6-db99cd8fe918",
   "metadata": {},
   "source": [
    "# 2 - Histograms"
   ]
  },
  {
   "cell_type": "markdown",
   "id": "552bc7e4-47bc-43a3-9642-b0bfb0b39b04",
   "metadata": {},
   "source": [
    "#### When should you use a histogram?\n",
    "1. If you have a single continuous variable.\n",
    "2. You want to ask questions about the shape of its distribution.\n"
   ]
  },
  {
   "cell_type": "markdown",
   "id": "c47901c1-9d3e-4a8a-bc26-bd75e1abdb05",
   "metadata": {},
   "source": [
    "# 3 - Box plots"
   ]
  },
  {
   "cell_type": "markdown",
   "id": "5dc9ac8a-1b14-4f3e-844a-9a646b0acf7f",
   "metadata": {},
   "source": [
    "- You can't just color in histograms\n",
    "- Draw each histogram in its own panel"
   ]
  },
  {
   "cell_type": "markdown",
   "id": "5b1b3cc4-384c-469c-9999-0efd1f75df09",
   "metadata": {},
   "source": [
    "#### When should you use a box plot?\n",
    "1. When you have a continuous variable, split by a categorical variable.\n",
    "2. When you want to compare the distributions of the continuous variable for each category.\n"
   ]
  },
  {
   "cell_type": "code",
   "execution_count": null,
   "id": "605426c4-6ec7-4e52-b535-63066efd96a8",
   "metadata": {},
   "outputs": [],
   "source": []
  },
  {
   "cell_type": "code",
   "execution_count": null,
   "id": "b7dc3603-d1e0-47c2-9339-11e4aa492cb8",
   "metadata": {},
   "outputs": [],
   "source": []
  }
 ],
 "metadata": {
  "kernelspec": {
   "display_name": "Python 3 (ipykernel)",
   "language": "python",
   "name": "python3"
  },
  "language_info": {
   "codemirror_mode": {
    "name": "ipython",
    "version": 3
   },
   "file_extension": ".py",
   "mimetype": "text/x-python",
   "name": "python",
   "nbconvert_exporter": "python",
   "pygments_lexer": "ipython3",
   "version": "3.13.0"
  }
 },
 "nbformat": 4,
 "nbformat_minor": 5
}
