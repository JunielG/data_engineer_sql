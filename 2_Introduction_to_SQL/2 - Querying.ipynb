{
 "cells": [
  {
   "cell_type": "markdown",
   "id": "0965eedf-e151-4f2b-8346-13d76529cf33",
   "metadata": {},
   "source": [
    "# Introducing queries"
   ]
  },
  {
   "cell_type": "markdown",
   "id": "3bd0aa84-eb91-4e86-a541-267d890b868b",
   "metadata": {},
   "source": [
    "# Querying the books table\n",
    "You're ready to practice writing your first SQL queries using the SELECT and FROM keywords. Recall from the video that SELECT is used to choose the fields that will be included in the result set, while FROM is used to pick the table in which the fields are listed.\\\n",
    "Feel free to explore books in the exercise.\\\n",
    "Your task in this exercise is to practice selecting fields from books."
   ]
  },
  {
   "cell_type": "markdown",
   "id": "cc40ef2e-1145-4bab-937a-7bc8ce8e3cab",
   "metadata": {},
   "source": [
    "- Return all titles from the books table\\\n",
    "SELECT books.title\\\n",
    "FROM books;"
   ]
  },
  {
   "cell_type": "markdown",
   "id": "5e89e3da-507a-4eb6-98a9-b04e2da5fba2",
   "metadata": {},
   "source": [
    "- Select title and author from the books table\\\n",
    "SELECT title, author\\\n",
    "FROM books;"
   ]
  },
  {
   "cell_type": "markdown",
   "id": "cfd7e61a-3cb6-40bb-a316-c053334ed257",
   "metadata": {},
   "source": [
    "- Select all fields from the books table\\\n",
    "SELECT *\\\n",
    "FROM books;"
   ]
  },
  {
   "cell_type": "markdown",
   "id": "f1e54812-77ea-4475-b0f0-44e67a411510",
   "metadata": {},
   "source": [
    "- Well done! You've mastered your first two SQL keywords. The more keywords you know, the more complex SQL queries you'll be able to write!"
   ]
  },
  {
   "cell_type": "markdown",
   "id": "af551692-183b-4f0a-871f-45b51f85dcca",
   "metadata": {},
   "source": [
    "# Writing queries"
   ]
  },
  {
   "cell_type": "markdown",
   "id": "dafffbe6-8b96-49cf-92db-d8b39ad768cc",
   "metadata": {},
   "source": [
    "# Making queries DISTINCT\n",
    "You've learned that the DISTINCT keyword can be used to return unique values in a field. In this exercise, you'll use this understanding to find out more about the books table!\\\n",
    "There are 350 books in the books table, representing all of the books that our local library has available for checkout. But how many different authors are represented in these 350 books? The answer is surely less than 350. For example, J.K. Rowling wrote all seven Harry Potter books, so if our library has all Harry Potter books, seven books will be written by J.K Rowling. There are likely many more repeat authors!"
   ]
  },
  {
   "cell_type": "markdown",
   "id": "e4124be7-fe02-42e9-b2f6-e14a0895b45b",
   "metadata": {},
   "source": [
    "- Select unique authors from the books table\\\n",
    "SELECT DISTINCT books.author\\\n",
    "FROM books;"
   ]
  },
  {
   "cell_type": "markdown",
   "id": "fd25e215-2e6c-4adf-8583-8954db6d9ab2",
   "metadata": {},
   "source": [
    "- Select unique authors and genre combinations from the books table\\\n",
    "SELECT DISTINCT books.author, books.genre\\\n",
    "FROM books;"
   ]
  },
  {
   "cell_type": "markdown",
   "id": "56bfc775-c21b-4167-9076-934cda76e20c",
   "metadata": {},
   "source": [
    "- You've passed this exercise with DISTINCTion! Notice that you found 247 unique authors in the books table overall but 249 unique combinations of authors and genres. This means there are one or two authors who have written books in multiple genres!"
   ]
  },
  {
   "cell_type": "markdown",
   "id": "ffffdbfa-a3a8-4a47-90bf-3dcc8afae5cf",
   "metadata": {},
   "source": [
    "# Aliasing\n",
    "While the default column names in a SQL result set come from the fields they are created from, you've learned that aliasing can be used to rename these result set columns. This can be helpful for clarifying the intent or contents of the column.\\\n",
    "Your task in this exercise is to incorporate an alias into one of the SQL queries that you worked with in the previous exercise!"
   ]
  },
  {
   "cell_type": "markdown",
   "id": "7da6b1e2-4fb8-4cc6-a66c-130aa6545040",
   "metadata": {},
   "source": [
    "- Alias author so that it becomes unique_author\\\n",
    "SELECT DISTINCT author AS unique_author\\\n",
    "FROM books;"
   ]
  },
  {
   "cell_type": "markdown",
   "id": "30df5e39-dbaa-4a5f-b89a-2a0c63e1b111",
   "metadata": {},
   "source": [
    "- It's AS easy AS that! Great work. The alias you just implemented makes it clear that only unique authors are listed in the results and that there are no duplicates. This is clear even to someone who is reading only the result set and does not know the SQL code behind the results."
   ]
  },
  {
   "cell_type": "markdown",
   "id": "e015491c-cebd-4468-a05b-c61b57157dbc",
   "metadata": {},
   "source": [
    "# VIEWing your query\n",
    "You've worked hard to create the below SQL query:\\\n",
    "SELECT DISTINCT author AS unique_author\\\n",
    "FROM books;\\\n",
    "What if you'd like to be able to refer to it later, or allow others to access and use the results? The best way to do this is by creating a view. Recall that a view is a virtual table: it's very similar to a real table, but rather than the data itself being stored, the query code is stored for later use."
   ]
  },
  {
   "cell_type": "markdown",
   "id": "c82f183d-7649-4c46-876a-8def8a232cc1",
   "metadata": {},
   "source": [
    "- Your code to create the view:\\\n",
    "CREATE VIEW library_authors AS\\\n",
    "SELECT DISTINCT author AS unique_author\\\n",
    "FROM books;"
   ]
  },
  {
   "cell_type": "markdown",
   "id": "fd63a9ae-2306-47b1-97bb-61f6c55551e8",
   "metadata": {},
   "source": [
    "- Select all columns from library_authors\\\n",
    "SELECT * \\\n",
    "FROM library_authors"
   ]
  },
  {
   "cell_type": "markdown",
   "id": "740d4eb5-f1c9-4ea6-8413-bca5059be496",
   "metadata": {},
   "source": [
    "- Amazing! As your SQL queries become long and complex, you'll want to be able to save your queries for referencing later. Views can also be useful when the information contained in a database table isn't quite what you need. You can create your own custom view with exactly the information you are looking for, without needing to edit the database itself, which you may not have permission to do. Creating views is a valuable skill to have, and you've mastered it!"
   ]
  },
  {
   "cell_type": "markdown",
   "id": "de55dbb6-1c0a-4b8d-a1ae-64cf61d9e90d",
   "metadata": {},
   "source": [
    "# SQL flavors"
   ]
  },
  {
   "cell_type": "markdown",
   "id": "6561470c-e620-4f7a-88ab-fb130163e26c",
   "metadata": {},
   "source": [
    "# Limiting results\n",
    "Let's take a look at a few of the genres represented in our library's books.\\\n",
    "Recall that limiting results is useful when testing code since result sets can have thousands of results! Queries are often written with a LIMIT of just a few records to test out code before selecting thousands of results from the database.\\\n",
    "Let's practice with LIMIT!"
   ]
  },
  {
   "cell_type": "markdown",
   "id": "e6b121a1-1e69-4be3-8a41-923a093fba4f",
   "metadata": {},
   "source": [
    "- Select the first 10 genres from books using PostgreSQL\\\n",
    "SELECT books.genre\\\n",
    "FROM books\\\n",
    "LIMIT 10"
   ]
  },
  {
   "cell_type": "code",
   "execution_count": null,
   "id": "3552474c-9d9b-485b-b0ac-26e3d9a1d62e",
   "metadata": {},
   "outputs": [],
   "source": []
  },
  {
   "cell_type": "code",
   "execution_count": null,
   "id": "e77b17ee-179b-489c-894e-3d61507b243e",
   "metadata": {},
   "outputs": [],
   "source": []
  }
 ],
 "metadata": {
  "kernelspec": {
   "display_name": "Python 3 (ipykernel)",
   "language": "python",
   "name": "python3"
  },
  "language_info": {
   "codemirror_mode": {
    "name": "ipython",
    "version": 3
   },
   "file_extension": ".py",
   "mimetype": "text/x-python",
   "name": "python",
   "nbconvert_exporter": "python",
   "pygments_lexer": "ipython3",
   "version": "3.11.8"
  }
 },
 "nbformat": 4,
 "nbformat_minor": 5
}
