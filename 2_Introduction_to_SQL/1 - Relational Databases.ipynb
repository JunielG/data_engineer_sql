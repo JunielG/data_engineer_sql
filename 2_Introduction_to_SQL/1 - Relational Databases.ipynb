{
 "cells": [
  {
   "cell_type": "markdown",
   "id": "cfad94cf-9f7b-41e6-89a5-7dc02ed3ac4b",
   "metadata": {},
   "source": [
    "# Introduction to SQL"
   ]
  },
  {
   "cell_type": "markdown",
   "id": "9aac75dc-e182-45e9-b41f-9cee9f3208b0",
   "metadata": {},
   "source": [
    "- Before writing any SQL queries, it’s important to understand the underlying data. In this chapter, we’ll discover the role of SQL in creating and querying relational databases. Using a database for a local library, we will explore database and table organization, data types and storage, and best practices for database construction.\n"
   ]
  },
  {
   "cell_type": "markdown",
   "id": "ee07c170-ed78-4cd8-824d-f5123abb7ff2",
   "metadata": {},
   "source": [
    "# Databases"
   ]
  },
  {
   "cell_type": "code",
   "execution_count": null,
   "id": "7d4042d2-c70a-429a-b44a-fc5d7b6ccab6",
   "metadata": {},
   "outputs": [],
   "source": []
  },
  {
   "cell_type": "markdown",
   "id": "6d3006e1-5ac1-40ac-a97c-b9535425c18e",
   "metadata": {},
   "source": [
    "# Tables\n",
    "A seat at the table\\\n",
    "• Table rows and columns are referred to as records and fields"
   ]
  },
  {
   "cell_type": "markdown",
   "id": "1ab4958a-d89b-4ab7-b3f6-29d30de8077b",
   "metadata": {},
   "source": [
    "- Our very own table\n",
    "A database has been set up for this course and the books table is available here.\\\n",
    "Run the code to explore what data books holds!"
   ]
  },
  {
   "cell_type": "markdown",
   "id": "ef3cb620-2107-4ac4-95fb-29098b581ca6",
   "metadata": {},
   "source": [
    "SELECT *\\\n",
    "FROM books;"
   ]
  },
  {
   "cell_type": "markdown",
   "id": "04e93c93-5e8c-4940-b8df-f0beab34d008",
   "metadata": {},
   "source": [
    "# Data"
   ]
  },
  {
   "cell_type": "code",
   "execution_count": null,
   "id": "9a8152d7-fbed-4a25-9c9d-9452f67ce980",
   "metadata": {},
   "outputs": [],
   "source": []
  }
 ],
 "metadata": {
  "kernelspec": {
   "display_name": "Python 3 (ipykernel)",
   "language": "python",
   "name": "python3"
  },
  "language_info": {
   "codemirror_mode": {
    "name": "ipython",
    "version": 3
   },
   "file_extension": ".py",
   "mimetype": "text/x-python",
   "name": "python",
   "nbconvert_exporter": "python",
   "pygments_lexer": "ipython3",
   "version": "3.11.8"
  }
 },
 "nbformat": 4,
 "nbformat_minor": 5
}
