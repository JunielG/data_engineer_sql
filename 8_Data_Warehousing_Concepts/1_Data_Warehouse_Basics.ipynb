{
 "cells": [
  {
   "cell_type": "markdown",
   "id": "c5e49c24-8848-4740-9959-26914c57d132",
   "metadata": {},
   "source": [
    "## What is a data warehouse?"
   ]
  },
  {
   "cell_type": "code",
   "execution_count": null,
   "id": "f990918a-171f-4653-bbc2-2b9596ae73e8",
   "metadata": {},
   "outputs": [],
   "source": [
    "What is a data warehouse? \n",
    "A computer system designed to store and analyze large amounts of data for an organization.\n",
    "\n",
    "What does a data warehouse do?\n",
    "Gathers data from different areas\n",
    "Integrates and stores the data\n",
    "Make it available for analysis\n",
    "\n",
    "Why is a data warehouse valuable?\n",
    "Support business intelligence activity\n",
    "Enable effective analysis and decision-making\n",
    "Foster data-driven innovation"
   ]
  },
  {
   "cell_type": "markdown",
   "id": "656cba7e-198e-46c6-86ed-e78b69e5fad3",
   "metadata": {},
   "source": [
    "## What's the difference between data warehouses and data lakes?"
   ]
  },
  {
   "cell_type": "code",
   "execution_count": null,
   "id": "42da8407-b5d8-4ba5-bbf4-829bcd545896",
   "metadata": {},
   "outputs": [],
   "source": []
  },
  {
   "cell_type": "code",
   "execution_count": null,
   "id": "5bd795b1-a0f9-444a-8a66-9e28c41723b6",
   "metadata": {},
   "outputs": [],
   "source": []
  },
  {
   "cell_type": "markdown",
   "id": "820cc993-f590-4b1b-9983-ad3b0555d589",
   "metadata": {},
   "source": [
    "## Data warehouses support organizational analysis"
   ]
  },
  {
   "cell_type": "code",
   "execution_count": null,
   "id": "94274664-1e1a-465c-9bd6-29eefefee236",
   "metadata": {},
   "outputs": [],
   "source": []
  },
  {
   "cell_type": "code",
   "execution_count": null,
   "id": "c4af9ecd-b103-445d-a770-a9d15df1d9bb",
   "metadata": {},
   "outputs": [],
   "source": []
  },
  {
   "cell_type": "code",
   "execution_count": null,
   "id": "93063c0b-ab15-49de-8584-5eced7473fd2",
   "metadata": {},
   "outputs": [],
   "source": []
  },
  {
   "cell_type": "code",
   "execution_count": null,
   "id": "4cc713aa-e6fb-4bbe-9546-6dee43d7d96b",
   "metadata": {},
   "outputs": [],
   "source": [
    "\n"
   ]
  }
 ],
 "metadata": {
  "kernelspec": {
   "display_name": "Python 3 (ipykernel)",
   "language": "python",
   "name": "python3"
  },
  "language_info": {
   "codemirror_mode": {
    "name": "ipython",
    "version": 3
   },
   "file_extension": ".py",
   "mimetype": "text/x-python",
   "name": "python",
   "nbconvert_exporter": "python",
   "pygments_lexer": "ipython3",
   "version": "3.9.13"
  }
 },
 "nbformat": 4,
 "nbformat_minor": 5
}
