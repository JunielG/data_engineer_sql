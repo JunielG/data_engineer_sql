{
 "cells": [
  {
   "cell_type": "markdown",
   "id": "d817fba1-60a2-495b-9cad-474ebc2cc35e",
   "metadata": {},
   "source": [
    "## Data warehouse data modeling"
   ]
  },
  {
   "cell_type": "code",
   "execution_count": null,
   "id": "f7cd8d40-bce6-464b-88b0-14779ac9bf62",
   "metadata": {},
   "outputs": [],
   "source": []
  },
  {
   "cell_type": "code",
   "execution_count": null,
   "id": "97d22f70-a522-487b-9e28-bdffea7769e3",
   "metadata": {},
   "outputs": [],
   "source": []
  },
  {
   "cell_type": "markdown",
   "id": "214be705-17e1-48f3-a748-8ebb5c2a911f",
   "metadata": {},
   "source": [
    "## Kimball's four step process"
   ]
  },
  {
   "cell_type": "code",
   "execution_count": null,
   "id": "33602272-55dc-43f4-84ce-a66fc188cc1f",
   "metadata": {},
   "outputs": [],
   "source": [
    "Step 1 - Select the organizational process\n",
    "Ask questions about a process\n",
    "Kimball bottom-up approach starts with abusiness process\n",
    "\n",
    "Examples of organizational processes:\n",
    "Invoice and billing\n",
    "Product quality monitoring\n",
    "Marketing\n",
    "\n",
    "Step 2 - Declare the grain \n",
    "Grain = level to store fact table\n",
    "A level of data that cannot be split further\n",
    "      \n",
    "Examples of business processes:\n",
    "Music service -> Song grain\n",
    "Shipping service -> Line item grain\n",
    "\n",
    "Step 3 - Identify the dimensions\n",
    "Choose dimensions that apply to each row\n",
    "How to describe the data?\n",
    "Business users and analysts = valuable feedback\n",
    "\n",
    "Examples of common dimensions:\n",
    "Time: year, quarter, and month\n",
    "Location: address, state, and country\n",
    "Users: names and email address\n",
    "\n",
    "Step 4 - Identify the facts\n",
    "Numerical facts for each fact table row\n",
    "What are we answering?\n",
    "Metrics should be true at selected grain\n",
    "\n",
    "Examples of facts:\n",
    "Music service: total number of plays, sales revenue of a song\n",
    "Ride-sharing: travel distance, time needed"
   ]
  },
  {
   "cell_type": "markdown",
   "id": "8dc2313c-f195-4594-be35-7e3c105828d9",
   "metadata": {},
   "source": [
    "## Slowly changing dimensions"
   ]
  },
  {
   "cell_type": "code",
   "execution_count": null,
   "id": "6a2d11a5-9e52-4a5b-a255-8b4e4b55309b",
   "metadata": {},
   "outputs": [],
   "source": [
    "Type I \n",
    "Update value in table\n",
    "Will lose any history\n",
    "\n",
    "Type II\n",
    "Add a row with the updated value\n",
    "The history is retained\n",
    "\n",
    "Type III\n",
    "Add column to dimension table to track changes\n",
    "Can view past and current data together\n",
    "Can require reporting changes and limited tracking"
   ]
  },
  {
   "cell_type": "markdown",
   "id": "7189a016-c3f7-4faa-aca5-28ada60eff78",
   "metadata": {},
   "source": [
    "## Row vs. column data store"
   ]
  },
  {
   "cell_type": "code",
   "execution_count": null,
   "id": "5f7b76cd-6382-40df-b0f7-b3d4ca9f249f",
   "metadata": {},
   "outputs": [],
   "source": [
    "Row Store\n",
    "Row data is stored together in blocks\n",
    "Ideal for transactional workloads\n",
    "\n",
    "Column Store\n",
    "Column data is stored together in blocks\n",
    "Ideal for analytical workloads\n",
    "Better data compression"
   ]
  },
  {
   "cell_type": "code",
   "execution_count": null,
   "id": "786a125e-de33-48ee-870c-62f4d2a2587d",
   "metadata": {},
   "outputs": [],
   "source": []
  },
  {
   "cell_type": "code",
   "execution_count": null,
   "id": "cac7671a-5ff4-4e88-a2a1-f40e2d231551",
   "metadata": {},
   "outputs": [],
   "source": []
  },
  {
   "cell_type": "code",
   "execution_count": null,
   "id": "3faa4f49-5ba3-4c4e-af53-359c6cc10074",
   "metadata": {},
   "outputs": [],
   "source": []
  },
  {
   "cell_type": "code",
   "execution_count": null,
   "id": "74e056b7-fc3e-4bed-b506-aaa1a658e2a1",
   "metadata": {},
   "outputs": [],
   "source": [
    "\n"
   ]
  }
 ],
 "metadata": {
  "kernelspec": {
   "display_name": "Python 3 (ipykernel)",
   "language": "python",
   "name": "python3"
  },
  "language_info": {
   "codemirror_mode": {
    "name": "ipython",
    "version": 3
   },
   "file_extension": ".py",
   "mimetype": "text/x-python",
   "name": "python",
   "nbconvert_exporter": "python",
   "pygments_lexer": "ipython3",
   "version": "3.9.13"
  }
 },
 "nbformat": 4,
 "nbformat_minor": 5
}
