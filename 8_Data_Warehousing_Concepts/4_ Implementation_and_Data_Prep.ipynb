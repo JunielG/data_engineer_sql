{
 "cells": [
  {
   "cell_type": "markdown",
   "id": "048f903d-dc26-476f-9e74-834ecb8c67d6",
   "metadata": {},
   "source": [
    "## ETL and ELT"
   ]
  },
  {
   "cell_type": "code",
   "execution_count": null,
   "id": "cb527549-8b53-4a86-8141-774a43294380",
   "metadata": {},
   "outputs": [],
   "source": [
    "ETL\n",
    "1. Extract\n",
    "2. Transform\n",
    "3. Load\n",
    "\n",
    "ELT\n",
    "1. Extract\n",
    "2. Load\n",
    "3. Transform"
   ]
  },
  {
   "cell_type": "code",
   "execution_count": null,
   "id": "aaf79a6f-ed1c-45c1-bdcf-ae2a9839885f",
   "metadata": {},
   "outputs": [],
   "source": [
    "Understanding ETL - Pros and Cons\n",
    "Data transformed during the move\n",
    "Uses separate system to process data\n",
    "\n",
    "Pros:\n",
    "Lower data storage costs\n",
    "PII security compliance\n",
    "\n",
    "Cons:\n",
    "Transformation errors/changes require new data pulls\n",
    "Costs of separate system to process data\n",
    "\n",
    "\n",
    "Understanding ELT - Pros and Cons\n",
    "Data is loaded, then transformed\n",
    "Uses the warehouse to transform the data\n",
    "\n",
    "Pros:\n",
    "No separate system to process data\n",
    "Transformations can be rerun without impacting source systems\n",
    "Works well for near real-time requirements\n",
    "\n",
    "Cons:\n",
    "Increased storage needs from raw data\n",
    "Compliance with PII security standards\n"
   ]
  },
  {
   "cell_type": "markdown",
   "id": "981604df-fdcf-4c0a-b4f2-439578975180",
   "metadata": {},
   "source": [
    "## Data cleaning"
   ]
  },
  {
   "cell_type": "code",
   "execution_count": null,
   "id": "5a238038-d599-40ad-85a3-a7436dade160",
   "metadata": {},
   "outputs": [],
   "source": []
  },
  {
   "cell_type": "code",
   "execution_count": null,
   "id": "941cc018-c2bb-43aa-b7cc-9c92048d2f7e",
   "metadata": {},
   "outputs": [],
   "source": []
  },
  {
   "cell_type": "markdown",
   "id": "b9e42055-4bc5-4bbe-b594-35530a6a5ccd",
   "metadata": {},
   "source": [
    "## On premise and cloud data warehouses"
   ]
  },
  {
   "cell_type": "code",
   "execution_count": null,
   "id": "c06e2129-1161-4b4c-84b0-ef52b7149649",
   "metadata": {},
   "outputs": [],
   "source": [
    "On premise - pros and cons\n",
    "\n",
    "Pros:\n",
    "Complete control\n",
    "Implement custom data governance\n",
    "Local network speeds\n",
    "Can optimize for workloads\n",
    "\n",
    "Cons:\n",
    "Upfront hardware and software costs\n",
    "Personnel/staff must maintain system\n",
    "Must keep up with patches and security"
   ]
  },
  {
   "cell_type": "code",
   "execution_count": null,
   "id": "03793543-78e1-4db5-a021-9b8f22c946f4",
   "metadata": {},
   "outputs": [],
   "source": [
    "In the cloud - pros and cons\n",
    "\n",
    "Pros:\n",
    "No maintaining equipment and infrastructure\n",
    "Frees up personnel\n",
    "Can scale storage and compute resources\n",
    "No upfront investment inequipment/software\n",
    "\n",
    "Cons:\n",
    "Less control\n",
    "Cannot optimize warehouse workloads\n",
    "Possible unanticipated costs\n"
   ]
  },
  {
   "cell_type": "markdown",
   "id": "171e27da-f618-4970-970c-4fe10b616f3b",
   "metadata": {},
   "source": [
    "## Data warehouse design example"
   ]
  },
  {
   "cell_type": "code",
   "execution_count": null,
   "id": "b4a2ad14-dde1-4d87-bd3c-f9627bfb47d7",
   "metadata": {},
   "outputs": [],
   "source": []
  },
  {
   "cell_type": "code",
   "execution_count": null,
   "id": "9665a44d-da49-4a08-9ca8-c3b0dd58a518",
   "metadata": {},
   "outputs": [],
   "source": []
  },
  {
   "cell_type": "code",
   "execution_count": null,
   "id": "c7cee127-60ca-4735-87e3-3ba022cdea2e",
   "metadata": {},
   "outputs": [],
   "source": []
  }
 ],
 "metadata": {
  "kernelspec": {
   "display_name": "Python 3 (ipykernel)",
   "language": "python",
   "name": "python3"
  },
  "language_info": {
   "codemirror_mode": {
    "name": "ipython",
    "version": 3
   },
   "file_extension": ".py",
   "mimetype": "text/x-python",
   "name": "python",
   "nbconvert_exporter": "python",
   "pygments_lexer": "ipython3",
   "version": "3.9.13"
  }
 },
 "nbformat": 4,
 "nbformat_minor": 5
}
