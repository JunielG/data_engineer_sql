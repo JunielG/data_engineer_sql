{
 "cells": [
  {
   "cell_type": "markdown",
   "id": "006b7b3d-c91f-4f03-9773-d3025c958cf8",
   "metadata": {},
   "source": [
    "## What are the different layers of a data warehouse?"
   ]
  },
  {
   "cell_type": "code",
   "execution_count": null,
   "id": "91e1bf3d-1455-497d-ae51-13be8f1a132e",
   "metadata": {},
   "outputs": [],
   "source": []
  },
  {
   "cell_type": "code",
   "execution_count": null,
   "id": "27436b7e-b414-4aef-885f-9346b6ac2469",
   "metadata": {},
   "outputs": [],
   "source": []
  },
  {
   "cell_type": "markdown",
   "id": "3329346e-0bf5-40d3-b2ab-9185cddf17d9",
   "metadata": {},
   "source": [
    "## The presentation layer"
   ]
  },
  {
   "cell_type": "code",
   "execution_count": null,
   "id": "c5d03c8c-f71d-40fb-b304-82d4aeb22ab5",
   "metadata": {},
   "outputs": [],
   "source": []
  },
  {
   "cell_type": "code",
   "execution_count": null,
   "id": "1396b036-27c9-4aad-90ad-d15363e3e026",
   "metadata": {},
   "outputs": [],
   "source": []
  },
  {
   "cell_type": "markdown",
   "id": "cf2f888d-3fd3-444e-99e7-17606dce7680",
   "metadata": {},
   "source": [
    "## Data warehouse architectures"
   ]
  },
  {
   "cell_type": "code",
   "execution_count": null,
   "id": "ff5178b9-16ea-4d2e-908c-45bd7c7ad6e5",
   "metadata": {},
   "outputs": [],
   "source": []
  },
  {
   "cell_type": "code",
   "execution_count": null,
   "id": "53be3403-02af-4bcd-98d4-3aeb9cabc049",
   "metadata": {},
   "outputs": [],
   "source": []
  },
  {
   "cell_type": "markdown",
   "id": "da58a836-7f8f-4aab-98cf-a18f070b37a7",
   "metadata": {},
   "source": [
    "## OLAP and OLTP systems"
   ]
  },
  {
   "cell_type": "code",
   "execution_count": null,
   "id": "0cb9d904-b95b-460e-a7b7-7b77596b48b3",
   "metadata": {},
   "outputs": [],
   "source": []
  },
  {
   "cell_type": "code",
   "execution_count": null,
   "id": "1a84b1f2-9041-49df-8587-be8253dd1750",
   "metadata": {},
   "outputs": [],
   "source": []
  },
  {
   "cell_type": "code",
   "execution_count": null,
   "id": "a44a9e4a-4e46-4950-b502-d51574d89fe5",
   "metadata": {},
   "outputs": [],
   "source": []
  },
  {
   "cell_type": "code",
   "execution_count": null,
   "id": "11316af2-a1b6-4309-ac54-5fc15a5a58d3",
   "metadata": {},
   "outputs": [],
   "source": []
  }
 ],
 "metadata": {
  "kernelspec": {
   "display_name": "Python 3 (ipykernel)",
   "language": "python",
   "name": "python3"
  },
  "language_info": {
   "codemirror_mode": {
    "name": "ipython",
    "version": 3
   },
   "file_extension": ".py",
   "mimetype": "text/x-python",
   "name": "python",
   "nbconvert_exporter": "python",
   "pygments_lexer": "ipython3",
   "version": "3.9.13"
  }
 },
 "nbformat": 4,
 "nbformat_minor": 5
}
