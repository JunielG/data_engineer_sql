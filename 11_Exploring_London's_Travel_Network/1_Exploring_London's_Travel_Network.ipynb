{
 "cells": [
  {
   "cell_type": "code",
   "execution_count": null,
   "id": "e7115569-c754-45eb-9bb0-5e8c7f9b53f0",
   "metadata": {},
   "outputs": [],
   "source": [
    "-- most_popular_transport_types\n",
    "-- Copy code into first SQL cell\n",
    "SELECT JOURNEY_TYPE, \n",
    "\tSUM(JOURNEYS_MILLIONS) as TOTAL_JOURNEYS_MILLIONS\n",
    "FROM TFL.JOURNEYS\n",
    "GROUP BY JOURNEY_TYPE\n",
    "ORDER BY TOTAL_JOURNEYS_MILLIONS DESC;\n",
    "\n",
    "-- emirates_airline_popularity\n",
    "-- Copy code into second SQL cell\n",
    "SELECT MONTH, \n",
    "\tYEAR, \n",
    "\tROUND(JOURNEYS_MILLIONS,2) AS ROUNDED_JOURNEYS_MILLIONS\n",
    "FROM TFL.JOURNEYS\n",
    "WHERE JOURNEY_TYPE = 'Emirates Airline' AND ROUNDED_JOURNEYS_MILLIONS IS NOT NULL\n",
    "ORDER BY ROUNDED_JOURNEYS_MILLIONS DESC\n",
    "LIMIT 5;\n",
    "\n",
    "-- least_popular_years_tube\n",
    "-- Copy code into third SQL cell\n",
    "SELECT YEAR,\n",
    "\tJOURNEY_TYPE,\n",
    "\tSUM(JOURNEYS_MILLIONS) as TOTAL_JOURNEYS_MILLIONS\n",
    "FROM TFL.JOURNEYS\n",
    "WHERE JOURNEY_TYPE LIKE '%Underground%'\n",
    "GROUP BY YEAR, JOURNEY_TYPE\n",
    "ORDER BY TOTAL_JOURNEYS_MILLIONS\n",
    "LIMIT 5;"
   ]
  }
 ],
 "metadata": {
  "kernelspec": {
   "display_name": "Python 3 (ipykernel)",
   "language": "python",
   "name": "python3"
  },
  "language_info": {
   "codemirror_mode": {
    "name": "ipython",
    "version": 3
   },
   "file_extension": ".py",
   "mimetype": "text/x-python",
   "name": "python",
   "nbconvert_exporter": "python",
   "pygments_lexer": "ipython3",
   "version": "3.9.13"
  }
 },
 "nbformat": 4,
 "nbformat_minor": 5
}
