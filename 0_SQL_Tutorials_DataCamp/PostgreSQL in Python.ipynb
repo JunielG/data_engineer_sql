{
 "cells": [
  {
   "cell_type": "markdown",
   "id": "edbdc95c-776e-4ec6-ad18-d8245960bee5",
   "metadata": {},
   "source": [
    "# Using PostgreSQL in Python\n",
    "\n",
    "\n",
    "\n",
    "\n",
    "Discover how to create, connect to and manage PostgreSQL databases using Python’s psycopg2 package."
   ]
  },
  {
   "cell_type": "markdown",
   "id": "c5639e2d-bea6-4a7d-a229-e637cd43152c",
   "metadata": {},
   "source": [
    "Data is at the heart of nearly every digital application you can think of. From mobile apps and computer games to banking tools and autonomous vehicles, everything is based on data. Where is all this data stored? The answer is databases. \n",
    "\n",
    "A database is an organized collection of structured data, typically stored electronically in a computer system. Despite the recent development of new types of databases (designed to address the increasing volume and variability of data), a considerable amount of data around the world is still stored in what are known as relational databases. Relational databases store data as collections of predefined tables with rows and columns that are connected through one or more relationships. \n",
    "\n",
    "Being able to wrangle and extract data from these databases is an essential skill within the data industry and is a skill in increasing demand. The standard way to create and manage databases is SQL (Structured Query Language). SQL is the building block for some of the most popular relational databases on the market, such as PostgreSQL, Microsoft SQL Server, MySQL, and SQLite\n",
    "\n",
    "In this tutorial, we will focus on PostgreSQL-based databases and how you can create, connect to, and manage them using Python. The SQL-Python tandem is one of the must-have skills you should master through your data science journey. To connect Python with PostgreSQL, we will use the psycopg2 package, the most popular PostgreSQL database adapter for Python. Ready for the challenge? Let’s get started!"
   ]
  },
  {
   "cell_type": "markdown",
   "id": "6a4dbc7c-acde-4f69-a89e-668c2577d7c8",
   "metadata": {},
   "source": [
    "### Understanding PostgreSQL\n",
    "\n",
    "PostgreSQL is a lightweight, free, and open-source relational database. Because of its proven architecture, reliability, data integrity, and smooth integration with other popular programming languages, such as Python and R, PostgreSQL is extremely well accepted by the industry, with companies of all sizes and regions using it. \n",
    "\n",
    "PostgreSQL uses and extends the SQL language combined with many features that safely store and scale the most complicated data workloads. \n",
    "\n",
    "To start using PostgreSQL, you first have to install it on your computer first. On the PostgreSQL official site, you can find the many ready-to-use packages and installers of PostgreSQL and a source code archive available for different platforms and use cases.\n",
    "\n",
    "For this tutorial, we will use Postgres App, a simple, native macOS app that includes all the features required to get started with PostgreSQL, but keep in mind that all other available packages are equally valid, and the PostgreSQL syntax to run queries is the same across packages.\n",
    "\n",
    "If you want to know more about PostgreSQL, check out our Beginner's Guide to PostgreSQL and the good number of SQL courses."
   ]
  },
  {
   "cell_type": "markdown",
   "id": "fa2f2967-025d-41cf-885d-1cc1d26c48c0",
   "metadata": {},
   "source": [
    "## Understanding psycopg2\n",
    "\n",
    "In order to connect to a database that is already created in your system or on the Internet, you will have to instruct Python how to detect it. In other words, you will have to tell Python the database of your interest is a PostgreSQL database. \n",
    "\n",
    "In Python, you have several options that you can choose from. In this case, we will use psycopg2, probably the most popular PostgreSQL database adapter for Python. Psycopg2 requires a few prerequisites to work properly on your computer. Once you have installed them (read the documentation for more information), you can install psycopg2 just like any other Python packages:"
   ]
  },
  {
   "cell_type": "code",
   "execution_count": 1,
   "id": "f6e9b360-a3d7-4fd5-b7c2-8fdd2b34aaca",
   "metadata": {},
   "outputs": [
    {
     "name": "stdout",
     "output_type": "stream",
     "text": [
      "Requirement already satisfied: psycopg2 in /Library/Frameworks/Python.framework/Versions/3.13/lib/python3.13/site-packages (2.9.10)\n",
      "Note: you may need to restart the kernel to use updated packages.\n"
     ]
    }
   ],
   "source": [
    "pip install psycopg2"
   ]
  },
  {
   "cell_type": "code",
   "execution_count": 2,
   "id": "fcc15e55-b378-403a-9949-7f9ee5585bb3",
   "metadata": {},
   "outputs": [
    {
     "name": "stdout",
     "output_type": "stream",
     "text": [
      "Collecting psycopg2-binary\n",
      "  Downloading psycopg2_binary-2.9.10-cp313-cp313-macosx_12_0_x86_64.whl.metadata (4.9 kB)\n",
      "Downloading psycopg2_binary-2.9.10-cp313-cp313-macosx_12_0_x86_64.whl (3.0 MB)\n",
      "\u001b[2K   \u001b[90m━━━━━━━━━━━━━━━━━━━━━━━━━━━━━━━━━━━━━━━━\u001b[0m \u001b[32m3.0/3.0 MB\u001b[0m \u001b[31m1.6 MB/s\u001b[0m eta \u001b[36m0:00:00\u001b[0ma \u001b[36m0:00:01\u001b[0m\n",
      "\u001b[?25hInstalling collected packages: psycopg2-binary\n",
      "Successfully installed psycopg2-binary-2.9.10\n",
      "Note: you may need to restart the kernel to use updated packages.\n"
     ]
    }
   ],
   "source": [
    "pip install psycopg2-binary"
   ]
  },
  {
   "cell_type": "markdown",
   "id": "83eeaa94-1b82-4081-9119-e1e69364e00d",
   "metadata": {},
   "source": [
    "#### Connecting Python to PostgreSQL\n",
    "\n",
    "In order to use Python to interact with a PostgreSQL database, we need to make a connection. This is done with the psycopg2 connect() function, which creates a new database session and returns a new connection instance.\n",
    "\n",
    "For this tutorial, we will connect with a database called “datacamp_courses” that is hosted locally. "
   ]
  },
  {
   "cell_type": "code",
   "execution_count": null,
   "id": "0209b047-73d3-4c6e-a704-f6d29e279379",
   "metadata": {},
   "outputs": [],
   "source": [
    "conn = psycopg2.connect(database = \"datacamp_courses\", \n",
    "                        user = \"datacamp\", \n",
    "                        host= 'localhost',\n",
    "                        password = \"postgresql_tutorial\",\n",
    "                        port = 5432)"
   ]
  },
  {
   "cell_type": "markdown",
   "id": "391ea948-ae4d-4e72-a717-8a874592cda1",
   "metadata": {},
   "source": [
    "### The basic connection parameters required are:\n",
    "\n",
    "database. The database name.\n",
    "user. User name required to authenticate.\n",
    "password. Password used to authenticate.\n",
    "host. Database server address (in our case, the database is hosted locally, but it could be an IP address).\n",
    "port. Connection port number (defaults to 5432 if not provided)."
   ]
  },
  {
   "cell_type": "markdown",
   "id": "213d49a9-91fe-48ca-ae7d-5990d3ef3d5d",
   "metadata": {},
   "source": [
    "### Creating a table in PostgreSQL\n",
    "\n",
    "It’s time to create your first table in the “datacamp_courses” database. We want to create a table with information about some of the courses in the DataCamp course catalog. The table has the following schema: \n",
    "\n",
    "DataCam courses table\n",
    "\n",
    "The specification gives us quite a bit of information on the table's columns. The table's primary key should be course_id (note that only this one is bold), and its data type should be an integer. A primary key is a constraint that enforces the column values to be non-null and unique. It lets you uniquely identify a specific or a set of instances present in the table. \n",
    "\n",
    "The remaining columns provide information about the course name, the name of the course instruction, and the topic of the course.\n",
    "\n",
    "Before creating the table, it’s important to explain how the connection instance you’ve just created works. In essence, the connection encapsulates a database session, and it allows you to execute SQL commands and queries, such as SELECT, INSERT, CREATE, UPDATE, OR DELETE, using the cursor() method, and to make changes persistent using the commit() method. \n",
    "\n",
    "Once you have created the cursor instance, you can send commands to the database using the execute() method and retrieve data from a table using fetchone(), fetchmany(), or fetchall().\n",
    "\n",
    "Finally, it’s important to close the cursor and the connection to the database whenever you’ve finished your operations. Otherwise, they will continue to hold server-side resources. To do so, you can use the close() method.\n",
    "\n",
    "Below you can find the code to create the datacamp_courses table:"
   ]
  },
  {
   "cell_type": "code",
   "execution_count": null,
   "id": "7b87a2a6-9c76-47cd-abf5-3bbc20869084",
   "metadata": {},
   "outputs": [],
   "source": [
    "# Open a cursor to perform database operations\n",
    "cur = conn.cursor()\n",
    "# Execute a command: create datacamp_courses table\n",
    "cur.execute(\"\"\"CREATE TABLE datacamp_courses(\n",
    "            course_id SERIAL PRIMARY KEY,\n",
    "            course_name VARCHAR (50) UNIQUE NOT NULL,\n",
    "            course_instructor VARCHAR (100) NOT NULL,\n",
    "            topic VARCHAR (20) NOT NULL);\n",
    "            \"\"\")\n",
    "# Make the changes to the database persistent\n",
    "conn.commit()\n",
    "# Close cursor and communication with the database\n",
    "cur.close()\n",
    "conn.close()"
   ]
  },
  {
   "cell_type": "markdown",
   "id": "5a5e327e-5b77-4e76-8bd1-bd08b4966026",
   "metadata": {},
   "source": [
    "This is a very basic example on how to create tables on PostgreSQL, but things can get much more complex. If you want to learn more about how to create a PostgreSQL database and explore the structure, data types, and how to normalize databases, check out our Creating PostgreSQL Database course."
   ]
  },
  {
   "cell_type": "markdown",
   "id": "1180b2b3-e80a-4edb-92a5-b7d624057696",
   "metadata": {},
   "source": [
    "## Executing Basic PostgreSQL Queries in Python\n",
    "\n",
    "The datacamp_courses table is ready; now it’s time to use SQL to perform some basic queries!\n",
    "\n",
    "#### INSERT \n",
    "\n",
    "You may have noticed that the table has no values so far. To create records in the datacamp_courses table, we need the INSERT command."
   ]
  },
  {
   "cell_type": "code",
   "execution_count": null,
   "id": "b23dd581-5aa9-4dce-a5c3-14edc7fa5607",
   "metadata": {},
   "outputs": [],
   "source": [
    "cur = conn.cursor()\n",
    "\n",
    "cur.execute(\"INSERT INTO datacamp_courses(course_name, course_instructor, topic) VALUES('Introduction to SQL','Izzy Weber','Julia')\");\n",
    "\n",
    "cur.execute(\"INSERT INTO datacamp_courses(course_name, course_instructor, topic) VALUES('Analyzing Survey Data in Python','EbunOluwa Andrew','Python')\");\n",
    "\n",
    "cur.execute(\"INSERT INTO datacamp_courses(course_name, course_instructor, topic) VALUES('Introduction to ChatGPT','James Chapman','Theory')\");\n",
    "\n",
    "cur.execute(\"INSERT INTO datacamp_courses(course_name, course_instructor, topic) VALUES('Introduction to Statistics in R','Maggie Matsui','R')\");\n",
    "\n",
    "cur.execute(\"INSERT INTO datacamp_courses(course_name, course_instructor, topic) VALUES('Hypothesis Testing in Python','James Chapman','Python')\");\n",
    "\n",
    "conn.commit()\n",
    "cur.close()\n",
    "conn.close()"
   ]
  },
  {
   "cell_type": "markdown",
   "id": "766ec5e7-97a6-4f8c-b2b2-3dd925b928f0",
   "metadata": {},
   "source": [
    "#### SELECT \n",
    "\n",
    "Reading data in SQL databases is probably something you will do a lot in your data science journey. This is generally called a SELECT query. For now, let's see how the table datacamp_courses is holding up.\n",
    "\n",
    "We will call the classic SELECT * FROM database_name statement to read all the data available on the table. Then, we will use the fetchall() method to fetch all the available rows. Notice that PostgreSQL automatically creates a numerical index for the course_id column. "
   ]
  },
  {
   "cell_type": "code",
   "execution_count": null,
   "id": "2afa5715-b9c6-4e8f-a761-9d5bd4e5f429",
   "metadata": {},
   "outputs": [],
   "source": [
    "cur = conn.cursor()\n",
    "cur.execute('SELECT * FROM datacamp_courses;')\n",
    "rows = cur.fetchall()\n",
    "conn.commit()\n",
    "conn.close()\n",
    "for row in rows:\n",
    "    print(row)"
   ]
  },
  {
   "cell_type": "code",
   "execution_count": null,
   "id": "5c31cc6e-21ec-4306-82cb-1ba9dd9bbf42",
   "metadata": {},
   "outputs": [],
   "source": [
    "(1, 'Introduction to SQL', 'Izzy Weber', 'Julia')\n",
    "(2, 'Analyzing Survey Data in Python', 'EbunOluwa Andrew', 'Python')\n",
    "(3, 'Introduction to ChatGPT', 'James Chapman', 'Theory')\n",
    "(4, 'Introduction to Statistics in R', 'Maggie Matsui', 'R')\n",
    "(5, 'Hypothesis Testing in Python', 'James Chapman', 'Python')"
   ]
  },
  {
   "cell_type": "markdown",
   "id": "75f224a6-9e01-4fac-a13e-96aaa1c81956",
   "metadata": {},
   "source": [
    "#### UPDATE \n",
    "\n",
    "Data often comes with errors. You may have noticed in the previous section that the topic associated with the course “Introduction to SQL” is Julia. After checking the information about the course, we discovered the mistake. We need to change it and write “SQL” instead. This can be done with the UPDATE statement, as follows:"
   ]
  },
  {
   "cell_type": "code",
   "execution_count": null,
   "id": "cea9edad-4f4b-4cc3-bb5a-f9456f7b0380",
   "metadata": {},
   "outputs": [],
   "source": [
    "cur = conn.cursor()\n",
    "cur.execute(\"UPDATE datacamp_courses SET topic = 'SQL' WHERE course_name = 'Introduction to SQL';\")\n",
    "conn.commit()\n",
    "conn.close()"
   ]
  },
  {
   "cell_type": "markdown",
   "id": "35ffd9d5-67ed-4371-bc57-8bd83c1e1f7d",
   "metadata": {},
   "source": [
    "### DELETE \n",
    "\n",
    "Finally, you may want to delete one of the records in your table. For example, let’s delete the course Introduction to Statistics in R:"
   ]
  },
  {
   "cell_type": "code",
   "execution_count": null,
   "id": "7add09ac-e16f-474a-8ecd-b4cd9707c763",
   "metadata": {},
   "outputs": [],
   "source": [
    "cur = conn.cursor()\n",
    "cur.execute(\"\"\"DELETE from datacamp_courses WHERE course_name = 'Introduction to Statistics in R'\"\"\");\n",
    "conn.commit()\n",
    "cur.close()"
   ]
  },
  {
   "cell_type": "markdown",
   "id": "637da8af-02a9-4610-932d-a2f043a58a02",
   "metadata": {},
   "source": [
    "## Advanced PostgreSQL Queries in Python\n",
    "\n",
    "In the previous section, we examined the most basic SQL queries. But there’s much to learn. Let’s see some more advanced queries.\n",
    "\n",
    "#### ORDER BY\n",
    "\n",
    "Say you want to sort your database by the name of the instructor. You can use the ORDER BY statement:\n",
    "\n",
    "\n"
   ]
  },
  {
   "cell_type": "code",
   "execution_count": null,
   "id": "9e225f89-4993-4a76-80d8-78d69f7c1254",
   "metadata": {},
   "outputs": [],
   "source": [
    "cur = conn.cursor()\n",
    "\n",
    "cur.execute('SELECT * FROM datacamp_courses ORDER BY course_instructor')\n",
    "rows = cur.fetchall()\n",
    "for row in rows:\n",
    "    print(row)"
   ]
  },
  {
   "cell_type": "markdown",
   "id": "fced47e8-f4a3-4929-922b-072c1f610a10",
   "metadata": {},
   "source": [
    "(2, 'Analyzing Survey Data in Python', 'EbunOluwa Andrew', 'Python')\n",
    "(1, 'Introduction to SQL', 'Izzy Weber', 'SQL')\n",
    "(3, 'Introduction to ChatGPT', 'James Chapman', 'Theory')\n",
    "(4, 'Hypothesis Testing in Python', 'James Chapman', 'Python')"
   ]
  },
  {
   "cell_type": "markdown",
   "id": "917ae3df-74fd-418b-a25c-167123977467",
   "metadata": {},
   "source": [
    "### GROUP BY\n",
    "\n",
    "You may want to perform some aggregate functions within different groups of data. For example, you may be interested in calculating the number of courses by the different course instructors. You can do this kind of operation with the GROUP BY function."
   ]
  },
  {
   "cell_type": "code",
   "execution_count": null,
   "id": "7bfe016a-016f-4884-b91d-11b895f51894",
   "metadata": {},
   "outputs": [],
   "source": [
    "cur = conn.cursor()\n",
    "cur.execute('SELECT course_instructor, COUNT(*) FROM datacamp_courses GROUP BY course_instructor')\n",
    "rows = cur.fetchall()\n",
    "for row in rows:\n",
    "    print(row)"
   ]
  },
  {
   "cell_type": "code",
   "execution_count": null,
   "id": "e2865964-59b6-4e8f-aeb4-1b7317157dc3",
   "metadata": {},
   "outputs": [],
   "source": [
    "('James Chapman', 2)\n",
    "('Izzy Weber', 1)\n",
    "('EbunOluwa Andrew', 1)"
   ]
  },
  {
   "cell_type": "markdown",
   "id": "e982e08d-0d1e-42f1-b19d-1d83414b4d1d",
   "metadata": {},
   "source": [
    "#### JOIN\n",
    "\n",
    "Up to this point, we’ve only worked with the datacamp_course table. But you only start leveraging the full potential of relational databases, like PostgreSQL, when you work with multiple tables at once. \n",
    "\n",
    "The magic tool to combine multiple tables is the JOIN operation. Imagine that we have a second table in our database called programming_languages that contains basic information about the top programming languages for data science, including the name, the position in the TIOBE Index, and the number of courses about the programming language in Datacamp. The table looks like this:\n",
    "\n",
    "\n",
    "Imagine you want to merge the two tables to get the information of the courses, together with the position of the language on the TIOBE index. We will use an INNER JOIN to get only the information of the programming languages that appear in the datacamp_course table. "
   ]
  },
  {
   "cell_type": "code",
   "execution_count": null,
   "id": "459ae3e1-a8b6-4899-a9e9-9b95c7de9cf5",
   "metadata": {},
   "outputs": [],
   "source": [
    "cur = conn.cursor()\n",
    "cur.execute(\"\"\"SELECT course_name, course_instructor, topic, tiobe_ranking\n",
    "FROM datacamp_courses\n",
    "INNER JOIN programming_languages\n",
    "ON datacamp_courses.topic = programming_languages.language_name\"\"\")\n",
    "rows = cur.fetchall()\n",
    "for row in rows:\n",
    "    print(row)"
   ]
  },
  {
   "cell_type": "code",
   "execution_count": null,
   "id": "bdb6c9fc-17ae-4e38-b7c2-dec9d824789f",
   "metadata": {},
   "outputs": [],
   "source": [
    "('Introduction to SQL', 'Izzy Weber', 'SQL', 8)\n",
    "('Analyzing Survey Data in Python', 'EbunOluwa Andrew', 'Python', 1)\n",
    "('Hypothesis Testing in Python', 'James Chapman', 'Python', 1)"
   ]
  },
  {
   "cell_type": "markdown",
   "id": "170fb437-5d84-4a0a-911f-ea78bc6e44bd",
   "metadata": {},
   "source": [
    "# Getting Started with SQLAlchemy\n",
    "\n",
    "Psycopg2 is a great tool to connect with PostgreSQL databases. But what if you have to work with databases hosted in different SQL databases, such as Oracle and MySQL? In these scenarios, it may be better to use a tool that can connect to different types of SQL databases. To do so, SQLAlchemy is a great candidate. \n",
    "\n",
    "In simple words, SQLAlchemy allows users to connect databases using Python language, run SQL queries using object-based programming, and streamline the workflow. \n",
    "\n",
    "While the syntax varies compared to psycopg2, you can do pretty much the same. Below you can find an example on to create an engine to connect with our datacamp_courses datasets, and read all the data available in the datacap_course table"
   ]
  },
  {
   "cell_type": "code",
   "execution_count": null,
   "id": "98ff2851-738d-402c-9b25-a984606919e2",
   "metadata": {},
   "outputs": [],
   "source": [
    "import sqlalchemy as db\n",
    "\n",
    "\n",
    "engine = db.create_engine(\"postgresql://datacamp@localhost:5432/datacamp_courses\")\n",
    "conn = engine.connect() \n",
    "output = conn.execute(\"SELECT * FROM datacamp_courses\")\n",
    "print(output.fetchall())\n",
    "conn.close()"
   ]
  },
  {
   "cell_type": "code",
   "execution_count": null,
   "id": "ba159303-973d-49ce-80f6-54f265309df2",
   "metadata": {},
   "outputs": [],
   "source": [
    "[(3, 'Introduction to ChatGPT', 'James Chapman', 'Theory'),\n",
    " (5, 'Hypothesis Testing in Python', 'James Chapman', 'Python'),\n",
    " (2, 'Analyzing Survey Data in Python', 'EbunOluwa Andrew', 'Python'),\n",
    " (1, 'Introduction to SQL', 'Izzy Weber', 'SQL')]"
   ]
  },
  {
   "cell_type": "markdown",
   "id": "46ff0596-4590-4d05-b1d1-76bfef204563",
   "metadata": {},
   "source": [
    "## Using PostgreSQL in DataCamp DataLab\n",
    "\n",
    "At DataCamp, we work hard to make data science easier and accessible to everyone. That was the reason behind the creation of DataCamp DataLab, a cloud-based notebook specifically designed for data science. You can think of DataCamp DataLab as a mix between Jupyter Notebook and Google Docs which allows users to write code, analyze data individually or collectively, and share data insights.\n",
    "\n",
    "Connecting DataLab to PostgreSQL databases, as well as other SQL databases, is extremely easy. DataLab allows you to connect to data sources in a secure way, while you can seamlessly continue your data analysis with Python or R. You just need to create an integration, following a straightforward, no-code process, where you will need to enter your connection credentials. \n",
    "\n",
    "The image below shows how to create a PostgreSQL integration. \n",
    "\n",
    "Finally, If you want to try the integration but don't have a PostgreSQL database to connect to, you can just use one of our available sample PostgreSQL databases!\n",
    "\n",
    "Curious about DataCamp DataLab? Check out this article to know more about this next-generation notebook for data science.\n",
    "\n",
    "## Conclusion\n",
    "\n",
    "Nice work! In this tutorial, you got acquainted with PostgreSQL and learned how to manage databases without leaving Python, using the psycopg2 package. But this is just the beginning of the journey. SQL is one of the most widely-used programming languages in data science. It’s also fairly easy to learn, so you have no excuse.  \n",
    "\n",
    "Fortunately, Datacamp gets you covered. Here are some resources that might help you to become fluent in PostgreSQL and SQL in general:\n",
    "\n",
    "- Beginner Introductions to PostgreSQL Tutorial\n",
    "- Creating PostgreSQL Databases Course\n",
    "- Improving Query Performance in PostgreSQL Course\n",
    "- Managing Databases in SQL Course\n",
    "- Functions for Manipulating Data in PostgreSQL Course"
   ]
  },
  {
   "cell_type": "code",
   "execution_count": null,
   "id": "f16e2186-c230-45f1-ae01-46d0faf3a044",
   "metadata": {},
   "outputs": [],
   "source": []
  },
  {
   "cell_type": "code",
   "execution_count": null,
   "id": "f147b914-964a-4836-b01d-0377015a8edf",
   "metadata": {},
   "outputs": [],
   "source": []
  },
  {
   "cell_type": "code",
   "execution_count": null,
   "id": "4a6ed433-f812-46e0-aea0-cfb07768b483",
   "metadata": {},
   "outputs": [],
   "source": []
  },
  {
   "cell_type": "code",
   "execution_count": null,
   "id": "ce63a1b4-d6b4-4f75-a33c-5de4910e2878",
   "metadata": {},
   "outputs": [],
   "source": []
  },
  {
   "cell_type": "code",
   "execution_count": null,
   "id": "05529aa6-4beb-42ae-9d2b-f7bc4e7ae434",
   "metadata": {},
   "outputs": [],
   "source": []
  },
  {
   "cell_type": "code",
   "execution_count": null,
   "id": "e2a29f8d-871b-44d1-9093-dc2e611c94a1",
   "metadata": {},
   "outputs": [],
   "source": []
  },
  {
   "cell_type": "code",
   "execution_count": null,
   "id": "14477eb5-5b03-43a4-97a1-eea3b0b389d3",
   "metadata": {},
   "outputs": [],
   "source": []
  },
  {
   "cell_type": "code",
   "execution_count": null,
   "id": "c44e9ce1-fea5-4d50-bf9f-10e47ab0df48",
   "metadata": {},
   "outputs": [],
   "source": []
  },
  {
   "cell_type": "code",
   "execution_count": null,
   "id": "6f2403ef-77e6-4c6e-91dd-2a6956033ee5",
   "metadata": {},
   "outputs": [],
   "source": []
  },
  {
   "cell_type": "code",
   "execution_count": null,
   "id": "0ae8defe-82b0-492b-a936-f8df3c3e5778",
   "metadata": {},
   "outputs": [],
   "source": []
  },
  {
   "cell_type": "code",
   "execution_count": null,
   "id": "94a26050-14c1-4cb0-bc16-8e6a35c25c22",
   "metadata": {},
   "outputs": [],
   "source": []
  },
  {
   "cell_type": "code",
   "execution_count": null,
   "id": "6922fba4-acc0-4644-856b-3373b0504fa0",
   "metadata": {},
   "outputs": [],
   "source": []
  }
 ],
 "metadata": {
  "kernelspec": {
   "display_name": "Python 3 (ipykernel)",
   "language": "python",
   "name": "python3"
  },
  "language_info": {
   "codemirror_mode": {
    "name": "ipython",
    "version": 3
   },
   "file_extension": ".py",
   "mimetype": "text/x-python",
   "name": "python",
   "nbconvert_exporter": "python",
   "pygments_lexer": "ipython3",
   "version": "3.13.0"
  }
 },
 "nbformat": 4,
 "nbformat_minor": 5
}
