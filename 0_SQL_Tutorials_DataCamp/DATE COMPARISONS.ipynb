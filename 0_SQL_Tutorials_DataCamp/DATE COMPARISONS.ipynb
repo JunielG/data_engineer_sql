{
 "cells": [
  {
   "cell_type": "markdown",
   "id": "f9bb4cf0-e185-48e5-8c96-b3ccf24f9059",
   "metadata": {},
   "source": [
    "# Mastering SQL Date Comparisons: How to Query for Dates Greater Than a Specific Date\n",
    "Learn how to query and filter a date greater than a specific date in SQL. Compare how the date greater than logic differs in MySQL, PostgreSQL, and SQL Server."
   ]
  },
  {
   "cell_type": "markdown",
   "id": "b56d41e5-853d-4650-826a-be0fd3f0d7f2",
   "metadata": {},
   "source": [
    "Understanding how to query for dates greater than a specific date is crucial for effective database management and analysis. This tutorial will provide a comprehensive guide to performing date comparisons in SQL across different SQL database systems, including SQL Server, PostgreSQL, and Oracle. Whether you're dealing with historical data analysis, reporting, or filtering records, mastering this technique will enhance your SQL querying capabilities.\n",
    "\n",
    "By the end of this guide, you will be able to:\n",
    "\n",
    "Understand the nuances of date formats and functions in different SQL databases, including SQL Server, PostgreSQL, and Oracle. \n",
    "Apply practical examples to real-world scenarios. \n",
    "If you are a data analyst or data scientist ready to learn more, I recommend taking DataCamp's SQL Fundamentals skill track to familiarize yourself with querying data from databases. And for those eager to expand their database expertise, check out the Database Design course, which provides insights into building efficient databases.\n",
    "\n"
   ]
  },
  {
   "cell_type": "markdown",
   "id": "823be640-836e-4431-872c-db567c4e2f2e",
   "metadata": {},
   "source": [
    "#### Introduction to SQL Date Comparisons\n",
    "Date comparison is important in SQL as it allows data professionals to filter and sort data during analysis. The method is especially useful in financial reporting or inventory management, which requires trend analysis.\n",
    "\n",
    "SQL’s ‘greater than’ operator (>) is used with dates to compare two date values. When you include the ‘greater than’ operator in an SQL query with dates, the query will return records with dates later than the specified date. For example, the query below will return rows in the Orders table where the OrderDate is later than 2023-01-01.\n",
    "\n",
    "SELECT *\\\n",
    "FROM Orders\\\n",
    "WHERE OrderDate > '2023-01-01';\\\n",
    "Let's start by quickly reviewing the basic SQL operators that can be used to filter data. These operators are also covered in our SQL Basics Cheat Sheet, which you can review before you try the examples below."
   ]
  },
  {
   "cell_type": "markdown",
   "id": "8c367e72-a795-4bf6-aa79-1507e7be5ba1",
   "metadata": {},
   "source": [
    "#### Equal to (=)\n",
    "The = operator is used in SQL to compare whether two values are equal. Below is an example of when the operator is used with a date value. The SQL query will return rows in the Orders table where the OrderDate equals 2023-01-01.\n",
    "\n",
    "-- Select all orders placed on January 1, 2023\\\n",
    "SELECT *\\\n",
    "FROM Orders\\\n",
    "WHERE OrderDate = '2023-01-01';"
   ]
  },
  {
   "cell_type": "markdown",
   "id": "ef729dda-07d6-41b1-b5f3-66d819b3c7e2",
   "metadata": {},
   "source": [
    "#### Not equal to (!= or <>)\n",
    "The != or <> operator checks two values and returns those that are not the same as those referenced. For example, when used with a date value, the != or <> operator will return rows that are not the same as the referenced date. You can also read our SQL NOT EQUAL Operator: A Beginner's Guide tutorial to learn the subtleties.\n",
    "\n",
    "-- Select all orders that were not placed on January 1, 2023\\\n",
    "SELECT *\\\n",
    "FROM Orders\\\n",
    "WHERE OrderDate != '2023-01-01';\n",
    "\n",
    "-- Alternative syntax using <>\\\n",
    "SELECT *\\\n",
    "FROM Orders\\\n",
    "WHERE OrderDate <> '2023-01-01';"
   ]
  },
  {
   "cell_type": "markdown",
   "id": "84a78a4c-d9a9-4bde-9042-183f1d2cd06a",
   "metadata": {},
   "source": [
    "#### Less than (<)\n",
    "The < operator is used in SQL to check whether the value on the left is smaller than on the right. When used in an SQL query with date values, the query will return records with dates earlier than the specified date. For example, the query below will return rows in the Orders table where the OrderDate is earlier than 2023-01-01.\n",
    "\n",
    "-- Select all orders placed before January 1, 2023\\\n",
    "SELECT *\\\n",
    "FROM Orders\\\n",
    "WHERE OrderDate < '2023-01-01';"
   ]
  },
  {
   "cell_type": "markdown",
   "id": "60317237-25f1-445f-a1f4-9bd61c547de4",
   "metadata": {},
   "source": [
    "#### Greater than or equal to (>=)\n",
    "The >= operator checks whether values on the left of the operator are greater than or equal to the value on the right. When the operator is used in SQL to query a date value, it will return records where the date values are only equal to or greater than the value being referenced.\n",
    "\n",
    "-- Select all orders placed on or after January 1, 2023\\\n",
    "SELECT *\\\n",
    "FROM Orders\\\n",
    "WHERE OrderDate >= '2023-01-01';"
   ]
  },
  {
   "cell_type": "markdown",
   "id": "36cf0c66-ba06-43c3-9138-bd7d71fdea26",
   "metadata": {},
   "source": [
    "#### Less than or equal to (<=)\n",
    "The <= operator is used in SQL to check whether values on the left side of the operator are less or equal to the value on the right. When the operator is used to query a date value, it will return records where the date values are only equal to or less than the value being referenced.\n",
    "\n",
    "-- Select all orders placed on or before January 1, 2023\\\n",
    "SELECT *\\\n",
    "FROM Orders\\\n",
    "WHERE OrderDate <= '2023-01-01';"
   ]
  },
  {
   "cell_type": "markdown",
   "id": "5334a480-daf3-41ab-a3d7-2581f9e76637",
   "metadata": {},
   "source": [
    "# Date Comparison in SQL Server\n",
    "We can compare dates in SQL Server using the following operators: <, <=, >, >=, and =. However, we will cover the following:\n",
    "\n",
    "#### Using the ‘greater than’ operator (>)\n",
    "\n",
    "The ‘greater than’ (>) operator is used in SQL Server to filter out dates later than the date being compared on the right side of the operator. For example, the query below filters the Orders table and returns records of orders placed after OrderDate 2023-01-01.\n",
    "\n",
    "-- Select all orders delivered after January 1, 2023\\\n",
    "SELECT *\\\n",
    "FROM Orders\\\n",
    "WHERE DeliveryDate > '2023-01-01';"
   ]
  },
  {
   "cell_type": "markdown",
   "id": "90012b1c-106f-44cc-bf70-336725d86cd0",
   "metadata": {},
   "source": [
    "#### Using the GETDATE() function\n",
    "The GETDATE() function in SQL Server returns the current date as recorded in the user’s system. Therefore, you can use this function to query data and filter out rows where the date is greater than the current date.\n",
    "\n",
    "-- Select all orders delivered after the current date and time\\\n",
    "SELECT *\\\n",
    "FROM Orders\\\n",
    "WHERE DeliveryDate > GETDATE();"
   ]
  },
  {
   "cell_type": "markdown",
   "id": "28249ec0-5868-4290-a65c-c191110a1e7e",
   "metadata": {},
   "source": [
    "### Using BETWEEN for date ranges\n",
    "The BETWEEN operator in SQL is used to filter values between a given range. When used in SQL Server with dates, you can filter rows containing dates within the stated date. The results will include both the start and end dates as written in the query.\n",
    "\n",
    "-- Select all orders delivered between January 1, 2023, and December 31, 2023\\\n",
    "SELECT *\\\n",
    "FROM Orders\\\n",
    "WHERE DeliveryDate BETWEEN '2023-01-01' AND '2023-12-31';"
   ]
  },
  {
   "cell_type": "markdown",
   "id": "13b11c45-28fb-4853-b912-0e665a3cfa95",
   "metadata": {},
   "source": [
    "### Using CAST and CONVERT for date ranges\n",
    "You can also use the CAST and CONVERT functions to prevent errors. These functions ensure that the date values are correctly interpreted and formatted.\n",
    "\n",
    "-- Convert a string to a date\\\n",
    "SELECT CAST('2023-06-26' AS DATE) AS ConvertedDate;\n",
    "\n",
    "-- Convert a string to a datetime\\\n",
    "SELECT CAST('2023-06-26 14:30:00' AS DATETIME) AS ConvertedDateTime;\\\n",
    "\n",
    "-- Convert a string to a date using CONVERT\\\n",
    "SELECT CONVERT(DATE, '2023-06-26') AS ConvertedDate;\n",
    "\n",
    "-- Convert a string to a datetime using CONVERT\\\n",
    "SELECT CONVERT(DATETIME, '2023-06-26 14:30:00') AS ConvertedDateTime;"
   ]
  },
  {
   "cell_type": "markdown",
   "id": "7268f309-3484-405e-bdcc-833b1a5c6069",
   "metadata": {},
   "source": [
    "# Date Comparison in PostgreSQL\n",
    "PostgreSQL has some different clauses used to compare dates. We discuss some of them below.\n",
    "\n",
    "### Using the ‘greater than’ operator (>)\n",
    "Similar to the SQL Server database, the > operator in PostgreSQL filters date greater than the comparison date.\n",
    "\n",
    "-- Select all orders placed after January 1, 2023\\\n",
    "SELECT *\\\n",
    "FROM Orders\\\n",
    "WHERE OrderDate > '2023-01-01';"
   ]
  },
  {
   "cell_type": "markdown",
   "id": "133fabbd-adfd-42e5-9233-c7c9cdea95b2",
   "metadata": {},
   "source": [
    "### Using the EXTRACT function\n",
    "The EXTRACT function is used in PostgreSQL to retrieve date fields such as year, month, or day. In the query below, the EXTRACT clause filters records for the YEAR 2023.\n",
    "\n",
    "-- Select all orders placed in the year 2023\\\n",
    "SELECT *\\\n",
    "FROM Orders\\\n",
    "WHERE EXTRACT(YEAR FROM OrderDate) = 2023;"
   ]
  },
  {
   "cell_type": "markdown",
   "id": "2e3a78aa-99b1-4b63-b13d-ce55e31459c3",
   "metadata": {},
   "source": [
    "### Using the INTERVAL function\n",
    "The INTERVAL function is used in PostgreSQL to do some date calculations. INTERVAL allows you to add or subtract specific amounts of time to or from a date.\n",
    "\n",
    "-- Select all orders placed in the last 30 days\\\n",
    "SELECT *\\\n",
    "FROM Orders\\\n",
    "-- Filter orders placed within the last 30 days from the current date\\\n",
    "WHERE OrderDate > NOW() - INTERVAL '30 days';"
   ]
  },
  {
   "cell_type": "markdown",
   "id": "6d63d902-4638-445d-bb6c-536d5a755931",
   "metadata": {},
   "source": [
    "### Using the DATE_PART function\n",
    "The DATE_PART function allows one to extract a subfield from the date value. This subfield could be either the date or time. The query below returns orders placed in March, giving a double precision value of 3 for the third month.\n",
    "\n",
    "-- Select all orders placed in March\\\n",
    "SELECT *\\\n",
    "FROM Orders\\\n",
    "WHERE DATE_PART('month', OrderDate) = 3;"
   ]
  },
  {
   "cell_type": "markdown",
   "id": "95e818d5-3b30-4f5c-8238-4e4711401415",
   "metadata": {},
   "source": [
    "### Using the TO_DATE function\n",
    "The TO_DATE function in PostgreSQL converts a given string to a date value based on the given format. In the query below, the date value is provided as a string. So you convert as a date to the format YYYY-MM-DD.\n",
    "\n",
    "-- Select all orders placed on January 1, 2023, using a string date\\\n",
    "SELECT *\\\n",
    "FROM Orders\\\n",
    "WHERE OrderDate = TO_DATE('2023-01-01', 'YYYY-MM-DD');"
   ]
  },
  {
   "cell_type": "markdown",
   "id": "bff8f78e-2b46-43a5-89c5-cdcbf95a3601",
   "metadata": {},
   "source": [
    "### Using BETWEEN for date ranges\n",
    "Like SQL Server, the BETWEEN clause in PostgreSQL filters data within a specific range. For values containing dates, the BETWEEN function filters and returns rows between the indicated dates. These dates are also included in the results.\n",
    "\n",
    "-- Select all orders placed between January 1, 2023, and December 31, 2023\\\n",
    "SELECT *\\\n",
    "FROM Orders\\\n",
    "WHERE OrderDate BETWEEN '2023-01-01' AND '2023-12-31';"
   ]
  },
  {
   "cell_type": "markdown",
   "id": "7ca08968-f702-4344-bcde-a64cd8490901",
   "metadata": {},
   "source": [
    "# Date Comparison in Oracle\n",
    "\n",
    "### Using the ‘greater than’ operator (>)\n",
    "The > operator filters date that is later than the comparison date.\n",
    "\n",
    "-- Select all active users with an end date in the future\\\n",
    "SELECT *\\\n",
    "FROM Users\\\n",
    "-- Filter users with status 'Active'\\\n",
    "WHERE Status = 'Active'\\\n",
    "  -- Ensure the end date is in the future\\\n",
    "  AND EndDate > SYSDATE;"
   ]
  },
  {
   "cell_type": "markdown",
   "id": "33bdea59-8cc9-4f61-aaea-d647700e76c2",
   "metadata": {},
   "source": [
    "### Handling NULL dates and complex conditions\n",
    "When comparing dates in an Oracle database, it is important to specify complex scenarios, such as empty dates. In this case, we use the IS NULL clause to filter records with no dates.\n",
    "\n",
    "-- Select all active users with either a future end date or no end date (NULL)\\\n",
    "SELECT *\\\n",
    "FROM Users\\\n",
    "-- Filter users with status 'Active'\\\n",
    "WHERE Status = 'Active'\\\n",
    "  -- Ensure the end date is either in the future or is NULL (no end date)\\\n",
    "  AND (EndDate > SYSDATE OR EndDate IS NULL);"
   ]
  },
  {
   "cell_type": "markdown",
   "id": "57ce4639-2212-49bd-93a9-932260aa068a",
   "metadata": {},
   "source": [
    "### Using BETWEEN for date ranges\n",
    "The BETWEEN clause is also used in Oracle to filter data within a specific range. For values containing dates, the BETWEEN function filters and returns records between the indicated dates. These dates are also included in the results.\n",
    "\n",
    "-- Select all active users with an end date between the current date and a specified future date (e.g., end of the year)\\\n",
    "SELECT *\\\n",
    "FROM Users\\\n",
    "-- Filter users with status 'Active'\\\n",
    "WHERE Status = 'Active'\\\n",
    "  -- Ensure the end date is between the current date and a specified future date (e.g., December 31, 2023)\\\n",
    "  AND EndDate BETWEEN SYSDATE AND DATE '2023-12-31';"
   ]
  },
  {
   "cell_type": "markdown",
   "id": "6c7e12f7-7bc6-4653-a85b-f20f2e5814ec",
   "metadata": {},
   "source": [
    "# Common Pitfalls and Best Practices\n",
    "I have encountered issues with dates and the ‘greater than’ operator in SQL. Here are some common mistakes I have discovered and tips on how to avoid them.\n",
    "\n",
    "### Inconsistent date formats\n",
    "Using inconsistent date formats in your queries will result in errors. You may not get the desired results if you mix date formats such as YYYY-MM-DD and MM-DD-YYYY. \n",
    "\n",
    "To avoid these issues, always ensure you use standard date format. You may also convert the date to your preferred format or according to local conventions using TO_DATE in PostgreSQL or Oracle databases. For SQL Server, you may use CAST and CONVERT functions.\n",
    "\n",
    "-- Convert a string to a date\\\n",
    "SELECT CAST('2023-06-26' AS DATE) AS ConvertedDate;\n",
    "\n",
    "-- Convert a string to a datetime\\\n",
    "SELECT CAST('2023-06-26 14:30:00' AS DATETIME) AS ConvertedDateTime;\n",
    "\n",
    "-- Convert a string to a date using CONVERT\\\n",
    "SELECT CONVERT(DATE, '2023-06-26') AS ConvertedDate;\n",
    "\n",
    "-- Convert a string to a datetime using CONVERT\\\n",
    "SELECT CONVERT(DATETIME, '2023-06-26 14:30:00') AS ConvertedDateTime;"
   ]
  },
  {
   "cell_type": "markdown",
   "id": "1c095fa0-eca6-4af7-adfe-00f3d3eb27e0",
   "metadata": {},
   "source": [
    "### Time zone handling\n",
    "You may retrieve inaccurate results when handling data across multiple time zones. Moreover, not accounting for time zone differences during date conversion may cause errors.\n",
    "\n",
    "Therefore, I recommend storing your dates in UTC (Coordinated Universal Time) and using built-in time zone functions to convert dates.\n",
    "\n",
    "-- Store dates in UTC and convert to local time zone\\\n",
    "SELECT *\\\n",
    "FROM Orders\\\n",
    "-- Filter orders where the OrderDate in UTC is greater than the current date in the 'America/New_York' time zone\\\n",
    "WHERE OrderDate AT TIME ZONE 'UTC' > SYSDATE AT TIME ZONE 'America/New_York';\\\n",
    "-- Use time zone functions for accurate comparison\\\n",
    "SELECT *\\\n",
    "FROM Users\\\n",
    "-- Filter users where the EndDate in UTC is greater than the current date in UTC\\\n",
    "WHERE EndDate AT TIME ZONE 'UTC' > SYSDATE AT TIME ZONE 'UTC';"
   ]
  },
  {
   "cell_type": "markdown",
   "id": "3a4ca2b8-dd2f-4122-9c19-c5bde30c260c",
   "metadata": {},
   "source": [
    "### Avoiding common mistakes with dates\n",
    "When working with dates, it is important to avoid errors by retrieving only the values you need in your analysis. For example, you may omit the time component in a date value if it is irrelevant to your analysis. Handle the NULL values explicitly to prevent errors, especially where date values may contain the error.\n",
    "### Writing readable and maintainable queries\n",
    "You may find yourself writing complex and nested queries, which makes it hard to read and follow the different clauses. Similarly, failing to include comments in your code makes it hard to explain what it does.\n",
    "\n",
    "Thus, I recommend you include comments explaining the logic behind the clauses. To make the queries readable, you can also use simple subqueries or Common Table Expressions (CTEs). Check out our Reporting in SQL course to learn more about writing readable and maintainable queries for analysis and reporting."
   ]
  },
  {
   "cell_type": "markdown",
   "id": "08ce792a-17df-47bf-9a36-327909f65a91",
   "metadata": {},
   "source": [
    "# A Note on Why SQL Methods Differ\n",
    "The diversity in SQL methods for date comparisons across different database systems like SQL Server, PostgreSQL, and Oracle arises from the unique evolution and design philosophies of each database management system. Each system was developed independently and catered to different user needs and compatibility requirements, which led to varied implementations of SQL standards and additional proprietary features.\n",
    "\n",
    "For instance:\n",
    "\n",
    "- SQL Server, developed by Microsoft, incorporates functions and syntax that align closely with other Microsoft products, aiming for integration and ease of use in the Windows ecosystem.\n",
    "- PostgreSQL is an open-source project with a strong emphasis on extensibility. This flexibility encourages a variety of date functions and operators that can be optimized or extended by its community.\n",
    "- Oracle typically focuses on high scalability and reliability for enterprise applications, leading to specific optimizations in how dates and other data types are handled, often with a focus on complex, high-volume transaction environments."
   ]
  },
  {
   "cell_type": "markdown",
   "id": "7a3d9b26-3f22-424b-8708-71e3737ea923",
   "metadata": {},
   "source": [
    "# Conclusion\n",
    "I encourage you to practice the different skills to know when to apply SQL functions in real-world scenarios. Consider taking DataCamp’s SQL Fundamentals and Intermediate SQL courses. I also recommend the Associate Data Analyst in SQL course for aspiring data analysts and data scientists to help you master the different analysis techniques. These courses will also help you prepare for the SQL Associate Certification, which is great on a resume. "
   ]
  },
  {
   "cell_type": "markdown",
   "id": "bd6d3db1-5f1e-4c5e-ac53-dbf2503df9c4",
   "metadata": {},
   "source": []
  }
 ],
 "metadata": {
  "kernelspec": {
   "display_name": "Python 3 (ipykernel)",
   "language": "python",
   "name": "python3"
  },
  "language_info": {
   "codemirror_mode": {
    "name": "ipython",
    "version": 3
   },
   "file_extension": ".py",
   "mimetype": "text/x-python",
   "name": "python",
   "nbconvert_exporter": "python",
   "pygments_lexer": "ipython3",
   "version": "3.13.0"
  }
 },
 "nbformat": 4,
 "nbformat_minor": 5
}
