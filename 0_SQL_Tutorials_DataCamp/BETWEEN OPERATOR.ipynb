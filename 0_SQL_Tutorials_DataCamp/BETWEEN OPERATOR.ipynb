{
 "cells": [
  {
   "cell_type": "markdown",
   "id": "c07e737a-d28e-490a-9806-884494a5adf6",
   "metadata": {},
   "source": [
    "# How to Use the SQL BETWEEN Operator\n",
    "\n",
    "The SQL BETWEEN operator helps filter values within specific ranges, enabling efficient data analysis. Discover its various applications and full potential."
   ]
  },
  {
   "cell_type": "markdown",
   "id": "937157c6-21dc-4dbe-a40e-17ee5565efdc",
   "metadata": {},
   "source": [
    "The SQL BETWEEN operator is a tool for filtering values within a particular range. It is included in the SELECT statement to simplify and improve query readability.\n",
    "\n",
    "If you are new to SQL, I encourage you to take Introduction to SQL and SQL Fundamentals courses to kickstart your learning of SQL and become a skilled analyst.\n",
    "\n",
    "## The Short Answer: What is the SQL BETWEEN Operator?\n",
    "\n",
    "The BETWEEN operator filters and returns rows in a dataset within a certain range. When included in the SELECT statement, the BETWEEN operator returns the given start and end values. This powerful operator can return values within various SQL data types, including dates, numeric, and string data.\n",
    "\n",
    "In the example below, the query is used to select all employee records whose salaries are between 50,000 and 60,000 from the employees table. Remember that the BETWEEN operator is inclusive, so 50,000 and 60,000 will both be included in the result.\n",
    "\n",
    "\n",
    "-- Select all columns from the Employees table\\\n",
    "SELECT * \\\n",
    "FROM employees\\\n",
    "-- Filter the results to include only employees with salaries between 50,000 and 60,000\\\n",
    "WHERE salary BETWEEN 50000 AND 60000;"
   ]
  },
  {
   "cell_type": "markdown",
   "id": "1c1f9948-9b0b-46da-b626-68af9ff02700",
   "metadata": {},
   "source": [
    "### Syntax of the SQL BETWEEN Operator\n",
    "\n",
    "The BETWEEN operator has simple syntax in the SELECT statement to filter the values. It is used within the WHERE clause to specify the lower and upper bounds of the data range being filtered.\n",
    "\n",
    "-- Select the specified columns from the table\\\n",
    "SELECT column_name(s)\\\n",
    "FROM table_name\\\n",
    "-- Filter the results to include only those where column_name values fall between (inclusive)\\\n",
    "WHERE column_name BETWEEN value1 AND value2;\n",
    "\n",
    "DataCamp’s SQL Basics Cheat Sheet will also come in handy if you want to reference the syntax of common operators, including BETWEEN.\n",
    "\n"
   ]
  },
  {
   "cell_type": "markdown",
   "id": "e8b4ab08-cfce-4af2-83eb-ce80368e030c",
   "metadata": {},
   "source": [
    "### Important Points to Remember About SQL BETWEEN\n",
    "\n",
    "When using the BETWEEN operator, it is important to note that it is placed in the WHERE clause of the SELECT statement. This placement ensures the BETWEEN operator filters the column highlighted by the WHERE clause.\n",
    "\n",
    "\n",
    "-- Select all columns from the Employees table\\\n",
    "SELECT * \\\n",
    "FROM employees\\\n",
    "-- Filter the results to include only employees with employeee_id between 10 and 18\\\n",
    "WHERE employee_id BETWEEN 10 AND 18;\\\n",
    "\n",
    "The BETWEEN operator is preferred for filtering values within ranges since it provides concise data filtering. The syntax is simple and improves query readability when filtering multiple conditions. \n",
    "\n",
    "Without the BETWEEN operator, we use other operators to achieve similar results. Note the inclusion of the operators in the WHERE clause, which makes the query less readable and complex.\n",
    "\n",
    "\n",
    "-- Select the first name, last name, and salary columns from the Employees table\\\n",
    "SELECT first_name, last_name, salary\\\n",
    "FROM employees\\\n",
    "-- Filter the results to include only those employees whose salary is greater than or equal to 50,000\\\n",
    "-- and less than or equal to 60,000\\\n",
    "WHERE salary >= 50000 AND salary <= 60000;\n",
    "\n",
    "The query is more readable and easy to understand with the BETWEEN operator.\n",
    "\n",
    "\n",
    "-- Select the first name, last name, and salary columns from the Employees table\\\n",
    "SELECT first_name, last_name, salary\\\n",
    "FROM employees\\\n",
    "-- Filter the results to include only those employees whose salary is between 50,000 and 60,000 (inclusive)\\\n",
    "WHERE salary BETWEEN 50000 AND 60000;\n",
    "\n",
    "Always remember that the values specified in the BETWEEN operator are included in the results. The SQL query will return records where the values are included as upper and lower bounds of the data."
   ]
  },
  {
   "cell_type": "markdown",
   "id": "76923589-2edc-48ce-800d-ab01c33f0e0b",
   "metadata": {},
   "source": [
    "# Common Use Cases of SQL BETWEEN\n",
    "\n",
    "The BETWEEN operator has different use cases when filtering data, including filtering numeric or date ranges. Let's take a look.\n",
    "\n",
    "### Filtering numeric ranges with BETWEEN\n",
    "\n",
    "The BETWEEN operator is commonly used to filter numeric data. In this scenario, you can filter data to retrieve those within a certain range. In the example below, we filter the employees table to return rows with salaries between 62,000 and 70,000.\n",
    "\n",
    "\n",
    "-- Select all columns from employees table\\\n",
    "SELECT *\\\n",
    "FROM employees\\\n",
    "-- Filter the results to include only those employees whose salary is between 62,000 and 70,000 (inclusive)\\\n",
    "WHERE salary BETWEEN 62000 AND 70000;"
   ]
  },
  {
   "cell_type": "markdown",
   "id": "84ffe1dd-3fb6-4f93-bb46-59266d1f008e",
   "metadata": {},
   "source": [
    "### Filtering date ranges with BETWEEN\n",
    "\n",
    "The BETWEEN operator can also filter records within certain date ranges. This application is useful when analyzing data with date and time values. \n",
    "\n",
    "Assuming we have a column named hire_date in our employees table, we can use the BETWEEN operator to filter the dates and find records of employees hired within a specific period.\n",
    "\n",
    "\n",
    "-- Select all columns from employees table\\\n",
    "SELECT *\\\n",
    "FROM employees\\\n",
    "-- Filter records where hire date is between January 1, 2022, and December 31, 2022 (inclusive)\\\n",
    "WHERE hire_date BETWEEN '2022-01-01' AND '2022-12-31';"
   ]
  },
  {
   "cell_type": "markdown",
   "id": "edd8befe-4034-40dd-9104-94b46dd500dd",
   "metadata": {},
   "source": [
    "### Combining BETWEEN with other operators\n",
    "\n",
    "You can also combine the BETWEEN operator with other operators to achieve complex filtering scenarios. This technique is important if you want specific filtering. In the example below, we have used the equal (=) operator in the WHEN clause to filter rows containing only the Sales department. The query then uses the BETWEEN operator to filter the records further, including those salaries between 50,000 and 60,000.\n",
    "\n",
    "\n",
    "-- Select all columns from employees table\\\n",
    "SELECT *\\\n",
    "FROM employees\\\n",
    "-- Filter records where department is 'Sales' and salary is between 50,000 and 60,000 (inclusive)\\\n",
    "WHERE department = 'Sales' AND salary BETWEEN 50000 AND 60000;\n",
    "\n",
    "I recommend browsing around DataCamp’s collection of SQL courses to find a course that is right for you.\n",
    "\n"
   ]
  },
  {
   "cell_type": "markdown",
   "id": "04b455c7-0655-4106-b5c4-228bc1e32f80",
   "metadata": {},
   "source": [
    "## Limitations of the SQL Between Command\n",
    "\n",
    "Finally, let's take a look at some limitations and alternatives. \n",
    "\n",
    "### Limitations of the BETWEEN operator in SQL\n",
    "\n",
    "The potential limitations of the SQL BETWEEN operator include:\n",
    "\n",
    "Potential Confusion of the Inclusive Boundaries: Since the BETWEEN operator includes the specified values as upper and lower bounds, it could lead to confusion or unexpected results if used incorrectly.\n",
    "Performance Issues with Large Datasets: Using the BETWEEN operator without specifying the indexes could lead to performance issues, especially when using large datasets.\n",
    "### Alternatives to the BETWEEN operator in SQL\n",
    "\n",
    "Since the BETWEEN operator includes the specified values as lower and upper bounds, we can use the less than (<) and greater than (>) operators to achieve exclusive filtering. This technique will ensure these values are not included in the results.\n",
    "\n",
    "\n",
    "-- Select the first name, last name, and salary columns from the Employees table\\\n",
    "SELECT first_name, last_name, salary\\\n",
    "FROM employees\\\n",
    "-- Filter the results to include only those employees whose salary is greater than 50,000\\\n",
    "-- and less than 60,000 (exclusive)\\\n",
    "WHERE salary > 50000 AND salary < 60000;"
   ]
  },
  {
   "cell_type": "markdown",
   "id": "e0d4d3ca-852b-495f-91f7-3a42e2586dfb",
   "metadata": {},
   "source": [
    "## Conclusion\n",
    "\n",
    "The BETWEEN operator in SQL is useful for filtering values within given ranges. Understanding the importance of using the BETWEEN operator for data filtering and manipulation is important for data analysts. I encourage you to continue practicing the BETWEEN operator using different datasets for different SQL data types to improve your SQL skills.\n",
    "\n",
    "Continuous learning will help you stand out among others in the professional field. I encourage you to take the more advanced Reporting in SQL course and to consider the comprehensive Associate Data Analyst in SQL career track. Finally, DataCamp also offers a SQL Associate Certification to help showcase your professional achievement in using SQL for data analysis.\n",
    "\n"
   ]
  },
  {
   "cell_type": "markdown",
   "id": "94e3d536-b730-4d22-8b15-68790e9261f3",
   "metadata": {},
   "source": []
  }
 ],
 "metadata": {
  "kernelspec": {
   "display_name": "Python 3 (ipykernel)",
   "language": "python",
   "name": "python3"
  },
  "language_info": {
   "codemirror_mode": {
    "name": "ipython",
    "version": 3
   },
   "file_extension": ".py",
   "mimetype": "text/x-python",
   "name": "python",
   "nbconvert_exporter": "python",
   "pygments_lexer": "ipython3",
   "version": "3.13.0"
  }
 },
 "nbformat": 4,
 "nbformat_minor": 5
}
