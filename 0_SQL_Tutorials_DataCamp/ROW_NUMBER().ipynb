{
 "cells": [
  {
   "cell_type": "markdown",
   "id": "44db47db-405d-483a-9b6b-6b0a614441a2",
   "metadata": {},
   "source": [
    "# ROW_NUMBER SQL Function: How to Display Row Numbers\n",
    "The ROW_NUMBER() SQL function assigns sequential integers to rows within a result set, optionally partitioning the data and ordering the rows within each partition."
   ]
  },
  {
   "cell_type": "markdown",
   "id": "e29c0418-a86d-454f-9164-56fed243c3b0",
   "metadata": {},
   "source": [
    "In SQL, it’s common for datasets to be unordered, which can make the analysis challenging. To understand how rows relate within a dataset, we can use the ROW_NUMBER() function.\n",
    "\n",
    "This function assigns sequential numbers to rows within a result set, providing a clear order for further manipulation and analysis. This can be done for the dataset as a whole or for different groups of data within the dataset. \n",
    "\n",
    "This article assumes prior knowledge of the fundamentals of SQL. We’ll cover the basics of the commonly used ROW_NUMBER() function and provide examples of increasing difficulty."
   ]
  },
  {
   "cell_type": "markdown",
   "id": "1a78c55b-8c8d-4ad3-8da3-1b62deb6ef90",
   "metadata": {},
   "source": [
    "#### ROW_NUMBER() Syntax\n",
    "Here's the basic syntax for the ROW_NUMBER() function:\\\n",
    "ROW_NUMBER() OVER([PARTITION BY value expression, ... ] [ORDER BY order_by_clause])"
   ]
  },
  {
   "cell_type": "markdown",
   "id": "07d7237c-af38-47a7-8bf0-9d9fba7d68f0",
   "metadata": {},
   "source": [
    "Let's break down the key components:\n",
    "\n",
    "- ROW_NUMBER(): This is the function itself, which generates sequential row numbers.\n",
    "- OVER (...): This clause is mandatory for window functions like ROW_NUMBER(). It defines the context in which row numbers are calculated.\n",
    "- PARTITION BY value_expression: This optional clause divides the result set into partitions based on the specified column(s) or expression(s). Row numbers are then calculated independently within each partition.\n",
    "- ORDER BY order_by_clause: This optional clause specifies the order in which row numbers are assigned within each partition (or the entire result set if no PARTITION BY is used).\n",
    "To illustrate, here's how we might use ROW_NUMBER() within a broader SQL query:\n",
    "\n",
    "SELECT Val_1,\\\n",
    "    ROW_NUMBER() OVER(PARTITION BY group_1, ORDER BY number DESC) AS rn\\\n",
    "FROM Data;"
   ]
  },
  {
   "cell_type": "markdown",
   "id": "84e17116-92bb-4492-978c-b84bf2ee0cf6",
   "metadata": {},
   "source": [
    "#### ROW_NUMBER() Examples\n",
    "In the following three examples, we’ll use the free DataLab IDE. We’ll use the Employees sample dataset (already incorporated into DataLab), which has the following four columns:\n",
    "\n",
    "first_name: string field\n",
    "last_name: string field\n",
    "gender: string field with two values (“M” or “F”)\n",
    "hire_date: the date the employee was hired\n",
    "We can query the dataset using the following SQL code:\n",
    "\n",
    "SELECT e.first_name, e.last_name, e.gender, e.hire_date\\\n",
    "    FROM employees.employees e\\\n",
    "LIMIT 100; -- Optionally reduce the size of the output"
   ]
  },
  {
   "cell_type": "markdown",
   "id": "601f9099-4a4f-42b6-b9d7-be3d60dddf1f",
   "metadata": {},
   "source": [
    "#### Numbering employees in alphabetical order\n",
    "Before using ROW_NUMBER(), it's important to define our goal—this will clarify if and how we want to partition and order. In this example, we’d like to order all employees alphabetically. We don’t need a PARTITION BY clause because we order all employees in the dataset. We’ll order customers by their last name (last_name). We’ll name our numbering name_row_number.\n",
    "\n",
    "SELECT e.first_name, e.last_name, e.gender, e.hire_date,\\\n",
    "    ROW_NUMBER() OVER(ORDER BY e.last_name) AS name_row_number\\    \n",
    "FROM employees.employees e;"
   ]
  },
  {
   "cell_type": "markdown",
   "id": "58a344aa-f281-4b68-a2e5-e73c62d200da",
   "metadata": {},
   "source": [
    "To handle ties (employees with the same last name), we can refine the ordering by adding more columns. In the example below, we order first by last_name, and then, in cases where an employee’s last name is the same as someone else's, we’ll order by their first name (first_name).\n",
    "\n",
    "SELECT e.first_name, e.last_name, e.gender, e.hire_date,\\\n",
    "    ROW_NUMBER() OVER(ORDER BY e.last_name, e.first_name) AS name_row_number   \n",
    "FROM employees.employees e;"
   ]
  },
  {
   "cell_type": "markdown",
   "id": "bd108c05-378e-49d1-8f12-21b5fb1002c9",
   "metadata": {},
   "source": [
    "#### Numbering employees by newest hire date within genders\n",
    "Now, let's order employees from newest to oldest hire date within their respective genders. We'll again use the ORDER BY clause to sort by hire_date, but this time in descending order (using DESC) to prioritize the most recent hires.\n",
    "\n",
    "To achieve separate numbering for each gender, we'll introduce the PARTITION BY gender clause. This means row numbers will restart from 1 for each distinct gender.\\\n",
    "Here's the complete query:\n",
    "\n",
    "SELECT e.first_name, e.last_name, e.gender, e.hire_date,\\\n",
    "    ROW_NUMBER() OVER(PARTITION BY gender ORDER BY hire_date DESC) AS hire_row_number   \n",
    "FROM employees.employees e;"
   ]
  },
  {
   "cell_type": "markdown",
   "id": "13d2d408-52aa-4d01-bd04-45d9325a2d70",
   "metadata": {},
   "source": [
    "We could then query this data using a WHERE clause to find the most experienced employee in each gender:\n",
    "\n",
    "WITH RankedEmployees AS (\\\n",
    "    SELECT e.first_name, e.last_name, e.gender, e.hire_date,\\\n",
    "        ROW_NUMBER() OVER(PARTITION BY gender ORDER BY hire_date DESC) AS hire_row_number\\\n",
    "    FROM employees.employees e\\\n",
    ")\\\n",
    "SELECT first_name, last_name, gender, hire_date\\\n",
    "FROM RankedEmployees\\\n",
    "WHERE hire_row_number = 1;"
   ]
  },
  {
   "cell_type": "markdown",
   "id": "4e4fe06f-3cb9-4ed2-9c9a-138ad6b95501",
   "metadata": {},
   "source": [
    "#### Ordering employees by salary within genders using a JOIN\n",
    "In our final example, we'll rank employees by their salary, considering their gender. To achieve this, we'll join the employees table with the salaries table based on the emp_no column:\n",
    "\n",
    "SELECT e.first_name, e.last_name, e.gender, e.hire_date, s.salary\\\n",
    "    FROM employees.employees e\\\n",
    "JOIN employees.salaries s ON e.emp_no = s.emp_no\\\n",
    "LIMIT 100;"
   ]
  },
  {
   "cell_type": "markdown",
   "id": "6f90d1cb-b446-4bd2-a99d-521275b13a26",
   "metadata": {},
   "source": [
    "Now, we'll use both PARTITION BY and ORDER BY. We'll partition by gender to have separate rankings for each gender and order by salary in descending order to rank the highest earners first.\\\n",
    "Here's the complete query:\n",
    "\n",
    "SELECT e.first_name, e.last_name, e.gender, e.hire_date, s.salary,\\\n",
    "    ROW_NUMBER () OVER(PARTITION BY e.gender ORDER BY s.salary DESC) AS salary_row_number\\\n",
    "    FROM employees.employees e\\\n",
    "JOIN employees.salaries s ON e.emp_no = s.emp_no\\\n",
    "LIMIT 100;"
   ]
  },
  {
   "cell_type": "markdown",
   "id": "e854fff5-6fb6-4216-b31d-45a564e662b8",
   "metadata": {},
   "source": [
    "To compare the top salaries for each gender, we can filter the results using a WHERE clause. The query below will return the top 5 earners for each gender, ordered by their rank within their gender group. Such queries can provide insights into pay equity within the dataset.\n",
    "\n",
    "WITH RankedSalaries AS (\\\n",
    "    SELECT e.first_name, e.last_name, e.gender, e.hire_date, s.salary,\\\n",
    "        ROW_NUMBER() OVER(PARTITION BY e.gender ORDER BY s.salary DESC) AS salary_row_number\\\n",
    "    FROM employees.employees e\\\n",
    "    JOIN employees.salaries s ON e.emp_no = s.emp_no\\\n",
    ")\\\n",
    "SELECT first_name, last_name, gender, hire_date, salary\\\n",
    "FROM RankedSalaries\\\n",
    "WHERE salary_row_number <= 5\\\n",
    "ORDER BY salary_row_number, gender;"
   ]
  },
  {
   "cell_type": "markdown",
   "id": "b947395c-b76f-487b-946f-3d10c07b3042",
   "metadata": {},
   "source": [
    "#### Conclusion\n",
    "The ROW_NUMBER() function is useful when we have an unordered dataset and want to assign a clear sequential numbering of the rows for further analysis. We define the specific order of these numbers using ORDER BY and define separate numbering sequences for distinct groups within the data using PARTITION BY.\n",
    "\n",
    "If you found this article useful and want to learn more about SQL, check out our other SQL courses."
   ]
  },
  {
   "cell_type": "markdown",
   "id": "5e00ee48-aa68-4211-ac72-43b3af880663",
   "metadata": {},
   "source": []
  }
 ],
 "metadata": {
  "kernelspec": {
   "display_name": "Python 3 (ipykernel)",
   "language": "python",
   "name": "python3"
  },
  "language_info": {
   "codemirror_mode": {
    "name": "ipython",
    "version": 3
   },
   "file_extension": ".py",
   "mimetype": "text/x-python",
   "name": "python",
   "nbconvert_exporter": "python",
   "pygments_lexer": "ipython3",
   "version": "3.13.0"
  }
 },
 "nbformat": 4,
 "nbformat_minor": 5
}
