{
 "cells": [
  {
   "cell_type": "markdown",
   "id": "018156db-4d11-4873-a986-5e84f2bfddc6",
   "metadata": {},
   "source": [
    "# COALESCE SQL Function\n",
    "\n",
    "COALESCE() is one of the handiest functions in SQL. Read this tutorial to learn how to master it."
   ]
  },
  {
   "cell_type": "markdown",
   "id": "4d1e0c15-f3c1-481d-9f2a-35f4a030781e",
   "metadata": {},
   "source": [
    "### What is the COALESCE()function?\n",
    "\n",
    "Coalesce returns the first non-null value in a list. If all the values in the list are NULL, then the function returns null.\n",
    "\n",
    "### When to use COALESCE()?\n",
    "\n",
    "This function is useful when combining the values from several columns into one.\n",
    "\n",
    "For example, a table called users contains values of users' work_email and personal_email.\n",
    "\n",
    "Using the COALESCE() function, we can create a column called email, which shows the user's work_email if it is not null. Otherwise, it shows personal_email.\n",
    "\n",
    "user_id          work_email                             personal_email            COALESCE() of work_email and personal_email\\\n",
    "\n",
    "1                angel@datacamp.com                     null                      angel@datacamp.com\\\n",
    "\n",
    "2                null                                   bruce@gmail.com           bruce@gmail.com\\\n",
    "\n",
    "3                cath@datacamp.com                      cath@gmail.com            cath@datacamp.com\n",
    "\n"
   ]
  },
  {
   "cell_type": "markdown",
   "id": "cbdb2673-8fe5-4e81-acfc-284908acb41a",
   "metadata": {},
   "source": [
    "### COALESCE() syntax\n",
    "\n",
    "COALESCE(value_1, value_2, ...., value_n)\n",
    "\n",
    "The COALESCE() function takes in at least one value (value_1). It will return the first value in the list that is non-null. \n",
    "\n",
    "For example, it will first check if value_1 is null. If not, then it returns value_1. Otherwise, it checks if value_2 is null. The process goes on until the list is complete. \n",
    "\n",
    "### COALESCE() examples"
   ]
  },
  {
   "cell_type": "markdown",
   "id": "8bdb246f-b904-4b00-a8cb-9e49e58f96b3",
   "metadata": {},
   "source": [
    "### Example 1: COALESCE() a column with a constant\n",
    "\n",
    "Consider the table countries with a list of countries and their national days. Some national days are empty. For rows with empty national days, we can fill it in with the value 'Unknown'. \n",
    "\n",
    "The query and the result are as follows. \n",
    "\n",
    "\n",
    "SELECT\\\n",
    "   country_id,\\\n",
    "   name, \\\n",
    "   national_day,\\\n",
    "   COALESCE(national_day, 'Unknown') AS national_day_coalesced\\\n",
    "FROM countries\\\n",
    "ORDER BY country_id\n",
    "\n",
    "Notice how the null value in national_day is replaced by a constant Unknown. "
   ]
  },
  {
   "cell_type": "markdown",
   "id": "acb07b5d-fbc1-4d81-858b-ca426a845f68",
   "metadata": {},
   "source": [
    "### Example 2: COALESCE() two columns\n",
    "\n",
    "We have a table named products. It contains the product name and its description. Some descriptions are too long (more than 60 characters). In that case, we replace the description with the product name.\n",
    "\n",
    "The query and the result are as follows.\n",
    "\n",
    "\n",
    "SELECT DISTINCT\\\n",
    "   product_name,\\\n",
    "   description,\\\n",
    "   COALESCE(\n",
    "      CASE WHEN \n",
    "         LENGTH(description) >= 60 \n",
    "         THEN NULL \n",
    "         ELSE description \n",
    "         END, \n",
    "      product_name) product_name_or_description\\\n",
    "FROM products\n",
    "\n",
    "Notice how the column product_name_or_description displays the product_name if the description is long. Otherwise, it displays the description.\n",
    "\n"
   ]
  },
  {
   "cell_type": "markdown",
   "id": "cf1a9dbd-f4cf-4e57-ac4f-d7339007a01b",
   "metadata": {},
   "source": [
    "### Example 3: COALESCE() three columns or more\n",
    "\n",
    "We can take example 2 one step further. Assume that there are currently two requirements.\n",
    "\n",
    "- If the length of the description is less than 60, then display the description.\n",
    "- Otherwise, check if the length of the product_name is less than 20. If so, we display the product_name\n",
    "- Otherwise, display product\n",
    "\n",
    "SELECT DISTINCT\\\n",
    "   product_name,\\\n",
    "   description,\\\n",
    "   COALESCE(\n",
    "      CASE \n",
    "         WHEN LENGTH(description) > 50\n",
    "         THEN NULL\n",
    "         ELSE description\n",
    "      END,\\\n",
    "   CASE \n",
    "      WHEN LENGTH(product_name) > 14\n",
    "      THEN NULL\n",
    "      ELSE product_name\n",
    "   END,\n",
    "'product') AS product_name_or_description\\\n",
    "FROM products\\\n",
    "ORDER BY product_name\n",
    "\n",
    "Notice how the column product_name_or_description displays either the product_name or the description depending on the lengths of the product_name or description.\n",
    "\n"
   ]
  },
  {
   "cell_type": "markdown",
   "id": "6c8a36ba-fe3a-4d1b-b175-f1f1c36506d5",
   "metadata": {},
   "source": [
    "## Technical requirements\n",
    "\n",
    "COALESCE() works in SQL Server (starting with 2008), Azure SQL Database, Azure SQL Data Warehouse, Parallel Data Warehouse, BigQuery, and Amazon RedShift.\n",
    "\n",
    "See also\n",
    "\n",
    "FORMAT() SQL Function\\\n",
    "DATEDIFF() SQL Function\\\n",
    "INSERT INTO SQL Function\\\n",
    "COUNT() SQL Function\\\n",
    "Learn more about SQL\n",
    "\n",
    "How to learn SQL\\\n",
    "SQL Tutorial for beginners\\\n",
    "SQL Cheat Sheets"
   ]
  },
  {
   "cell_type": "markdown",
   "id": "2b4d8eab-e573-4b72-acab-038e26e4ed3e",
   "metadata": {},
   "source": []
  },
  {
   "cell_type": "markdown",
   "id": "eeadb733-5fcf-477e-99c3-fe83d6accd93",
   "metadata": {},
   "source": []
  },
  {
   "cell_type": "markdown",
   "id": "6691911c-eb9f-4ac3-bc3f-3b8c2203e139",
   "metadata": {},
   "source": []
  },
  {
   "cell_type": "markdown",
   "id": "b888eefe-810f-499b-a644-4759f82adf34",
   "metadata": {},
   "source": []
  },
  {
   "cell_type": "markdown",
   "id": "7867d28a-1dcd-4974-93e8-6f5cc7cb870f",
   "metadata": {},
   "source": []
  },
  {
   "cell_type": "markdown",
   "id": "c59c78da-90cb-41de-96bd-dda3c26a6666",
   "metadata": {},
   "source": []
  },
  {
   "cell_type": "markdown",
   "id": "4dea5f16-ba41-4d46-a45d-18eb30f49589",
   "metadata": {},
   "source": []
  },
  {
   "cell_type": "markdown",
   "id": "6fe5a7d0-5ab0-4c6d-ad4f-86a12b96cabb",
   "metadata": {},
   "source": []
  },
  {
   "cell_type": "markdown",
   "id": "909205a4-ef55-474a-b262-e41b8fe240eb",
   "metadata": {},
   "source": []
  },
  {
   "cell_type": "markdown",
   "id": "2793c02d-fdf1-4f1e-9d15-f9c9b2427334",
   "metadata": {},
   "source": []
  },
  {
   "cell_type": "markdown",
   "id": "7737378d-bda7-4853-90dd-bf06e215bc26",
   "metadata": {},
   "source": []
  },
  {
   "cell_type": "markdown",
   "id": "27e80503-fc28-4a72-ae07-ac43d601c835",
   "metadata": {},
   "source": []
  },
  {
   "cell_type": "markdown",
   "id": "c1132205-8e9a-45fa-a004-c4b4f3532cd9",
   "metadata": {},
   "source": []
  },
  {
   "cell_type": "markdown",
   "id": "cb11568f-6865-45b3-a61a-0bd2cacdae93",
   "metadata": {},
   "source": []
  },
  {
   "cell_type": "markdown",
   "id": "410be6e1-28d9-4f82-b084-63438e6f0b98",
   "metadata": {},
   "source": []
  },
  {
   "cell_type": "markdown",
   "id": "8b21588b-e6fc-40da-98bf-d94f6fc5648e",
   "metadata": {},
   "source": []
  },
  {
   "cell_type": "markdown",
   "id": "a33393c1-4be6-4570-8a2d-469ebf9d61d9",
   "metadata": {},
   "source": []
  },
  {
   "cell_type": "markdown",
   "id": "2e0c58d8-3439-47e0-9261-f21e2d9aa85f",
   "metadata": {},
   "source": []
  },
  {
   "cell_type": "markdown",
   "id": "36f8db4d-1521-468d-9b94-ee41562b9286",
   "metadata": {},
   "source": []
  },
  {
   "cell_type": "markdown",
   "id": "29acc367-72c2-43af-8762-75d2e64504d7",
   "metadata": {},
   "source": []
  },
  {
   "cell_type": "markdown",
   "id": "adc537a3-2a05-40b8-b17b-41c662764d68",
   "metadata": {},
   "source": []
  },
  {
   "cell_type": "markdown",
   "id": "f8956d4a-2edc-4ec8-bd0a-10bbb26b0a28",
   "metadata": {},
   "source": []
  },
  {
   "cell_type": "markdown",
   "id": "41382abd-13c9-448c-88a2-7445aa777947",
   "metadata": {},
   "source": []
  },
  {
   "cell_type": "markdown",
   "id": "0b6219eb-f21c-4cb0-bac1-8833d4ac1414",
   "metadata": {},
   "source": []
  },
  {
   "cell_type": "markdown",
   "id": "0b44687e-6dea-4ee5-82ff-71fca23d458c",
   "metadata": {},
   "source": []
  },
  {
   "cell_type": "markdown",
   "id": "f1181479-2bba-4074-8df4-ff023978bb40",
   "metadata": {},
   "source": []
  },
  {
   "cell_type": "markdown",
   "id": "b8a334b0-9260-45df-94bf-91e811155760",
   "metadata": {},
   "source": []
  },
  {
   "cell_type": "markdown",
   "id": "630d5a86-4e78-48d3-9965-d3002f79a519",
   "metadata": {},
   "source": []
  },
  {
   "cell_type": "markdown",
   "id": "96b66806-3d3c-4c88-a680-cc251f94f5e8",
   "metadata": {},
   "source": []
  },
  {
   "cell_type": "markdown",
   "id": "963c824a-9cd6-4fd4-91c0-d89ff73126bd",
   "metadata": {},
   "source": []
  },
  {
   "cell_type": "markdown",
   "id": "10150c63-6d1e-4f9f-beb8-6a7a0f44fbe7",
   "metadata": {},
   "source": []
  },
  {
   "cell_type": "markdown",
   "id": "40179788-232b-4630-bc52-553c0be9476b",
   "metadata": {},
   "source": []
  },
  {
   "cell_type": "markdown",
   "id": "774ab5d3-eab4-49cd-a43d-c413ab537083",
   "metadata": {},
   "source": []
  },
  {
   "cell_type": "markdown",
   "id": "f5e403cc-20a5-47d0-90c6-c5ea2555404b",
   "metadata": {},
   "source": []
  },
  {
   "cell_type": "markdown",
   "id": "d5e7ab7d-fdae-4cbb-9ef1-baf965c9e73e",
   "metadata": {},
   "source": []
  },
  {
   "cell_type": "markdown",
   "id": "1429bed0-19e8-4dd7-aae0-6e0de38ab4a7",
   "metadata": {},
   "source": []
  },
  {
   "cell_type": "markdown",
   "id": "7f41bb4f-e927-452c-b7df-9661e7c63ae7",
   "metadata": {},
   "source": []
  },
  {
   "cell_type": "markdown",
   "id": "116a9b47-0b28-4748-a9e5-20e2e26869c8",
   "metadata": {},
   "source": []
  },
  {
   "cell_type": "markdown",
   "id": "f691ef56-08ff-4a8d-9af9-98a7de355cfa",
   "metadata": {},
   "source": []
  },
  {
   "cell_type": "markdown",
   "id": "4b641a75-e819-451f-90aa-d61e98a563ae",
   "metadata": {},
   "source": []
  },
  {
   "cell_type": "markdown",
   "id": "7d44236c-b2ea-4901-8aa5-0f75e692dc52",
   "metadata": {},
   "source": []
  },
  {
   "cell_type": "markdown",
   "id": "6926a4bb-4d2a-4211-b5bb-e64b9392f9bd",
   "metadata": {},
   "source": []
  },
  {
   "cell_type": "markdown",
   "id": "7f440938-32e5-4b5e-8025-16219160b09e",
   "metadata": {},
   "source": []
  },
  {
   "cell_type": "markdown",
   "id": "eb9bab71-7a52-40f3-9a1a-8ba0c5ac8531",
   "metadata": {},
   "source": []
  },
  {
   "cell_type": "markdown",
   "id": "c3889dec-7775-44a2-ba09-b73e6485ca70",
   "metadata": {},
   "source": []
  },
  {
   "cell_type": "markdown",
   "id": "8d6a9d19-6fa0-4803-a37b-0d43e66f653a",
   "metadata": {},
   "source": []
  }
 ],
 "metadata": {
  "kernelspec": {
   "display_name": "Python 3 (ipykernel)",
   "language": "python",
   "name": "python3"
  },
  "language_info": {
   "codemirror_mode": {
    "name": "ipython",
    "version": 3
   },
   "file_extension": ".py",
   "mimetype": "text/x-python",
   "name": "python",
   "nbconvert_exporter": "python",
   "pygments_lexer": "ipython3",
   "version": "3.13.0"
  }
 },
 "nbformat": 4,
 "nbformat_minor": 5
}
