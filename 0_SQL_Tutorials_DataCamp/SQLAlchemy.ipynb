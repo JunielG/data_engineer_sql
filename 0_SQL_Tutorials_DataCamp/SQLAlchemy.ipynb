{
 "cells": [
  {
   "cell_type": "markdown",
   "id": "5179531a-0a09-46cb-b9ea-a0ecacd42a0b",
   "metadata": {},
   "source": [
    "# SQLAlchemy \n",
    "Tutorial With Examples\n",
    "\n",
    "\n",
    "Learn to access and run SQL queries on all types of relational databases using Python objects."
   ]
  },
  {
   "cell_type": "markdown",
   "id": "96e2190e-ae2c-4189-84ab-175563ce4c9b",
   "metadata": {},
   "source": [
    "This article will guide you through SQLAlchemy, a SQL toolkit for Python that simplifies tasks like querying, building, and managing databases.\n",
    "\n",
    "After reading this tutorial, I encourage you to enroll in our Introduction to Databases in Python course for more practice. Highlights include hands-on projects that guide you through filtering and grouping data, advanced SQLAlchemy queries, and learning to query, build, and write to essential databases, including SQLite, MySQL, and PostgreSQL."
   ]
  },
  {
   "cell_type": "markdown",
   "id": "265644be-bb78-43e2-82f0-0437471e78a2",
   "metadata": {},
   "source": [
    "### What is SQLAlchemy?\n",
    "\n",
    "SQLAlchemy is the Python SQL toolkit that allows developers to access and manage SQL databases using Pythonic domain language. You can write a query in the form of a string or chain Python objects for similar queries. Working with objects provides developers flexibility and allows them to build high-performance SQL-based applications. \n",
    "\n",
    "In simple words, it allows users to connect databases using Python language, run SQL queries using object-based programming, and streamline the workflow. \n",
    "\n",
    "##### Install SQLAlchemy\n",
    "\n",
    "It is fairly easy to install the package and get started with coding. \n",
    "\n",
    "You can install SQLAlchemy using the Python Package Manager (pip):"
   ]
  },
  {
   "cell_type": "code",
   "execution_count": 1,
   "id": "084c83cf-fdd9-4e12-af7f-bb3c6b2520f8",
   "metadata": {},
   "outputs": [
    {
     "name": "stdout",
     "output_type": "stream",
     "text": [
      "Requirement already satisfied: sqlalchemy in /Library/Frameworks/Python.framework/Versions/3.13/lib/python3.13/site-packages (2.0.36)\n",
      "Requirement already satisfied: typing-extensions>=4.6.0 in /Library/Frameworks/Python.framework/Versions/3.13/lib/python3.13/site-packages (from sqlalchemy) (4.12.2)\n",
      "Note: you may need to restart the kernel to use updated packages.\n"
     ]
    }
   ],
   "source": [
    "pip install sqlalchemy"
   ]
  },
  {
   "cell_type": "code",
   "execution_count": 3,
   "id": "07bbf4bb-1781-46c3-929b-65cd626cc9d8",
   "metadata": {},
   "outputs": [
    {
     "data": {
      "text/plain": [
       "'2.0.36'"
      ]
     },
     "execution_count": 3,
     "metadata": {},
     "output_type": "execute_result"
    }
   ],
   "source": [
    "import sqlalchemy\n",
    "sqlalchemy.__version__"
   ]
  },
  {
   "cell_type": "markdown",
   "id": "9a502984-f731-4dcd-80ee-c82a911184b4",
   "metadata": {},
   "source": [
    "Excellent, we have successfully installed SQLAlchemy version 1.4.41. \n",
    "\n",
    "##### Getting Started\n",
    "\n",
    "In this section, we will learn to connect SQLite databases, create table objects, and use them to run the SQL query. \n",
    "\n",
    "#### Connecting the database\n",
    "\n",
    "We will be using the European Football SQLite database from Kaggle, and it has two tables: divisions and matchs.\n",
    "\n",
    "First, we will create SQLite engine objects using create_object and pass the location address of the database. Then, we will create a connection object by connecting the engine. We will use the conn object to run all types of SQL queries."
   ]
  },
  {
   "cell_type": "markdown",
   "id": "63afb5f5-7710-41f6-bc1d-3977ab79880e",
   "metadata": {},
   "source": [
    "from sqlalchemy as db\\\n",
    "engine = db.create_engine(\"sqlite:///european_database.sqlite\")\n",
    "\n",
    "conn = engine.connect() "
   ]
  },
  {
   "cell_type": "code",
   "execution_count": null,
   "id": "c0c1172c-24e2-4c86-a77f-39b67cc5cc66",
   "metadata": {},
   "outputs": [],
   "source": [
    "from sqlalchemy as db\n",
    "engine = db.create_engine(\"sqlite:///european_database.sqlite\")\n",
    "\n",
    "conn = engine.connect() "
   ]
  },
  {
   "cell_type": "markdown",
   "id": "eb60f6eb-ba3b-4e9b-9e4b-2afc1165b340",
   "metadata": {},
   "source": [
    "If you want to connect PostgreSQL, MySQL, Oracle, and Microsoft SQL Server databases, check out engine configuration for smooth connectivity to the server. \n",
    "\n",
    "This SQLAlchemy tutorial assumes that you understand the fundamentals of Python and SQL. If not, then it is perfectly ok. You can take SQL Fundamentals and Python Fundamentals skill track to build a strong base.                                   \n",
    "\n",
    "Accessing the table\n",
    "\n",
    "To create a table object, we need to provide table names and metadata. You can produce metadata using SQLAlchemy’s MetaData() function."
   ]
  },
  {
   "cell_type": "code",
   "execution_count": null,
   "id": "c7e39576-8647-423a-a95e-4f36bb3542f6",
   "metadata": {},
   "outputs": [],
   "source": [
    "metadata = db.MetaData() #extracting the metadata\n",
    "division= db.Table('divisions', metadata, autoload=True, \n",
    "autoload_with=engine) #Table object"
   ]
  },
  {
   "cell_type": "code",
   "execution_count": null,
   "id": "e5801c1a-887a-421c-8a4c-49d9de10a99c",
   "metadata": {},
   "outputs": [],
   "source": [
    "# Let’s print the divisions metadata. \n",
    "print(repr(metadata.tables['divisions']))"
   ]
  },
  {
   "cell_type": "markdown",
   "id": "a2b1f817-5dd1-4e81-9b1b-1a2d0aaa3ff7",
   "metadata": {},
   "source": [
    "The metadata contains the table name, column names with the type, and schema. "
   ]
  },
  {
   "cell_type": "code",
   "execution_count": null,
   "id": "0fe42150-1441-4b01-8b92-73b500225ada",
   "metadata": {},
   "outputs": [],
   "source": [
    "Table('divisions', MetaData(), Column('division', TEXT(), table=<divisions>), \n",
    "Column('name', TEXT(), table=<divisions>), Column('country', TEXT(), \n",
    "table=<divisions>), schema=None)"
   ]
  },
  {
   "cell_type": "markdown",
   "id": "462f0caa-68e6-45de-b2a9-d02acbba0993",
   "metadata": {},
   "source": [
    "Let’s use the table object division to print column names. \n",
    "\n",
    "\n"
   ]
  },
  {
   "cell_type": "code",
   "execution_count": null,
   "id": "981a1436-36ca-402a-b13d-3bd7f1a153ec",
   "metadata": {},
   "outputs": [],
   "source": [
    "print(division.columns.keys())"
   ]
  },
  {
   "cell_type": "markdown",
   "id": "d754d759-d15e-433d-99bd-30d5768c7348",
   "metadata": {},
   "source": [
    "The table consists of a division, name, and country columns. "
   ]
  },
  {
   "cell_type": "code",
   "execution_count": null,
   "id": "e2979407-77b2-472f-9dd6-8395088f9fe4",
   "metadata": {},
   "outputs": [],
   "source": [
    "['division', 'name', 'country']"
   ]
  },
  {
   "cell_type": "markdown",
   "id": "c77965d9-6a48-431d-9312-b60cf7ffb749",
   "metadata": {},
   "source": [
    "### Simple SQL query\n",
    "\n",
    "Now comes the fun part. We will use the table object to run the query and extract the results. \n",
    "\n",
    "In the code below, we are selecting all of the columns for the division table. "
   ]
  },
  {
   "cell_type": "code",
   "execution_count": null,
   "id": "e54e8da4-0eb0-4e66-9dbe-5737779196af",
   "metadata": {},
   "outputs": [],
   "source": [
    "query = division.select() #SELECT * FROM divisions\n",
    "print(query)"
   ]
  },
  {
   "cell_type": "markdown",
   "id": "67dd9035-a279-4abc-99a4-8a49b06fa734",
   "metadata": {},
   "source": [
    "Note: you can also write the select command as db.select([division]).\n",
    "\n",
    "To view the query, print the query object, and it will show the SQL command. "
   ]
  },
  {
   "cell_type": "code",
   "execution_count": null,
   "id": "ffab9832-937c-4f08-ae64-698e1ffcb106",
   "metadata": {},
   "outputs": [],
   "source": [
    "SELECT divisions.division, divisions.name, divisions.country\n",
    "FROM divisions"
   ]
  },
  {
   "cell_type": "markdown",
   "id": "f8bdadbd-4597-4c2c-9f26-3a9e181d6da8",
   "metadata": {},
   "source": [
    "#### SQL query result\n",
    "\n",
    "We will now execute the query using the connection object and extract the first five rows. \n",
    "\n",
    "fetchone(): it will extract a single row at a time.\\\n",
    "fetchmany(n): it will extract the n number of rows at a time.\\\n",
    "fetchall(): it will extract all of the rows.  "
   ]
  },
  {
   "cell_type": "code",
   "execution_count": null,
   "id": "7dfde863-69dd-4c56-94c2-5cc0074e3335",
   "metadata": {},
   "outputs": [],
   "source": [
    "exe = conn.execute(query) #executing the query\n",
    "result = exe.fetchmany(5) #extracting top 5 results\n",
    "print(result)"
   ]
  },
  {
   "cell_type": "code",
   "execution_count": null,
   "id": "ee1446a2-8a47-49e6-95d5-b41a14c1767f",
   "metadata": {},
   "outputs": [],
   "source": [
    "[('B1', 'Division 1A', 'Belgium'), ('D1', 'Bundesliga', 'Deutschland'), ('D2', '2. Bundesliga', 'Deutschland'), ('E0', 'Premier League', 'England'), ('E1', 'EFL Championship', 'England')]"
   ]
  },
  {
   "cell_type": "markdown",
   "id": "e170d5bb-56ff-4f74-8ec5-5af583487802",
   "metadata": {},
   "source": [
    "#### Python SQLAlchemy Examples\n",
    "\n",
    "In this section, we will look at various SQLAlchemy examples for creating tables, inserting values, running SQL queries, data analysis, and table management. \n",
    "\n",
    "You can follow along or check out this DataLab workbook. It contains a database, source code, and results. \n",
    "\n",
    "Creating Tables\n",
    "\n",
    "First, we will create a new database called datacamp.sqlite. The create_engine will create a new database automatically if there is no database with the same name. So, creating and connecting are pretty much similar.\n",
    "\n",
    "After that, we will connect the database and create a metadata object. \n",
    "\n",
    "We will use SQLAlchmy’s Table function to create a table called “Student”\n",
    "\n",
    "It consists of columns:\n",
    "\n",
    "Id: Integer and primary key\n",
    "Name: String and non-nullable \n",
    "Major: String and default = “Math”\n",
    "Pass: Boolean and default =True \n",
    "We have created the structure of the table. Let’s add it to the database using `metadata.create_all(engine)`.\n",
    "\n",
    "\n"
   ]
  },
  {
   "cell_type": "code",
   "execution_count": null,
   "id": "ab1d5d28-5956-4496-b1b5-91ebfd817746",
   "metadata": {},
   "outputs": [],
   "source": [
    "engine = db.create_engine('sqlite:///datacamp.sqlite')\n",
    "conn = engine.connect()\n",
    "metadata = db.MetaData()\n",
    "\n",
    "Student = db.Table('Student', metadata,\n",
    "              db.Column('Id', db.Integer(),primary_key=True),\n",
    "              db.Column('Name', db.String(255), nullable=False),\n",
    "              db.Column('Major', db.String(255), default=\"Math\"),\n",
    "              db.Column('Pass', db.Boolean(), default=True)\n",
    "              )\n",
    "\n",
    "metadata.create_all(engine) "
   ]
  },
  {
   "cell_type": "markdown",
   "id": "2d6fdc04-6158-4cc4-9e84-512bfb0f1a20",
   "metadata": {},
   "source": [
    "#### Insert one\n",
    "\n",
    "To add a single row, we will first use insert and add the table object. After that, use values and add values to the columns manually. It works similarly to adding arguments to Python functions.   \n",
    "\n",
    "Finally, we will execute the query using the connection to execute the function."
   ]
  },
  {
   "cell_type": "code",
   "execution_count": null,
   "id": "1cc7e94f-9f7c-435f-ac1c-47dadeede3eb",
   "metadata": {},
   "outputs": [],
   "source": [
    "query = db.insert(Student).values(Id=1, Name='Matthew', Major=\"English\", Pass=True)\n",
    "Result = conn.execute(query)"
   ]
  },
  {
   "cell_type": "markdown",
   "id": "1d5a3a18-1416-42a4-80fe-bcbe6977757a",
   "metadata": {},
   "source": [
    "Let’s check if we add the row to the Student table by executing a select query and fetching all the rows. "
   ]
  },
  {
   "cell_type": "code",
   "execution_count": null,
   "id": "1b0e13cd-cccb-4ebf-8b77-c098719eb40d",
   "metadata": {},
   "outputs": [],
   "source": [
    "output = conn.execute(Student.select()).fetchall()\n",
    "print(output)"
   ]
  },
  {
   "cell_type": "markdown",
   "id": "6f50b078-57cb-4d13-bd0b-26cde069a106",
   "metadata": {},
   "source": [
    "We have successfully added the values. "
   ]
  },
  {
   "cell_type": "code",
   "execution_count": null,
   "id": "15807b0c-c205-4997-baba-3835f5112668",
   "metadata": {},
   "outputs": [],
   "source": [
    "[(1, 'Matthew', 'English', True)]"
   ]
  },
  {
   "cell_type": "markdown",
   "id": "73b2cf63-5b30-4b74-82d0-122ec4e5e1a5",
   "metadata": {},
   "source": [
    "#### Insert many\n",
    "\n",
    "Adding values one by one is not a practical way of populating the database. Let’s add multiple values using lists. \n",
    "\n",
    "Create an insert query for the Student table.\n",
    "\n",
    "Create a list of multiple rows with column names and values.\n",
    "\n",
    "Execute the query with a second argument as values_list. "
   ]
  },
  {
   "cell_type": "code",
   "execution_count": null,
   "id": "912404df-f313-452f-8e23-e252dfb4dbc8",
   "metadata": {},
   "outputs": [],
   "source": [
    "query = db.insert(Student)\n",
    "values_list = [{'Id':'2', 'Name':'Nisha', 'Major':\"Science\", 'Pass':False},\n",
    "              {'Id':'3', 'Name':'Natasha', 'Major':\"Math\", 'Pass':True},\n",
    "              {'Id':'4', 'Name':'Ben', 'Major':\"English\", 'Pass':False}]\n",
    "Result = conn.execute(query,values_list)"
   ]
  },
  {
   "cell_type": "code",
   "execution_count": null,
   "id": "7fb1110e-dadf-4ffb-8129-3dae36c39e3e",
   "metadata": {},
   "outputs": [],
   "source": [
    "output = conn.execute(db.select([Student])).fetchall()\n",
    "print(output)"
   ]
  },
  {
   "cell_type": "code",
   "execution_count": null,
   "id": "f7ae559e-41a1-4385-beff-0a030497840e",
   "metadata": {},
   "outputs": [],
   "source": [
    "[(1, 'Matthew', 'English', True), (2, 'Nisha', 'Science', False), (3, 'Natasha', 'Math', True), (4, 'Ben', 'English', False)]"
   ]
  },
  {
   "cell_type": "markdown",
   "id": "cb32e037-166a-4121-ba79-79ba47854fd2",
   "metadata": {},
   "source": [
    "### Simple SQL Query with SQLAlchemy\n",
    "\n",
    "Instead of using Python objects, we can also execute SQL queries using String. \n",
    "\n",
    "Just add the argument as a String to the execute() function and view the result using fetchall().\n",
    "\n",
    "\n"
   ]
  },
  {
   "cell_type": "code",
   "execution_count": null,
   "id": "1aeb7e6b-4fa2-4295-a555-be913cbabda9",
   "metadata": {},
   "outputs": [],
   "source": [
    "output = conn.execute(\"SELECT * FROM Student\")\n",
    "print(output.fetchall())"
   ]
  },
  {
   "cell_type": "code",
   "execution_count": null,
   "id": "0fa4dc34-9ae5-4348-afd6-588a51f98baf",
   "metadata": {},
   "outputs": [],
   "source": [
    "[(1, 'Matthew', 'English', 1), (2, 'Nisha', 'Science', 0), (3, 'Natasha', 'Math', 1), (4, 'Ben', 'English', 0)]"
   ]
  },
  {
   "cell_type": "markdown",
   "id": "be03a438-1d2d-4601-92d3-be7a6a6dd807",
   "metadata": {},
   "source": [
    "You can even pass more complex SQL queries. In our case, we are selecting the Name and Major columns where the students have passed the exam. "
   ]
  },
  {
   "cell_type": "code",
   "execution_count": null,
   "id": "85f38970-60b5-42f3-92ce-c61268814ff6",
   "metadata": {},
   "outputs": [],
   "source": [
    "output = conn.execute(\"SELECT Name, Major FROM Student WHERE Pass = True\")\n",
    "print(output.fetchall())"
   ]
  },
  {
   "cell_type": "code",
   "execution_count": null,
   "id": "85b3d965-6f35-4137-9268-a04317c13886",
   "metadata": {},
   "outputs": [],
   "source": [
    "[('Matthew', 'English'), ('Natasha', 'Math')]"
   ]
  },
  {
   "cell_type": "markdown",
   "id": "50ebdbdd-9500-4372-a5da-ea0caac2c97b",
   "metadata": {},
   "source": [
    "### Using SQLAlchemy API\n",
    "\n",
    "In the previous sections, we have been using simple SQLAlchemy API/Objects. Let’s dive into more complex and multi-step queries.\n",
    "\n",
    "In the example below, we will select all columns where the student's major is English.  "
   ]
  },
  {
   "cell_type": "code",
   "execution_count": null,
   "id": "c16d251e-0036-4f94-b57d-1b0684a36370",
   "metadata": {},
   "outputs": [],
   "source": [
    "query = Student.select().where(Student.columns.Major == 'English')\n",
    "output = conn.execute(query)\n",
    "print(output.fetchall())"
   ]
  },
  {
   "cell_type": "code",
   "execution_count": null,
   "id": "8e813dea-98a1-49f5-a360-09f88bac2812",
   "metadata": {},
   "outputs": [],
   "source": [
    "[(1, 'Matthew', 'English', True), (4, 'Ben', 'English', False)]"
   ]
  },
  {
   "cell_type": "markdown",
   "id": "d9b6914e-39ad-4930-92dd-ab270529bd23",
   "metadata": {},
   "source": [
    "Let’s apply AND logic to the WHERE query. \n",
    "\n",
    "In our case, we are looking for students who have an English major, and they have failed.  \n",
    "\n",
    "Note: not equal to ‘!=’ True is False. \n",
    "\n",
    "\n"
   ]
  },
  {
   "cell_type": "code",
   "execution_count": null,
   "id": "73ab1500-a652-49be-a1d3-b2062f6d3c3f",
   "metadata": {},
   "outputs": [],
   "source": [
    "query = Student.select().where(db.and_(Student.columns.Major == 'English', Student.columns.Pass != True))\n",
    "output = conn.execute(query)\n",
    "print(output.fetchall())"
   ]
  },
  {
   "cell_type": "markdown",
   "id": "8878b74a-c4b8-49f0-b95e-5403357676a3",
   "metadata": {},
   "source": [
    "Only Ben has failed the exam with an English major. "
   ]
  },
  {
   "cell_type": "code",
   "execution_count": null,
   "id": "680738ed-2280-421f-8d03-642a250b4583",
   "metadata": {},
   "outputs": [],
   "source": [
    "[(4, 'Ben', 'English', False)]"
   ]
  },
  {
   "cell_type": "markdown",
   "id": "16421a43-8bc7-4a3c-9e1a-80afab677956",
   "metadata": {},
   "source": [
    "Using a similar table, we can run all kinds of commands, as shown in the table below. \n",
    "\n",
    "You can copy and paste these commands to test the results on your own. Check out the DataLab workbook if you get stuck in any of the given commands. \n",
    "\n",
    "Commands         API\n",
    "\n",
    "in               Student.select().where(Student.columns.Major.in_(['English','Math']))\n",
    "\n",
    "and, or, not     Student.select().where(db.or_(Student.columns.Major == 'English', Student.columns.Pass = True))\n",
    "\n",
    "order by         Student.select().order_by(db.desc(Student.columns.Name))\n",
    "\n",
    "limit            Student.select().limit(3)\n",
    "\n",
    "sum, avg, count, min, max db.select([db.func.sum(Student.columns.Id)])\n",
    "\n",
    "group by   db.select([db.func.sum(Student.columns.Id),Student.columns.Major]).group_by(Student.columns.Pass)\n",
    "\n",
    "distinct   db.select([Student.columns.Major.distinct()])\n",
    "\n",
    "To learn about other functions and commands, check out SQL Statements and Expressions API official documentation.\n",
    "\n"
   ]
  },
  {
   "cell_type": "markdown",
   "id": "af1b4274-9657-46c7-b720-01a3a22c61f7",
   "metadata": {},
   "source": [
    "### Output to Pandas DataFrame\n",
    "\n",
    "Data scientists and analysts appreciate pandas dataframes and would love to work with them. In this part, we will learn how to convert an SQLAlchemy query result into a pandas dataframe. \n",
    "\n",
    "First, execute the query and save the results. \n",
    "\n",
    "\n"
   ]
  },
  {
   "cell_type": "code",
   "execution_count": null,
   "id": "b7e4ff16-67dd-4ebe-b23a-ab2908fd3697",
   "metadata": {},
   "outputs": [],
   "source": [
    "query = Student.select().where(Student.columns.Major.in_(['English','Math']))\n",
    "output = conn.execute(query)\n",
    "results = output.fetchall()"
   ]
  },
  {
   "cell_type": "markdown",
   "id": "fe0ce6a5-3e3a-46bc-8140-0a499ddc7ecc",
   "metadata": {},
   "source": [
    "Then, use the DataFrame() function and provide the SQL results as an argument. Finally, add the column names using the result first-row results[0] and .keys().\n",
    "\n",
    "Note: you can provide any valid row to extract the names of the columns using keys()."
   ]
  },
  {
   "cell_type": "code",
   "execution_count": null,
   "id": "749c6d26-5a6d-4982-98fc-8a8583e85668",
   "metadata": {},
   "outputs": [],
   "source": [
    "data = pd.DataFrame(results)\n",
    "data.columns = results[0].keys()\n",
    "data"
   ]
  },
  {
   "cell_type": "markdown",
   "id": "ab561d63-22f0-4024-84aa-51280f4ba41e",
   "metadata": {},
   "source": [
    "### Data analytics with SQLAlchemy\n",
    "\n",
    "In this part, we will connect the European football database and perform complex queries and visualize the results.  \n",
    "\n",
    "Connecting two tables\n",
    "\n",
    "As usual, we will connect the database using the create_engine() and connect() functions.\n",
    "\n",
    "In our case, we will be joining two tables, so we have to create two table objects: division and match.  "
   ]
  },
  {
   "cell_type": "code",
   "execution_count": null,
   "id": "3c7654eb-ce45-41f1-be60-769120f235c0",
   "metadata": {},
   "outputs": [],
   "source": [
    "engine = create_engine(\"sqlite:///european_database.sqlite\")\n",
    "conn = engine.connect()\n",
    "metadata = db.MetaData()\n",
    "division = db.Table('divisions', metadata, autoload=True, autoload_with=engine)\n",
    "match = db.Table('matchs', metadata, autoload=True, autoload_with=engine)"
   ]
  },
  {
   "cell_type": "markdown",
   "id": "2baae900-f92c-4792-85fa-416e9ee94c9d",
   "metadata": {},
   "source": [
    "#### Running complex query\n",
    "\n",
    "We will select both division and match columns.\n",
    "Join them using a common column: division.division and match.Div.\n",
    "Select all columns where the division is E1 and the season is 2009.\n",
    "Order the result by HomeTeam.\n",
    "You can even create more complex queries by adding additional modules.\n",
    "\n",
    "Note: to auto-join two table you can also use: db.select([division.columns.division,match.columns.Div]).\n"
   ]
  },
  {
   "cell_type": "code",
   "execution_count": null,
   "id": "8268451e-aaa1-4111-bfa0-282ef07ec95e",
   "metadata": {},
   "outputs": [],
   "source": [
    "query = db.select([division,match]).\\\n",
    "select_from(division.join(match,division.columns.division == match.columns.Div)).\\\n",
    "where(db.and_(division.columns.division == \"E1\", match.columns.season == 2009 )).\\\n",
    "order_by(match.columns.HomeTeam)\n",
    "output = conn.execute(query)\n",
    "results = output.fetchall()\n",
    "\n",
    "data = pd.DataFrame(results)\n",
    "data.columns = results[0].keys()\n",
    "data"
   ]
  },
  {
   "cell_type": "markdown",
   "id": "81a8b24e-59a2-4ebc-a595-41cf48bff9f6",
   "metadata": {},
   "source": [
    "After executing the query, we converted the result into a pandas dataframe. \n",
    "\n",
    "Both tables are joined, and the results only show the E1 division for the 2009 season ordered by the HomeTeam column. \n",
    "\n",
    "#### Data Visualization\n",
    "\n",
    "Now that we have a dataframe, we can visualize the results in the form of a bar chart using Seaborn. \n",
    "\n",
    "#### We will:\n",
    "\n",
    "1.Set the theme to “whitegrid”\\\n",
    "2.Resize the visualization size to 15X6\\\n",
    "3.Rotate x-axis ticks to 90\\\n",
    "4.Set color palates to “pastels”\\\n",
    "5.Plot a bar chart of \"HomeTeam\" v.s \"FTHG\" with the color Blue.\\\n",
    "6.Plot a bar chart of \"HomeTeam\" v.s \"FTAG\" with the color Red.\\\n",
    "7.Display the legend on the upper left.\\\n",
    "8.Remove the x and y labels. \\\n",
    "9.Despine left and bottom.\n",
    "\n",
    "The main purpose of this part is to show you how you can use the output of the SQL query and create amazing data visualization. "
   ]
  },
  {
   "cell_type": "code",
   "execution_count": null,
   "id": "796e99e6-6c89-4ed8-a9a2-d98cc8bf0d0e",
   "metadata": {},
   "outputs": [],
   "source": [
    "import seaborn as sns\n",
    "import matplotlib.pyplot as plt\n",
    "sns.set_theme(style=\"whitegrid\")\n",
    "\n",
    "f, ax = plt.subplots(figsize=(15, 6))\n",
    "plt.xticks(rotation=90)\n",
    "sns.set_color_codes(\"pastel\")\n",
    "sns.barplot(x=\"HomeTeam\", y=\"FTHG\", data=data,\n",
    "            label=\"Home Team Goals\", color=\"b\")\n",
    "\n",
    "sns.barplot(x=\"HomeTeam\", y=\"FTAG\", data=data,\n",
    "            label=\"Away Team Goals\", color=\"r\")\n",
    "ax.legend(ncol=2, loc=\"upper left\", frameon=True)\n",
    "ax.set(ylabel=\"\", xlabel=\"\")\n",
    "sns.despine(left=True, bottom=True)"
   ]
  },
  {
   "cell_type": "markdown",
   "id": "c13ed173-0b91-4331-a1b2-bd58487597da",
   "metadata": {},
   "source": [
    "#### Saving results to CSV\n",
    "\n",
    "After converting the query result to pandas dataframe, you can simply use the .to_csv() function with the file name. "
   ]
  },
  {
   "cell_type": "code",
   "execution_count": null,
   "id": "a0b90ad9-2853-458b-9e0c-f8cdc429308b",
   "metadata": {},
   "outputs": [],
   "source": [
    "output = conn.execute(\"SELECT * FROM matchs WHERE HomeTeam LIKE 'Norwich'\")\n",
    "results = output.fetchall()\n",
    "\n",
    "\n",
    "data = pd.DataFrame(results)\n",
    "data.columns = results[0].keys()"
   ]
  },
  {
   "cell_type": "markdown",
   "id": "1d464f75-32fc-463e-8105-94dd840e5d07",
   "metadata": {},
   "source": [
    "Avoid adding a column called “Index” by using `index=False`."
   ]
  },
  {
   "cell_type": "code",
   "execution_count": null,
   "id": "4c54625f-4906-4959-986f-4582b536f3b2",
   "metadata": {},
   "outputs": [],
   "source": [
    "data.to_csv(\"SQl_result.csv\",index=False)"
   ]
  },
  {
   "cell_type": "markdown",
   "id": "d3a3cbba-b139-4505-af0c-3d0447fc294c",
   "metadata": {},
   "source": [
    "#### CSV file to SQL table\n",
    "\n",
    "In this part, we will convert the Stock Exchange Data CSV file to an SQL table. \n",
    "\n",
    "First, connect to the datacamp sqlite database."
   ]
  },
  {
   "cell_type": "code",
   "execution_count": null,
   "id": "21d81ffa-85a1-4ca5-926b-a42345349ccb",
   "metadata": {},
   "outputs": [],
   "source": [
    "engine = create_engine(\"sqlite:///datacamp.sqlite\")"
   ]
  },
  {
   "cell_type": "markdown",
   "id": "cb4a8db6-4ad7-4706-b7c1-ec14d13eebd1",
   "metadata": {},
   "source": [
    "Then, import the CSV file using the read_csv() function. In the end, use the to_sql() function to save the pandas dataframe as an SQL table.  \n",
    "\n",
    "Primarily, the to_sql() function requires connection and table name as an argument. You can also use if_exisits to replace an existing table with the same name and index to drop the index column. \n",
    "\n",
    "\n"
   ]
  },
  {
   "cell_type": "code",
   "execution_count": null,
   "id": "088847a4-b199-47a9-b369-11db2ee3f477",
   "metadata": {},
   "outputs": [],
   "source": [
    "df = pd.read_csv('Stock Exchange Data.csv')\n",
    "df.to_sql(con=engine, name=\"Stock_price\", if_exists='replace', index=False)"
   ]
  },
  {
   "cell_type": "markdown",
   "id": "8336f594-6a35-4ee2-a36f-eb336e8c60e7",
   "metadata": {},
   "source": [
    "To validate the results, we need to connect the database and create a table object. "
   ]
  },
  {
   "cell_type": "code",
   "execution_count": null,
   "id": "5654da7b-4140-4212-b138-249df6be4911",
   "metadata": {},
   "outputs": [],
   "source": [
    "conn = engine.connect()\n",
    "metadata = db.MetaData()\n",
    "stock = db.Table('Stock_price', metadata, autoload=True, autoload_with=engine)"
   ]
  },
  {
   "cell_type": "markdown",
   "id": "bee2cf46-d935-460b-99cd-687e012b48aa",
   "metadata": {},
   "source": [
    "Then, execute the query and display the results."
   ]
  },
  {
   "cell_type": "code",
   "execution_count": null,
   "id": "59a15340-9458-4c30-a7bd-1ccda5e2817a",
   "metadata": {},
   "outputs": [],
   "source": [
    "query = stock.select()\n",
    "exe = conn.execute(query)\n",
    "result = exe.fetchmany(5)\n",
    "for r in result:\n",
    "    print(r)"
   ]
  },
  {
   "cell_type": "markdown",
   "id": "f6aa04fd-1a7a-4f8d-a0d6-ba833d8f80cf",
   "metadata": {},
   "source": [
    "As you can see, we have successfully transferred all the values from the CSV file to the SQL table. "
   ]
  },
  {
   "cell_type": "code",
   "execution_count": null,
   "id": "ded779b3-63ce-4777-aaf2-5b8fd7afe4ce",
   "metadata": {},
   "outputs": [],
   "source": [
    "('HSI', '1986-12-31', 2568.300049, 2568.300049, 2568.300049, 2568.300049, 2568.300049, 0, 333.87900637)\n",
    "('HSI', '1987-01-02', 2540.100098, 2540.100098, 2540.100098, 2540.100098, 2540.100098, 0, 330.21301274)\n",
    "('HSI', '1987-01-05', 2552.399902, 2552.399902, 2552.399902, 2552.399902, 2552.399902, 0, 331.81198726)\n",
    "('HSI', '1987-01-06', 2583.899902, 2583.899902, 2583.899902, 2583.899902, 2583.899902, 0, 335.90698726)\n",
    "('HSI', '1987-01-07', 2607.100098, 2607.100098, 2607.100098, 2607.100098, 2607.100098, 0, 338.92301274)"
   ]
  },
  {
   "cell_type": "markdown",
   "id": "511b2d09-7353-4f00-8b0b-fdbe1c700c0e",
   "metadata": {},
   "source": [
    "### SQL table management\n",
    "\n",
    "Updating the values in table\n",
    "\n",
    "Updating values is straightforward. We will use the update, values, and where functions to update the specific value in the table. "
   ]
  },
  {
   "cell_type": "code",
   "execution_count": null,
   "id": "2ef4d109-b0e1-4e2f-8e19-3b6896f8ad7d",
   "metadata": {},
   "outputs": [],
   "source": [
    "table.update().values(column_1=1, column_2=4,...).where(table.columns.column_5 >= 5)"
   ]
  },
  {
   "cell_type": "markdown",
   "id": "bf0cb23b-6a4d-45cf-b805-13f8a7e27ea6",
   "metadata": {},
   "source": [
    "In our case, we have changed the Pass value from False to True where the name of the student is Nisha.  \n",
    "\n",
    "\n"
   ]
  },
  {
   "cell_type": "code",
   "execution_count": null,
   "id": "93a1b6c3-6c8e-40b6-add9-4fee35a9d21f",
   "metadata": {},
   "outputs": [],
   "source": [
    "Student = db.Table('Student', metadata, autoload=True, autoload_with=engine)\n",
    "query = Student.update().values(Pass = True).where(Student.columns.Name == \"Nisha\")\n",
    "results = conn.execute(query)"
   ]
  },
  {
   "cell_type": "markdown",
   "id": "8cbc3f70-f2a0-4786-8623-69558726d902",
   "metadata": {},
   "source": [
    "To validate the results, let’s execute a simple query and display the results in the form of a pandas dataframe. "
   ]
  },
  {
   "cell_type": "code",
   "execution_count": null,
   "id": "10866cea-7068-42e3-8cc7-b31a5ba0384d",
   "metadata": {},
   "outputs": [],
   "source": [
    "output = conn.execute(Student.select()).fetchall()\n",
    "data = pd.DataFrame(output)\n",
    "data.columns = output[0].keys()\n",
    "data"
   ]
  },
  {
   "cell_type": "markdown",
   "id": "b7c58dc4-a3ee-43bc-9b17-08d7ebe0e5da",
   "metadata": {},
   "source": [
    "### Delete the records\n",
    "\n",
    "Deleting the rows is similar to updating. It requires the delete() and where() functions. "
   ]
  },
  {
   "cell_type": "code",
   "execution_count": null,
   "id": "ee12d6e7-0abb-4d6c-9e15-c763d3538278",
   "metadata": {},
   "outputs": [],
   "source": [
    "table.delete().where(table.columns.column_1 == 6)"
   ]
  },
  {
   "cell_type": "markdown",
   "id": "749785e9-460f-4b2c-a859-eab07dfa00d4",
   "metadata": {},
   "source": [
    "In our case, we are deleting the record of the student named Ben."
   ]
  },
  {
   "cell_type": "code",
   "execution_count": null,
   "id": "afe53d92-951c-4817-985f-9905e7636962",
   "metadata": {},
   "outputs": [],
   "source": [
    "Student = db.Table('Student', metadata, autoload=True, autoload_with=engine)\n",
    "query = Student.delete().where(Student.columns.Name == \"Ben\")\n",
    "results = conn.execute(query)"
   ]
  },
  {
   "cell_type": "markdown",
   "id": "9c849c5f-bb16-41ca-8f4d-41fac61e13b9",
   "metadata": {},
   "source": [
    "To validate the results, we will run a quick query and display the results in the form of a dataframe. As you can see, we have deleted the row containing the student named Ben."
   ]
  },
  {
   "cell_type": "code",
   "execution_count": null,
   "id": "105c2295-0291-4647-b632-359af6b29ef0",
   "metadata": {},
   "outputs": [],
   "source": [
    "output = conn.execute(Student.select()).fetchall()\n",
    "data = pd.DataFrame(output)\n",
    "data.columns = output[0].keys()\n",
    "data"
   ]
  },
  {
   "cell_type": "markdown",
   "id": "3f7c616f-8ff7-44bc-af95-e271935ce3ce",
   "metadata": {},
   "source": [
    "### Dropping tables\n",
    "\n",
    "If you are using SQLite, dropping the table will throw an error database is locked. Why? Because SQLite is a very light version. It can only perform one function at a time. Currently, it is executing a select query. We need to close the entire execution before deleting the table. "
   ]
  },
  {
   "cell_type": "code",
   "execution_count": null,
   "id": "2460bf7a-4966-442b-89a3-410a587dac95",
   "metadata": {},
   "outputs": [],
   "source": [
    "results.close()\n",
    "exe.close()"
   ]
  },
  {
   "cell_type": "markdown",
   "id": "82bac523-8ae3-4fce-b04f-3af63ef77364",
   "metadata": {},
   "source": [
    "After that, use metadata’s drop_all() function and select a table object to drop the single table. You can also use the Student.drop(engine) command to drop a single table."
   ]
  },
  {
   "cell_type": "code",
   "execution_count": null,
   "id": "c588a635-e57f-4538-92fe-f91981661813",
   "metadata": {},
   "outputs": [],
   "source": [
    "metadata.drop_all(engine, [Student], checkfirst=True)"
   ]
  },
  {
   "cell_type": "markdown",
   "id": "a8c73411-da15-48da-92b2-0f8d8975841b",
   "metadata": {},
   "source": [
    "If you don’t specify any table for the drop_all() function. It will drop all of the tables in the database. "
   ]
  },
  {
   "cell_type": "code",
   "execution_count": null,
   "id": "bbdfc27b-26da-4acd-bf06-6ae32550bb6b",
   "metadata": {},
   "outputs": [],
   "source": [
    "metadata.drop_all(engine)"
   ]
  },
  {
   "cell_type": "markdown",
   "id": "caaf57a5-8be0-4bad-a2b4-5caa25186141",
   "metadata": {},
   "source": [
    "## Conclusion \n",
    "\n",
    "The SQLAlchemy tutorial covers various functions of SQLAlchemy, from connecting the database to modifying tables, and if you are interested in learning more, try completing the Introduction to Databases in Python interactive course. You will learn about the basics of relational databases, filtering, ordering, and grouping. Furthermore, you will learn about advanced SQLAlchemy functions for data manipulation.  \n",
    "\n",
    "If you are finding any issues in following the tutorial, head over to the DataLab workbook and compare your code with it. You can also make a copy of the workbook and run it right inside DataLab."
   ]
  },
  {
   "cell_type": "code",
   "execution_count": null,
   "id": "525dd2cf-e14c-4e76-974f-c29813518d07",
   "metadata": {},
   "outputs": [],
   "source": []
  },
  {
   "cell_type": "code",
   "execution_count": null,
   "id": "0a2d7cc3-9b40-47de-98fc-57b1b3bf5e74",
   "metadata": {},
   "outputs": [],
   "source": []
  }
 ],
 "metadata": {
  "kernelspec": {
   "display_name": "Python 3 (ipykernel)",
   "language": "python",
   "name": "python3"
  },
  "language_info": {
   "codemirror_mode": {
    "name": "ipython",
    "version": 3
   },
   "file_extension": ".py",
   "mimetype": "text/x-python",
   "name": "python",
   "nbconvert_exporter": "python",
   "pygments_lexer": "ipython3",
   "version": "3.13.0"
  }
 },
 "nbformat": 4,
 "nbformat_minor": 5
}
