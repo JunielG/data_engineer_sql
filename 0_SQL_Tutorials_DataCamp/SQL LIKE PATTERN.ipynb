{
 "cells": [
  {
   "cell_type": "markdown",
   "id": "ed2f292e-05f8-4c63-92da-8a3f46449f20",
   "metadata": {},
   "source": [
    "# SQL LIKE Pattern Matching Tutorial\n",
    "Use LIKE to filter SQL records on specific string matches. This tutorial teaches you to use wildcards, NOT, LOWER, UPPER, and CASE WHEN with LIKE."
   ]
  },
  {
   "cell_type": "markdown",
   "id": "b1cda1d2-6c77-4eb9-8221-5874404fdad5",
   "metadata": {},
   "source": [
    "Like it or not, the LIKE operator is essential in SQL. It gives data scientists and data engineers the power to filter data on specific string matches. This article provides a quick tutorial on LIKE for beginners and intermediates.\n",
    "### The SQL LIKE Operator for Pattern Matching\n",
    "Note: To easily run all the example code in this tutorial yourself, you can create a free DataLab workbook with SQL installed and databases with sample data.\n",
    "\n",
    "Suppose you have an employees table and would like to find all names that start with ‘A’:\n",
    "                                                                                                                            You could spend time looking through the table manually. But why would you do that when you have the LIKE operator?\\\n",
    "SELECT DISTINCT\\\n",
    "\tfirst_name\\\n",
    "FROM employees\\\n",
    "WHERE first_name LIKE 'A%'\n",
    "                                                                                                                                                                                                      \n",
    "The magic here is in the clause `WHERE first_name LIKE ‘A%’`, which means “find all first_name starting with \"A\" and ending with any number of characters.” The `A%` here is known as a pattern for matching. \n",
    "\n",
    "The `%` is not the only wildcard you can use in conjunction with the LIKE operator. You could use the underscore sign `_` , too:\n",
    "\n",
    "`%` matches any number of characters.\\\n",
    "`_` matches any single character.\\\n",
    "The syntax is easy to remember. It is simply:\n",
    "\n",
    "column_name LIKE pattern"
   ]
  },
  {
   "cell_type": "markdown",
   "id": "efcad6a0-4d2d-4659-897e-e4e985dca411",
   "metadata": {},
   "source": [
    "# Beginner SQL LIKE Examples\n",
    "Below, we’ve outlined some practical examples of how you can use the LIKE statement and the results from our sample data set. \\\n",
    "### 1. Use LIKE for exact string match\n",
    "If you’d like to perform an exact string match, use LIKE without ‘%’ or ‘_’\n",
    "\n",
    "SELECT\\\n",
    "    first_name, last_name\\\n",
    "FROM employees\\\n",
    "WHERE first_name LIKE 'Barry' -- the same as WHERE first_name = ‘Barry’\\\n",
    "### 2. Use ‘%’ to match any number of characters \n",
    "‘%’ can be used to match any (even zero) number of characters – a number, an alphabet, or a symbol.\\\n",
    "\n",
    "Suppose you want to find all employees whose name starts with ‘Adam’; you can use the pattern ‘Adam%’\\\n",
    "SELECT DISTINCT\\\n",
    "    first_name\\\n",
    "FROM employees\\\n",
    "WHERE first_name LIKE 'Adam%'\n",
    "\n",
    "To find names that end with \"z\" try the pattern ‘%z’. You can also use multiple ‘%’ in one pattern. For example, if you want to find names that contain \"z\", use ‘%z%’."
   ]
  },
  {
   "cell_type": "markdown",
   "id": "02333b4c-d127-4d6c-af8b-f055c7a4cf91",
   "metadata": {},
   "source": [
    "### 3. Use ‘_’ to match one (and only one) character\n",
    "Like the game Hangman, the underscore sign _ can only fit one character.\\\n",
    "How many ways are there to spell Le_n? The pattern would match anything from \"Lexn\", \"LeAn\", \"Le3n\", or \"Le-n\".\n",
    "\n",
    "SELECT DISTINCT\\\n",
    "    first_name\\\n",
    "FROM employees\\\n",
    "WHERE first_name LIKE 'Le_n'\n",
    "\n",
    "What are the different names with only three characters? We can find out using three consecutive underscores ___ as the pattern.\n",
    "\n",
    "SELECT DISTINCT\\\n",
    "    first_name\\\n",
    "FROM employees\\\n",
    "WHERE first_name LIKE '___'"
   ]
  },
  {
   "cell_type": "markdown",
   "id": "b7e89c6b-19de-429e-ae01-6871d5b9520d",
   "metadata": {},
   "source": [
    "### 4. Use both ‘%’ and ‘_’ to match any pattern\n",
    "Of course, you can use both ‘%’ and ‘_’ to create interesting patterns. \n",
    "\n",
    "SELECT DISTINCT\\\n",
    "    first_name\\\n",
    "FROM employees\\\n",
    "WHERE first_name LIKE '%ann_'\n",
    "\n",
    "The pattern ‘%ann_’ matches a string that starts with any number of characters and ends with \"ann\" and one other character."
   ]
  },
  {
   "cell_type": "markdown",
   "id": "63efb8fd-5f26-4516-b51f-6d4470075d96",
   "metadata": {},
   "source": [
    "### 5. Use NOT to find strings that do not match a pattern\n",
    "\n",
    "What if you want to find all rows that do not match a specific criterion? You can use the NOT LIKE operator. For example, to find all titles except for \"Staff\", we can use the syntax\n",
    "\n",
    "`WHERE title NOT LIKE ‘Staff’`\n",
    "This is exactly equivalent to the syntax\n",
    "\n",
    "`WHERE title != ‘Staff’`\n",
    "\n",
    "SELECT DISTINCT\\\n",
    "    title\\\n",
    "FROM titles\\\n",
    "WHERE title NOT LIKE 'Staff'\n",
    "\n",
    "Of course, you can use NOT LIKE with any of the patterns we described.\n",
    "\n",
    "SELECT DISTINCT\\\n",
    "    title\\\n",
    "FROM titles \n",
    "WHERE title NOT LIKE '%engineer'"
   ]
  },
  {
   "cell_type": "markdown",
   "id": "ffb084bf-7462-4180-836a-d0088eb29223",
   "metadata": {},
   "source": [
    "### 6. Use LOWER (or UPPER) with LIKE for case-insensitive pattern matching\n",
    "\n",
    "You can use the following syntax if you need to perform pattern matching but aren’t sure if the string is stored in lowercase, uppercase, or mixed case.\n",
    "\n",
    "\n",
    "`LOWER(column_name) LIKE pattern`\n",
    "\n",
    "The function LOWER() returns all strings in lowercase, regardless of whether they are stored as upper-, lower-, or mixed case. \n",
    "\n",
    "When using the syntax, make sure you spell the pattern in all lowercase! Else, you might not get any matches.\n",
    "\n",
    "You could replace LOWER with UPPER in the syntax above, too. Be sure to spell out the pattern in capital letters.\n",
    "\n",
    "\n",
    "`UPPER(column_name) LIKE PATTERN`\n",
    "\n",
    "For example, to find out if an employee’s name is \"Joanne\", \"JoAnne\", \"Joanna\", or \"JoAnna\", try either of the following:\n",
    "\n",
    "\n",
    "SELECT DISTINCT\\\n",
    "    first_name\\\n",
    "FROM employees\\\n",
    "WHERE lower(first_name) LIKE 'joann_'\n",
    "\n",
    "SELECT DISTINCT\\\n",
    "    first_name\\\n",
    "FROM employees\\\n",
    "WHERE UPPER(first_name) LIKE 'JOANN_'"
   ]
  },
  {
   "cell_type": "markdown",
   "id": "e5226905-86cf-4fb4-b90a-3c6420ef1800",
   "metadata": {},
   "source": [
    "### 7. SQL LIKE with multiple values using OR/AND\n",
    "\n",
    "You can combine multiple conditions using the LIKE syntax, too. \n",
    "\n",
    "For example, use the OR condition to find results that satisfy at least one out of multiple LIKE patterns.\n",
    "\n",
    "\n",
    "SELECT DISTINCT\n",
    "    first_name\n",
    "FROM employees\n",
    "WHERE\n",
    "first_name LIKE 'Ad_l' OR\n",
    "first_name LIKE 'Ad_m'\n",
    "\n",
    "On the other hand, to find a string that matches multiple LIKE conditions, use the AND keyword.\n",
    "\n",
    "\n",
    "SELECT DISTINCT\\\n",
    "    first_name\\\n",
    "FROM employees\\\n",
    "WHERE\\\n",
    "first_name LIKE '%am%' AND\\\n",
    "first_name LIKE '%me%'\n",
    "\n",
    "The LIKE syntax can be applied to multiple columns as long as their variable type is a variable-length character (varchar). Knowing that we can find the names of employees whose initials are \"Z. Z.\"\n",
    "\n",
    "\n",
    "SELECT DISTINCT\\\n",
    "    first_name, last_name\\\n",
    "FROM employees\\\n",
    "WHERE\\\n",
    "first_name LIKE 'Z%' AND\\\n",
    "last_name LIKE 'Z%'"
   ]
  },
  {
   "cell_type": "markdown",
   "id": "88e1d624-f8ab-4153-8e69-1be5fcc093d7",
   "metadata": {},
   "source": [
    "### 8. Use LIKE in the SELECT CASE WHEN clause \n",
    "\n",
    "Thus far, we have focused on using LIKE as a condition for selecting records in the WHERE clause. We also use LIKE in the SELECT clause. For example, can we find out how many employees named \"Adam\" are in our database?\n",
    "\n",
    "\n",
    "SELECT\\\n",
    "    COUNT(CASE WHEN first_name LIKE 'Adam' THEN 1 END) num_employees_adam\\\n",
    "FROM employees\n",
    "\n",
    "On the other hand, how many employees have the initials \"A.Z.\"?\n",
    "\n",
    "\n",
    "SELECT\\\n",
    "    COUNT(CASE WHEN first_name LIKE 'A%' AND last_name LIKE 'Z%' THEN 1 END) num_employees\\\n",
    "FROM employees\n",
    "\n",
    "Common patterns used in SQL LIKE\n",
    "\n",
    "Here's a summary of the patterns we discussed for quick reference:\n",
    "\n",
    "Pattern\t    Description\t                                                    Example use case\\\n",
    "A%\t        Matches strings starting with \"A\"\t                            Finding names starting with \"A\"\\\n",
    "%z%\t        Matches strings containing \"z\"\t                                Finding names containing \"z\"\\\n",
    "Le_n\t    Matches strings like \"Len\", \"Leon\", etc.\t                    Finding names with a single character variation\\\n",
    "%ann_\t    Matches strings ending with \"ann\" and one additional character\tFinding names like \"Joann\", \"Joanna\"\n"
   ]
  },
  {
   "cell_type": "markdown",
   "id": "c7aef0fa-1849-4378-96d4-fa9f83a69d86",
   "metadata": {},
   "source": [
    "# Intermediate Examples of SQL LIKE\n",
    "\n",
    "The LIKE function is largely similar across different flavors of SQL (e.g. PostgreSQL, MySQL, Redshift, etc.). However some have additional variations of the LIKE function that are worth mentioning. \n",
    "\n",
    "### 1. The ILIKE operator\n",
    "\n",
    "Available in Redshift and PostgreSQL, ILIKE is the case-insensitive version of LIKE. As such, all of the following are equivalent.\n",
    "\n",
    "SELECT\\\n",
    "  datacamp ILIKE ‘datacamp’, -- returns TRUE\\\n",
    "  DATACAMP ILIKE ‘datacamp’, -- returns TRUE\\\n",
    "  Datacamp ILIKE ‘datacamp’, -- returns TRUE\\\n",
    "  datacamp ILIKE ‘DataCamp’, -- returns TRUE"
   ]
  },
  {
   "cell_type": "markdown",
   "id": "402ad90d-299d-40f2-bab9-4d7befe35d22",
   "metadata": {},
   "source": [
    "### 2. Using square brackets [] and [^] as wildcard characters\n",
    "\n",
    "Users of T-SQL or SQL Server have additional wildcard characters for more complex pattern matching.\n",
    "\n",
    "The square bracket syntax [] matches any specific character within the range or set. For example, the following will all return TRUE.\n",
    "\n",
    "SELECT\\\n",
    "  ‘Carson’ LIKE ‘[C-K]arson’, -- returns TRUE because C is in the range C-K\\\n",
    "  ‘Karson’ LIKE ‘[C-K]arson’, -- returns TRUE because K is in range\\\n",
    "  ‘Larson’ LIKE ‘[CKL]arson’, -- returns TRUE because L is in the set [CKL]\\\n",
    "  ‘Parson’ LIKE ‘[C-K]arson’ -- returns FALSE because P is out of range\\\n",
    "The caret-in-square-bracket [^] wildcard matches any single character that is not within the specified range or set. Can you see why the following results are such? \n",
    "\n",
    "SELECT\\\n",
    "  ‘Carson’ LIKE ‘[^C-K]arson’ -- returns FALSE \\\n",
    "  ‘Parson’ LIKE ‘[^C-K]arson’ -- returns TRUE\\\n",
    "Here, since \"C\" is within the range of [C-K], the pattern ‘C’ will not match [^C-K]. Thus, \"Carson\" will not match [^C-K]arson, but \"Parson\" will.\n",
    "\n"
   ]
  },
  {
   "cell_type": "markdown",
   "id": "24583366-942a-494e-8662-dfb8fb09d948",
   "metadata": {},
   "source": [
    "### 3. The RLIKE operator\n",
    "\n",
    "Available in MySQL, the RLIKE operator recognizes regular expressions (RegEx) in the pattern. RegEx is a powerful and versatile tool for advanced pattern matching. \n",
    "\n",
    "It does not hurt to have a basic understanding of RegEx, especially if your SQL flavor supports RLIKE. You can learn more about RegEx with our Regular Expressions in Python course.\n",
    "\n",
    "\n",
    "SELECT DISTINCT\\\n",
    "    first_name\\\n",
    "FROM employees\\\n",
    "WHERE first_name RLIKE 'Susann[a-e]'"
   ]
  },
  {
   "cell_type": "markdown",
   "id": "ffce7ae0-dc3d-4864-8cbf-bf4c4874ecbe",
   "metadata": {},
   "source": [
    "### 4. The ‘~~’ operator\n",
    "\n",
    "In PostgreSQL, ‘~~’ is completely synonymous with LIKE. There are also equivalents of ILIKE, NOT LIKE, and NOT ILIKE.\n",
    "\n",
    "Operator\n",
    "\n",
    "Equivalent\n",
    "\n",
    "~~\n",
    "\n",
    "LIKE\n",
    "\n",
    "~~*\n",
    "\n",
    "ILIKE\n",
    "\n",
    "!~~\n",
    "\n",
    "NOT LIKE\n",
    "\n",
    "!~~*\n",
    "\n",
    "NOT ILIKE\n",
    "\n"
   ]
  },
  {
   "cell_type": "markdown",
   "id": "ccf44680-5e9b-4457-a777-ac8ee3b3e87c",
   "metadata": {},
   "source": [
    "# Troubleshooting: Common Errors and Mistakes with LIKE\n",
    "\n",
    "Here are some common errors you may run into when using LIKE, and how to correct them:\n",
    "\n",
    "1 No results returned: Check for case sensitivity. In some SQL dialects, LIKE is case-sensitive by default. Use LOWER() or ILIKE (if supported) for case-insensitive matching.\\\n",
    "2 Unexpected results with wildcards: Make sure % and _ are used correctly. % matches any number of characters, while _ matches exactly one character. Misplacing these can lead to unexpected matches.\\\n",
    "3 Performance issues: If your query is slow, look for leading % in patterns (e.g., %pattern), which disables index usage. Rewrite patterns to start with a specific string if possible. See the section below for more on performance. \\\n",
    "4 SQL injection errors: If you’re using user input in your query, make sure it is properly parameterized to avoid syntax errors or vulnerabilities.\\\n",
    "5 Special characters in patterns: Wildcard symbols like % and _ in the search string must be escaped if intended as literal characters. Use ESCAPE in your query to define an escape character.\\\n",
    "WHERE column_name LIKE '50\\% OFF' ESCAPE '\\'"
   ]
  },
  {
   "cell_type": "markdown",
   "id": "1542f0fe-4a46-4904-bdd9-10c5704e1e80",
   "metadata": {},
   "source": [
    "# Performance Considerations When Using the LIKE Operator\n",
    "\n",
    "The LIKE operator is great, but it can potentially impact query performance, especially when used on large datasets. Here are some considerations to optimize its use:\n",
    "\n",
    "1 Indexes: The LIKE operator performs best when the pattern starts with a constant string, such as Adam%, because the database can use indexes. However, patterns like %Adam or %Adam% require a full table scan, which can be slow for large tables.\\\n",
    "2 Avoid leading wildcards: Starting a pattern with %, such as %pattern, disables index usage, as the database has to examine every record.\\\n",
    "3 Collation and case-insensitive matching: Using functions like LOWER() or UPPER() on columns for case-insensitive searches can also prevent indexes from being used. Instead, make sure the database collation is set appropriately for case-insensitive comparisons.\\\n",
    "4 Alternative approaches: For large datasets, consider using full-text search or database-specific search features, such as GIN indexes in PostgreSQL or FULLTEXT indexes in MySQL, when performing complex or frequent string matching.\\\n",
    "5 Selective queries: Limit the scope of your queries using additional filters, such as date ranges or numerical columns, to reduce the data processed by the LIKE operator."
   ]
  },
  {
   "cell_type": "markdown",
   "id": "25b73021-10d5-400d-b9d7-0905413f26fe",
   "metadata": {},
   "source": [
    "## LIKE vs. Full-Text Search\n",
    "\n",
    "Full-text search, available in databases like MySQL, PostgreSQL, and SQL Server, is optimized for advanced text queries, such as searching for keywords, handling linguistic variations, and ranking results by relevance. While LIKE is great for basic tasks, full-text search is better for scalable and sophisticated text search.\n",
    "\n",
    "## Use SQL LIKE Confidently\n",
    "\n",
    "Mastering SQL functions is key to succeeding in data science, and SQL’s LIKE command is no exception. A good command of SQL will supercharge your analytics progress, so be sure to learn it well!\n",
    "\n",
    "For more resources on SQL, be sure to check out the following:\n",
    "\n",
    "Introduction to SQL Course\n",
    "Learn SQL hub\n",
    "SQL Basics Cheat Sheet\n"
   ]
  },
  {
   "cell_type": "markdown",
   "id": "dbaed7a4-d79a-4413-87dd-cae86fe786f9",
   "metadata": {},
   "source": []
  },
  {
   "cell_type": "markdown",
   "id": "2f70d4c4-515e-4e7c-9d9e-7a15eeb3889b",
   "metadata": {},
   "source": []
  },
  {
   "cell_type": "markdown",
   "id": "aa2feccb-8182-4826-9021-d50bd6ddf469",
   "metadata": {},
   "source": []
  },
  {
   "cell_type": "markdown",
   "id": "a0867da4-2b1a-45fb-aa11-447fa454b4ae",
   "metadata": {},
   "source": []
  },
  {
   "cell_type": "markdown",
   "id": "821adf6f-0c3d-44a3-af5e-6a7bf79f6cc5",
   "metadata": {},
   "source": []
  },
  {
   "cell_type": "markdown",
   "id": "cbd07d4b-bd7d-4cdb-baf0-d042c085c1da",
   "metadata": {},
   "source": []
  },
  {
   "cell_type": "markdown",
   "id": "0f4dd408-9cf0-47e8-9477-ac85ad853a01",
   "metadata": {},
   "source": []
  },
  {
   "cell_type": "markdown",
   "id": "26432cac-a2ab-47fa-b580-27906d4a85df",
   "metadata": {},
   "source": []
  },
  {
   "cell_type": "markdown",
   "id": "5c48cc0d-d5d7-4bc3-98b1-768db56264ea",
   "metadata": {},
   "source": []
  },
  {
   "cell_type": "markdown",
   "id": "2fa30aee-127d-4661-ab7d-c24dcb398ba8",
   "metadata": {},
   "source": []
  },
  {
   "cell_type": "markdown",
   "id": "d068a532-0a50-4101-923c-d9d8166bcf3c",
   "metadata": {},
   "source": []
  },
  {
   "cell_type": "markdown",
   "id": "8b4fa594-1f61-485b-8c13-d2d2f8ab808f",
   "metadata": {},
   "source": []
  },
  {
   "cell_type": "markdown",
   "id": "baa7ff1a-8ade-481e-91b1-7735eefc819b",
   "metadata": {},
   "source": []
  },
  {
   "cell_type": "markdown",
   "id": "e6a2896e-15ea-4748-8354-65ac135f2391",
   "metadata": {},
   "source": []
  },
  {
   "cell_type": "markdown",
   "id": "28540e96-de19-4921-a75a-49f72ea16a17",
   "metadata": {},
   "source": []
  },
  {
   "cell_type": "markdown",
   "id": "f52b131d-3a92-4583-94dc-9bfa7b9603fa",
   "metadata": {},
   "source": []
  },
  {
   "cell_type": "markdown",
   "id": "ed1e301f-1d9a-46b7-9252-7c04fbf4695d",
   "metadata": {},
   "source": []
  },
  {
   "cell_type": "markdown",
   "id": "0d9e0167-d376-4b3d-9b77-237a94cae4ad",
   "metadata": {},
   "source": []
  },
  {
   "cell_type": "markdown",
   "id": "2f7a820f-17b2-432f-84f4-7b66b06a594d",
   "metadata": {},
   "source": []
  },
  {
   "cell_type": "markdown",
   "id": "09a2f37e-1eff-4a76-80c4-c7fcb3b83dc9",
   "metadata": {},
   "source": []
  },
  {
   "cell_type": "markdown",
   "id": "7b4733a7-4e84-41d3-b2b8-eeaffb8f2574",
   "metadata": {},
   "source": []
  },
  {
   "cell_type": "markdown",
   "id": "36301f0f-25bc-4dd7-ad0d-07f1c57335dd",
   "metadata": {},
   "source": []
  },
  {
   "cell_type": "markdown",
   "id": "67104e96-d101-4e4f-bffd-01883ca5b601",
   "metadata": {},
   "source": []
  },
  {
   "cell_type": "markdown",
   "id": "a1639305-af58-47d8-b20e-5705a90c7f85",
   "metadata": {},
   "source": []
  },
  {
   "cell_type": "markdown",
   "id": "a82965ba-042b-4296-b9d8-991281e8ea4a",
   "metadata": {},
   "source": []
  },
  {
   "cell_type": "markdown",
   "id": "ee863d7f-1eee-4771-ac23-08b0906a23f3",
   "metadata": {},
   "source": []
  },
  {
   "cell_type": "markdown",
   "id": "49ba1cc0-75b6-4917-89d6-601f4ee63e56",
   "metadata": {},
   "source": []
  },
  {
   "cell_type": "markdown",
   "id": "77f7935a-1765-441b-a086-4076ada7eed5",
   "metadata": {},
   "source": []
  },
  {
   "cell_type": "markdown",
   "id": "61a4a536-c835-46aa-878d-64c76cc75dd4",
   "metadata": {},
   "source": []
  },
  {
   "cell_type": "markdown",
   "id": "b78c6600-dd8b-432b-b39f-03ffe95150db",
   "metadata": {},
   "source": []
  },
  {
   "cell_type": "markdown",
   "id": "57e357c4-3253-42da-a7de-911f112f8748",
   "metadata": {},
   "source": []
  },
  {
   "cell_type": "markdown",
   "id": "de4a340e-c45a-438d-a100-2ddbf94c2c68",
   "metadata": {},
   "source": []
  },
  {
   "cell_type": "markdown",
   "id": "b6a2bad3-faee-4014-b038-7b8260169f6b",
   "metadata": {},
   "source": []
  },
  {
   "cell_type": "markdown",
   "id": "d362fd0f-fcbb-4bf0-a8ec-022548e5b0e7",
   "metadata": {},
   "source": []
  },
  {
   "cell_type": "markdown",
   "id": "c1fa4c29-cf26-417d-9403-60b5aca65ca0",
   "metadata": {},
   "source": []
  },
  {
   "cell_type": "markdown",
   "id": "0a8d3af0-210e-4022-8142-70f20c6e4bb7",
   "metadata": {},
   "source": []
  },
  {
   "cell_type": "markdown",
   "id": "37a56de9-0ada-4ca1-9fc1-9c677dcf26fb",
   "metadata": {},
   "source": []
  },
  {
   "cell_type": "markdown",
   "id": "40a0b6cd-9517-466e-a04c-386582df3cce",
   "metadata": {},
   "source": []
  },
  {
   "cell_type": "markdown",
   "id": "3a6070cb-8654-4cc2-be3d-8c7167175229",
   "metadata": {},
   "source": []
  },
  {
   "cell_type": "markdown",
   "id": "345d2ec5-1d39-4fca-b108-9e5ab49cd42e",
   "metadata": {},
   "source": []
  },
  {
   "cell_type": "markdown",
   "id": "55eccbc6-c654-45cf-afc6-a0476910abb4",
   "metadata": {},
   "source": []
  },
  {
   "cell_type": "markdown",
   "id": "a2e5ce87-18a6-4128-9480-961bf22136e9",
   "metadata": {},
   "source": []
  },
  {
   "cell_type": "markdown",
   "id": "5e5dde02-431a-402f-9901-6313482ff7cb",
   "metadata": {},
   "source": []
  },
  {
   "cell_type": "markdown",
   "id": "35965d82-1389-4814-8054-204c42f48e83",
   "metadata": {},
   "source": []
  },
  {
   "cell_type": "markdown",
   "id": "64b739f7-8071-4536-bf66-d27cad2811ee",
   "metadata": {},
   "source": []
  },
  {
   "cell_type": "markdown",
   "id": "b1c1e75e-3403-478d-ae6d-611b72d4b334",
   "metadata": {},
   "source": []
  },
  {
   "cell_type": "markdown",
   "id": "f81fd268-b81a-41c7-9337-43c504c10c5a",
   "metadata": {},
   "source": []
  },
  {
   "cell_type": "markdown",
   "id": "ec7ac9ae-0217-4709-a7a3-d6baad79101f",
   "metadata": {},
   "source": []
  },
  {
   "cell_type": "markdown",
   "id": "ca8278cc-86b2-4ccc-81a2-fe34071c2e1c",
   "metadata": {},
   "source": []
  },
  {
   "cell_type": "markdown",
   "id": "94d182de-f2fe-4ec8-b8df-2d8c53f55aad",
   "metadata": {},
   "source": []
  },
  {
   "cell_type": "markdown",
   "id": "ff718e73-851e-4a4d-9760-62fc7a53a11d",
   "metadata": {},
   "source": []
  },
  {
   "cell_type": "markdown",
   "id": "f208134f-3285-4a86-bddd-07c8344693bc",
   "metadata": {},
   "source": []
  },
  {
   "cell_type": "markdown",
   "id": "544e8bff-8051-4141-9dc6-c5fe2a9bf29b",
   "metadata": {},
   "source": []
  },
  {
   "cell_type": "markdown",
   "id": "1177c7c7-74c7-49b8-ad02-9e5b816b223f",
   "metadata": {},
   "source": []
  },
  {
   "cell_type": "markdown",
   "id": "adb3aeb4-0015-4970-862b-3143458f0186",
   "metadata": {},
   "source": []
  },
  {
   "cell_type": "markdown",
   "id": "a2b7cdf6-be5e-4b3c-95c7-0ffa58fc9377",
   "metadata": {},
   "source": []
  },
  {
   "cell_type": "markdown",
   "id": "31a7a167-a2c5-46d3-afb8-14d27aaffc6b",
   "metadata": {},
   "source": []
  }
 ],
 "metadata": {
  "kernelspec": {
   "display_name": "Python 3 (ipykernel)",
   "language": "python",
   "name": "python3"
  },
  "language_info": {
   "codemirror_mode": {
    "name": "ipython",
    "version": 3
   },
   "file_extension": ".py",
   "mimetype": "text/x-python",
   "name": "python",
   "nbconvert_exporter": "python",
   "pygments_lexer": "ipython3",
   "version": "3.13.0"
  }
 },
 "nbformat": 4,
 "nbformat_minor": 5
}
