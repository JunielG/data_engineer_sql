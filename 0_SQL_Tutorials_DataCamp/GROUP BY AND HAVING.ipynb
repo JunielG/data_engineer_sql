{
 "cells": [
  {
   "cell_type": "markdown",
   "id": "f4c842e1-1b6e-4ca2-b8c7-70b21ddaba89",
   "metadata": {},
   "source": [
    "# How to Use GROUP BY and HAVING in SQL\n",
    "An intuitive guide for discovering the two most popular SQL commands to aggregate rows of your dataset"
   ]
  },
  {
   "cell_type": "markdown",
   "id": "e24d8a22-0773-4ec0-bb37-6b7c32d2d965",
   "metadata": {},
   "source": [
    "Aggregation is another name for summarizing your data points to get a single value. For example, calculating the mean or the minimum. Sometimes, aggregating all your data will result in a value that isn't useful.\n",
    "\n",
    "For example, if you are exploring buying behavior in your store, and the people who come in are a mix of poor students and rich professionals, it will be more informative to calculate the mean spend for those groups separately. That is, you need to aggregate the amount spent, grouped by different customer segments.\n",
    "\n",
    "This tutorial covers the SQL GROUP BY statement, as well as the HAVING statement that helps you control which rows of data are included in each group. \n",
    "\n",
    "HAVING is closely related to the WHERE statement, and you may wish to read the Introduction to the WHERE Clause in SQL tutorial first. You must also understand the SELECT and FROM statements, as covered in the SQL Query Examples and Tutorial.\n",
    "\n",
    "We will use the Unicorn Companies Database, which is available on DataLab, DataCamp's AI-enabled data notebook. These companies are called Unicorns because they are startup companies with a valuation of over a billion dollars. For simplicity, we’ll focus on three tables: companies, sales, and product_emissions.  To run all the example code in this tutorial yourself, you can create a DataLab workbook for free with the database and all code samples pre-loaded for you."
   ]
  },
  {
   "cell_type": "markdown",
   "id": "6b344828-c7ef-4c73-b7a0-28080c3dc89a",
   "metadata": {},
   "source": [
    "#### Using SQL GROUP BY\n",
    "GROUP BY is a SQL command commonly used to aggregate the data to get insights from it. There are three phases when you group data:\n",
    "\n",
    "Split: the dataset is split up into chunks of rows based on the values of the variables we have chosen for the aggregation\n",
    "Apply: Compute an aggregate function, like average, minimum and maximum, returning a single value\n",
    "Combine: All these resulting outputs are combined in a unique table. In this way, we’ll have a single value for each modality of the variable of interest."
   ]
  },
  {
   "cell_type": "markdown",
   "id": "a445b083-8b69-44a4-864c-a3e239f0e174",
   "metadata": {},
   "source": [
    "#### SQL GROUP BY Example 1\n",
    "We can begin by showing a simple example of GROUP BY. Suppose we want to find the top ten countries with the highest number of Unicorn companies. \n",
    "\n",
    "SELECT * \n",
    "FROM companies"
   ]
  },
  {
   "cell_type": "markdown",
   "id": "ee747e69-acf4-4eed-92b0-868c7a3151e0",
   "metadata": {},
   "source": [
    "- It also would be nice to order the results in decreasing order based on the number of companies\n",
    "\n",
    "SELECT country, COUNT(*) AS n_companies\\\n",
    "FROM companies\\\n",
    "GROUP BY country\\\n",
    "ORDER BY n_companies DESC\\\n",
    "LIMIT 10"
   ]
  },
  {
   "cell_type": "markdown",
   "id": "12584d4d-12bf-4195-9e23-432e313ee341",
   "metadata": {},
   "source": [
    "Here we have the results. You will probably not be surprised to find the US, China, and India in the ranking. Let’s explain the decision behind this query: \n",
    "\n",
    "- First, notice that we used COUNT(*) to count the rows for each group, which corresponds to the country. In addition, we also used the SQL alias to rename the column into a more explainable name. This is possible by using the keyword AS, followed by the new name. COUNT is covered in more depth in the COUNT() SQL FUNCTION tutorial.\n",
    "- The fields were selected from the table companies, where each row corresponds to a Unicorn company. \n",
    "- After, we need to specify the column name after GROUP BY to aggregate the data based on the country. \n",
    "- ORDER BY is required to visualize the countries in the right order, from the highest number to the lower number of companies. \n",
    "- We limit the results to 10 using LIMIT, which is followed by the number of rows you want in the results.\n",
    "\n"
   ]
  },
  {
   "cell_type": "markdown",
   "id": "78448936-a2e6-447a-955b-f26d6d4609a5",
   "metadata": {},
   "source": [
    "#### SQL GROUP BY Example 2\n",
    "Now, we will analyze the table with the sales. For each order number, we have the type of client, the product line, the quantity, the unit price, the total, etc."
   ]
  },
  {
   "cell_type": "markdown",
   "id": "c58b12f6-47df-48eb-8fdc-6c660c466e81",
   "metadata": {},
   "source": [
    "This time, we are interested in finding the average price per unit, the total number of orders, and the total gain for each product line:\n",
    "\n",
    "SELECT \\\n",
    "    product_line,\\\n",
    "    AVG(unit_price) AS avg_price,\\\n",
    "    SUM(quantity) AS tot_pieces,\\\n",
    "    SUM(total) AS total_gain\\\n",
    "FROM sales\\\n",
    "GROUP BY product_line\\\n",
    "ORDER BY total_gain DESC"
   ]
  },
  {
   "cell_type": "markdown",
   "id": "0fd36057-a90d-4ee6-8677-5046d431328b",
   "metadata": {},
   "source": [
    "- Instead of counting the number of rows, we have the AVG() function to obtain the average price and the SUM() function to calculate the total number of orders and the total gain for each product line. \n",
    "\n",
    "- As before, we specify the column initially dividing the dataset into chunks. Then the aggregation functions will allow us to obtain a row per each modality of the product line. \n",
    "\n",
    "- This time, ORDER BY is optional. It was included to highlight how the higher total gains are not always proportional to higher average prices or total pieces. "
   ]
  },
  {
   "cell_type": "markdown",
   "id": "4017c97c-470e-438f-be76-98683e07f70b",
   "metadata": {},
   "source": [
    "#### The Limitations of WHERE\n",
    "Let’s take the previous example again. Now, we want to put a condition to the query: we only want to filter for the total number of orders higher than 40,000. Let's try the WHERE clause:\n",
    "\n",
    "SELECT\\\n",
    "    product_line,\\\n",
    "    AVG(unit_price) AS avg_price,\\\n",
    "    SUM(quantity) AS tot_pieces,\\\n",
    "    SUM(total) AS total_gain\\\n",
    "FROM sales\\\n",
    "WHERE SUM(total) > 40000\\\n",
    "GROUP BY product_line\\\n",
    "ORDER BY total_gain DESC"
   ]
  },
  {
   "cell_type": "markdown",
   "id": "22585568-9d8c-4582-b392-c8015888d700",
   "metadata": {},
   "source": [
    "This query will return the following error:\n",
    "\n",
    "SQL error message when using aggregate functions with WHERE\n",
    "\n",
    "This error’s not possible to pass aggregated functions in the WHERE clause. We need a new command to solve this issue.m"
   ]
  },
  {
   "cell_type": "markdown",
   "id": "dfd0b602-bd9c-4808-b0d1-40b18258141b",
   "metadata": {},
   "source": [
    "#### Using SQL HAVING\n",
    "Like WHERE, the HAVING clause filters the rows of a table. Whereas WHERE tried to filter the whole table, HAVING filters rows within each of the groups defined by GROUP BY\n",
    "\n",
    "#### SQL HAVING Example 1\n",
    "Here's the previous example again, replacing the word WHERE with HAVING."
   ]
  },
  {
   "cell_type": "markdown",
   "id": "71be12ff-c636-4294-8913-756ce0e9f5cf",
   "metadata": {},
   "source": [
    "SELECT \\\n",
    "    product_line,\\\n",
    "    AVG(unit_price) AS avg_price,\\\n",
    "    SUM(quantity) AS tot_pieces,\\\n",
    "    SUM(total) AS total_gain\\\n",
    "FROM sales\\\n",
    "GROUP BY product_line\\\n",
    "HAVING SUM(total) > 40000\\\n",
    "ORDER BY total_gain DESC"
   ]
  },
  {
   "cell_type": "markdown",
   "id": "7f57074c-8139-4cbc-bb33-6fc33f5a336a",
   "metadata": {},
   "source": [
    "This time it will produce three rows. The other product lines didn’t match the criterion, so we passed from six results to three. \n",
    "\n",
    "What else do you notice from the query? We didn’t pass the column alias to HAVING, but the aggregation of the original field. Are you asking yourself why? You’ll unravel the mystery in the next example."
   ]
  },
  {
   "cell_type": "markdown",
   "id": "8adfc3d8-569d-4f14-80eb-35bc624b7146",
   "metadata": {},
   "source": [
    "#### SQL HAVING Example 2\n",
    "As the last example, we will use the table called product_emissions, which contains the emission of the products provided by the companies.\n",
    "\n",
    "SQL table with successful HAVING aggregation\n",
    "\n",
    "This time, we are interested in showing the average product carbon footprint (pcf) for each company that belongs to the industry group “Technology Hardware & Equipment.” Moreover, it would be helpful to see the number of products for each company to understand if there is some relationship between the number of products and the carbon footprint. We also again use HAVING to extract companies with an average carbon footprint of over 100."
   ]
  },
  {
   "cell_type": "markdown",
   "id": "027067ec-e3ad-4552-bbc5-9d156a713078",
   "metadata": {},
   "source": [
    "SELECT pe.company, count(product_name) AS n_products, avg(carbon_footprint_pcf) AS avg_carbon_footprint_pcf\\\n",
    "FROM product_emissions AS pe\\\n",
    "WHERE industry_group = 'Technology Hardware & Equipment'\\\n",
    "GROUP BY pe.company, industry_group\\\n",
    "having avg_carbon_footprint_pcf>100\\\n",
    "ORDER BY n_products"
   ]
  },
  {
   "cell_type": "markdown",
   "id": "60299826-7530-4e42-b7f7-b94945f3121c",
   "metadata": {},
   "source": [
    "An error appeared after trying to use the alias. For the HAVING clause, the new column’s name doesn’t exist, so it won’t be able to filter the query. Let’s correct the request:"
   ]
  },
  {
   "cell_type": "markdown",
   "id": "5749fbe1-daa7-4092-83c6-854dca72b788",
   "metadata": {},
   "source": [
    "SELECT pe.company, count(product_name) AS n_products, avg(carbon_footprint_pcf) AS avg_carbon_footprint_pcf\\\n",
    "FROM product_emissions AS pe\\\n",
    "WHERE industry_group = 'Technology Hardware & Equipment'\\\n",
    "GROUP BY pe.company, industry_group\\\n",
    "having avg(carbon_footprint_pcf)>100\\\n",
    "ORDER BY n_products"
   ]
  },
  {
   "cell_type": "markdown",
   "id": "0c320d52-93ac-41bd-919f-304caefa69eb",
   "metadata": {},
   "source": [
    "This time, the condition worked, and we can visualize the results from the table. We just learned that column aliases can’t be used in HAVING because this condition is applied before the SELECT. For this reason, it cannot recognize the fields from the new names."
   ]
  },
  {
   "cell_type": "markdown",
   "id": "90b1f49c-322d-4b63-aeb1-707fc1fc93e5",
   "metadata": {},
   "source": [
    "#### SQL Order of Execution\n",
    "This is the order of the commands while writing the query:\n",
    "\n",
    "SELECT\\\n",
    "FROM\\\n",
    "WHERE\\\n",
    "GROUP BY\\\n",
    "HAVING\\\n",
    "ORDER BY"
   ]
  },
  {
   "cell_type": "markdown",
   "id": "0b931c6c-a3a7-4bf2-827f-c383511a410c",
   "metadata": {},
   "source": [
    "But there is a question you need to ask yourself. In what order do SQL commands execute? As humans, we often take for granted that the computer reads and interprets SQL from top to down. But the reality is different from what it might look like. This is the right order of execution:\n",
    "\n",
    "FROM\\\n",
    "WHERE\\\n",
    "GROUP BY\\\n",
    "HAVING\\\n",
    "SELECT\\\n",
    "ORDER BY\\\n",
    "LIMIT"
   ]
  },
  {
   "cell_type": "markdown",
   "id": "ba65509b-e574-4863-a0f9-bf959859ab70",
   "metadata": {},
   "source": [
    "So, the query processor doesn’t start from SELECT, but it begins by selecting which tables to include, and SELECT is executed after HAVING. This explains why HAVING doesn’t allow the use of ALIAS, while ORDER BY doesn’t have problems with it. In addition to this aspect, this order of execution clarifies the reason why HAVING is used together with GROUP BY to apply conditions on aggregated data, while WHERE cannot. \n",
    "\n",
    "I would read our tutorial, SQL Order of Execution: Understanding How Queries Run, which gives good detail, if you want to learn more."
   ]
  },
  {
   "cell_type": "markdown",
   "id": "39b37ba0-442c-45ff-9dd9-bc9fd0d8dd74",
   "metadata": {},
   "source": [
    "Take It to the Next Level\n",
    "\n",
    "After reading this tutorial, you should have a clear idea of the difference between GROUP BY and HAVING. You can practice on DataLab to master these concepts.\n",
    "\n",
    "If you want to move to the next level of the SQL learning path, you can take our Intermediate SQL course. If you still need to strengthen your foundations of SQL, you can go back to the Introduction to SQL course to learn about the fundamentals of the language. "
   ]
  },
  {
   "cell_type": "markdown",
   "id": "05d597f4-1047-4b27-9382-1b17d233b1fe",
   "metadata": {},
   "source": []
  }
 ],
 "metadata": {
  "kernelspec": {
   "display_name": "Python 3 (ipykernel)",
   "language": "python",
   "name": "python3"
  },
  "language_info": {
   "codemirror_mode": {
    "name": "ipython",
    "version": 3
   },
   "file_extension": ".py",
   "mimetype": "text/x-python",
   "name": "python",
   "nbconvert_exporter": "python",
   "pygments_lexer": "ipython3",
   "version": "3.13.0"
  }
 },
 "nbformat": 4,
 "nbformat_minor": 5
}
