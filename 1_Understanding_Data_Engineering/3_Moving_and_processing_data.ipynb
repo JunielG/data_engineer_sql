{
 "cells": [
  {
   "cell_type": "markdown",
   "id": "811b4fd1-83b0-44c5-95c1-3d95191e5b63",
   "metadata": {},
   "source": [
    "## Processing data"
   ]
  },
  {
   "cell_type": "code",
   "execution_count": null,
   "id": "00dd0b9b-c391-43b8-ada3-b3d96c8081b7",
   "metadata": {},
   "outputs": [],
   "source": []
  },
  {
   "cell_type": "code",
   "execution_count": null,
   "id": "c049f5fd-cfb5-4119-bfd7-d7e10b18df81",
   "metadata": {},
   "outputs": [],
   "source": []
  },
  {
   "cell_type": "markdown",
   "id": "6745d3de-1756-42eb-b141-a1b029cc9a19",
   "metadata": {},
   "source": [
    "## Scheduling data"
   ]
  },
  {
   "cell_type": "code",
   "execution_count": null,
   "id": "e77146cc-e074-49a2-bc64-be60555a5cfc",
   "metadata": {},
   "outputs": [],
   "source": []
  },
  {
   "cell_type": "code",
   "execution_count": null,
   "id": "9b424cbe-8646-4786-b728-1a069267e3d5",
   "metadata": {},
   "outputs": [],
   "source": []
  },
  {
   "cell_type": "markdown",
   "id": "06ed3a40-6722-4661-9c06-62619e3c5489",
   "metadata": {},
   "source": [
    "## Parallel computing"
   ]
  },
  {
   "cell_type": "code",
   "execution_count": null,
   "id": "b67d95fe-a5cf-455e-a33f-ed08c0b58446",
   "metadata": {},
   "outputs": [],
   "source": []
  },
  {
   "cell_type": "code",
   "execution_count": null,
   "id": "1f5c8ae4-2e89-4940-b75d-9281ed4d5fe3",
   "metadata": {},
   "outputs": [],
   "source": []
  },
  {
   "cell_type": "markdown",
   "id": "8476847c-9fae-44f0-a29b-795eba12c83f",
   "metadata": {},
   "source": [
    "## Cloud computing"
   ]
  },
  {
   "cell_type": "code",
   "execution_count": null,
   "id": "4a7e7355-1b03-4e64-a0e6-b1164e3b5109",
   "metadata": {},
   "outputs": [],
   "source": []
  },
  {
   "cell_type": "code",
   "execution_count": null,
   "id": "e3095ff2-784a-4290-817f-514aa1652313",
   "metadata": {},
   "outputs": [],
   "source": []
  }
 ],
 "metadata": {
  "kernelspec": {
   "display_name": "Python 3 (ipykernel)",
   "language": "python",
   "name": "python3"
  },
  "language_info": {
   "codemirror_mode": {
    "name": "ipython",
    "version": 3
   },
   "file_extension": ".py",
   "mimetype": "text/x-python",
   "name": "python",
   "nbconvert_exporter": "python",
   "pygments_lexer": "ipython3",
   "version": "3.9.13"
  }
 },
 "nbformat": 4,
 "nbformat_minor": 5
}
