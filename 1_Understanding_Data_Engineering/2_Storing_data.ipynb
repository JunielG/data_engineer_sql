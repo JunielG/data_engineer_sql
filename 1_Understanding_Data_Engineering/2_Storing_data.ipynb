{
 "cells": [
  {
   "cell_type": "markdown",
   "id": "622c53fc-14bc-4dd1-96a5-6b8119a7b0aa",
   "metadata": {},
   "source": [
    "## Data Structures"
   ]
  },
  {
   "cell_type": "code",
   "execution_count": null,
   "id": "2f5501ad-d751-4a72-a451-fe7186f92594",
   "metadata": {},
   "outputs": [],
   "source": []
  },
  {
   "cell_type": "code",
   "execution_count": null,
   "id": "c0807140-a1b4-43e8-b4b2-4d92f345a164",
   "metadata": {},
   "outputs": [],
   "source": []
  },
  {
   "cell_type": "code",
   "execution_count": null,
   "id": "57c31045-9693-4ea0-92f8-69f8ab198f61",
   "metadata": {},
   "outputs": [],
   "source": []
  },
  {
   "cell_type": "markdown",
   "id": "6e414b21-606c-4c44-a2f2-443abd84304e",
   "metadata": {},
   "source": [
    "## SQL databases"
   ]
  },
  {
   "cell_type": "markdown",
   "id": "14f84030-8a59-4f2a-9ff7-4ecdaf8975c4",
   "metadata": {},
   "source": [
    "#### SQL for data engineers\n",
    "Data engineers use SQL to create, maintain and update tables."
   ]
  },
  {
   "cell_type": "code",
   "execution_count": null,
   "id": "53032351-f3b5-4b43-83ac-84b36fc58211",
   "metadata": {},
   "outputs": [],
   "source": [
    "CREATE TABLE employees (\n",
    "    employee_id INT,   \n",
    "    first_name VARCHAR(255), \n",
    "    last_name VARCHAR(255),  \n",
    "    role VARCHAR(255),   \n",
    "    team VARCHAR(255),   \n",
    "    full_time BOOLEAN,  \n",
    "    office VARCHAR(255)\n",
    ");"
   ]
  },
  {
   "cell_type": "markdown",
   "id": "ccd7392f-ebd0-4353-9190-518326ee1cdb",
   "metadata": {},
   "source": [
    "### SQL for data scientists\n",
    "Data scientist use SQL to query, filter, group and aggregate data in tables."
   ]
  },
  {
   "cell_type": "code",
   "execution_count": null,
   "id": "855188e5-ddbe-441b-8873-f253963f7203",
   "metadata": {},
   "outputs": [],
   "source": [
    "SELECT first_name, last_name\n",
    "FROM employees\n",
    "WHERE role LIKE '%Data%'"
   ]
  },
  {
   "cell_type": "markdown",
   "id": "71d01d8b-14a7-42f0-a4a4-7dca1dd92639",
   "metadata": {},
   "source": [
    "## Data warehouses and data lakes"
   ]
  },
  {
   "cell_type": "code",
   "execution_count": null,
   "id": "9a9a6fa0-13d7-4a45-8c1e-9eafc848ade3",
   "metadata": {},
   "outputs": [],
   "source": [
    "Data Lake\n",
    "Stores all the raw data\n",
    "Can be petabytes (1 million GBs)\n",
    "Stores all data structures\n",
    "Cost-effective\n",
    "Difficult to analyze\n",
    "Requires an up-to-date data catalog\n",
    "Used by data scientists\n",
    "Big data, real-time analytics"
   ]
  },
  {
   "cell_type": "code",
   "execution_count": null,
   "id": "84be2842-9452-44c7-a3ac-a2690dff1ed5",
   "metadata": {},
   "outputs": [],
   "source": [
    "Data warehouse\n",
    "Specific data for specific use\n",
    "Relatively smallStores mainly structured data\n",
    "More costly to update\n",
    "Optimized for data analysis\n",
    "Also used by data analysts and business analysts\n",
    "Ad-hoc, read-only queries"
   ]
  },
  {
   "cell_type": "code",
   "execution_count": null,
   "id": "091065a0-dfe3-4fa9-bc18-7f49e2f45257",
   "metadata": {},
   "outputs": [],
   "source": [
    "Data catalog for data lakes\n",
    "What is the source of this data?\n",
    "Where is this data used?\n",
    "Who is the owner of the data?\n",
    "How often is this data updated?\n",
    "Good practice in terms of data governance\n",
    "Ensures reproducibility\n",
    "No catalog --> data swamp\n",
    "Good practice for any data storage solution\n",
    "Reliability\n",
    "Autonomy\n",
    "Scalability\n",
    "Speed"
   ]
  }
 ],
 "metadata": {
  "kernelspec": {
   "display_name": "Python 3 (ipykernel)",
   "language": "python",
   "name": "python3"
  },
  "language_info": {
   "codemirror_mode": {
    "name": "ipython",
    "version": 3
   },
   "file_extension": ".py",
   "mimetype": "text/x-python",
   "name": "python",
   "nbconvert_exporter": "python",
   "pygments_lexer": "ipython3",
   "version": "3.9.13"
  }
 },
 "nbformat": 4,
 "nbformat_minor": 5
}
