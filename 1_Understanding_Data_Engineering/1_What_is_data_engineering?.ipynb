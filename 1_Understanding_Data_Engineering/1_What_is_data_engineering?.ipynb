{
 "cells": [
  {
   "cell_type": "markdown",
   "id": "38a43cbd-5110-487d-9053-c0653e761b6d",
   "metadata": {},
   "source": [
    "## Data engineering and big data"
   ]
  },
  {
   "cell_type": "code",
   "execution_count": null,
   "id": "8ab406dd-b1fe-4db9-9542-825d9df930f1",
   "metadata": {},
   "outputs": [],
   "source": []
  },
  {
   "cell_type": "code",
   "execution_count": null,
   "id": "acd21ca7-ea23-419b-b3ac-fa55ca843e7f",
   "metadata": {},
   "outputs": [],
   "source": []
  },
  {
   "cell_type": "code",
   "execution_count": null,
   "id": "81609ecf-5603-4a82-a5be-3d2d9e665d89",
   "metadata": {},
   "outputs": [],
   "source": []
  },
  {
   "cell_type": "markdown",
   "id": "3f7abe6f-8c3b-409f-87aa-3acdbe02a5a9",
   "metadata": {},
   "source": [
    "## Data engineers vs. data scientists"
   ]
  },
  {
   "cell_type": "code",
   "execution_count": null,
   "id": "d65a562a-5eb9-476f-9de5-54cb97305db2",
   "metadata": {},
   "outputs": [],
   "source": []
  },
  {
   "cell_type": "code",
   "execution_count": null,
   "id": "c4bf0f52-331f-4e41-8df0-2d2323f94dd9",
   "metadata": {},
   "outputs": [],
   "source": []
  },
  {
   "cell_type": "code",
   "execution_count": null,
   "id": "c1a3fdc9-7ccd-402d-b808-e9a02abbcd7b",
   "metadata": {},
   "outputs": [],
   "source": []
  },
  {
   "cell_type": "markdown",
   "id": "27e384ae-3798-4830-b339-82dfb2045b26",
   "metadata": {},
   "source": [
    "## The data pipeline"
   ]
  },
  {
   "cell_type": "code",
   "execution_count": null,
   "id": "5935f419-4f5f-4671-861e-dd727f2f19e6",
   "metadata": {},
   "outputs": [],
   "source": []
  },
  {
   "cell_type": "code",
   "execution_count": null,
   "id": "b0021aea-a2c7-4433-bab3-8480f76cbfbc",
   "metadata": {},
   "outputs": [],
   "source": []
  },
  {
   "cell_type": "code",
   "execution_count": null,
   "id": "063043a9-274c-4d33-9a75-82b5d692d732",
   "metadata": {},
   "outputs": [],
   "source": []
  }
 ],
 "metadata": {
  "kernelspec": {
   "display_name": "Python 3 (ipykernel)",
   "language": "python",
   "name": "python3"
  },
  "language_info": {
   "codemirror_mode": {
    "name": "ipython",
    "version": 3
   },
   "file_extension": ".py",
   "mimetype": "text/x-python",
   "name": "python",
   "nbconvert_exporter": "python",
   "pygments_lexer": "ipython3",
   "version": "3.9.13"
  }
 },
 "nbformat": 4,
 "nbformat_minor": 5
}
