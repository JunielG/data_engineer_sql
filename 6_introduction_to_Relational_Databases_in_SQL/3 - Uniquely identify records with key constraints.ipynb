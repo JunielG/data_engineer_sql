{
 "cells": [
  {
   "cell_type": "markdown",
   "id": "e52fcb71-4a2c-496c-80f4-f52a8f4b66e8",
   "metadata": {},
   "source": [
    "# Keys and superkeys"
   ]
  },
  {
   "cell_type": "markdown",
   "id": "c596c5b0-133b-4f89-81db-6690f7a304be",
   "metadata": {},
   "source": [
    "#### Get to know SELECT COUNT DISTINCT\n",
    "Your database doesn't have any defined keys so far, and you don't know which columns or combinations of columns are suited as keys.\n",
    "\n",
    "There's a simple way of finding out whether a certain column (or a combination) contains only unique values – and thus identifies the records in the table.\n",
    "\n",
    "You already know the SELECT DISTINCT query from the first chapter. Now you just have to wrap everything within the COUNT() function and PostgreSQL will return the number of unique rows for the given columns:\n",
    "\n",
    "SELECT COUNT(DISTINCT(column_a, column_b, ...))\n",
    "FROM table;"
   ]
  },
  {
   "cell_type": "code",
   "execution_count": 2,
   "id": "5d44d169-431a-4e13-b583-600ae7547efc",
   "metadata": {},
   "outputs": [],
   "source": [
    "# -- Count the number of rows in universities\n",
    "u = '''SELECT COUNT(*) \n",
    "FROM universities;'''"
   ]
  },
  {
   "cell_type": "code",
   "execution_count": 3,
   "id": "717f36bb-a257-42d6-b5b4-40a7db3de69f",
   "metadata": {},
   "outputs": [],
   "source": [
    "# -- Count the number of distinct values in the university_city column\n",
    "dc = '''SELECT COUNT(DISTINCT(university_city)) \n",
    "FROM universities;'''"
   ]
  },
  {
   "cell_type": "markdown",
   "id": "19245cf8-3755-44a5-95f5-808181adc5e1",
   "metadata": {},
   "source": [
    "- Great! So, obviously, the university_city column wouldn't lend itself as a key. Why? Because there are only 9 distinct values, but the table has 11 rows."
   ]
  },
  {
   "cell_type": "markdown",
   "id": "bd6dee99-4641-4f41-9262-2e0aacde40f9",
   "metadata": {},
   "source": [
    "#### Identify keys with SELECT COUNT DISTINCT\n",
    "There's a very basic way of finding out what qualifies for a key in an existing, populated table:\n",
    "\n",
    "Count the distinct records for all possible combinations of columns. If the resulting number x equals the number of all rows in the table for a combination, you have discovered a superkey.\n",
    "\n",
    "Then remove one column after another until you can no longer remove columns without seeing the number x decrease. If that is the case, you have discovered a (candidate) key.\n",
    "\n",
    "The table professors has 551 rows. It has only one possible candidate key, which is a combination of two attributes. You might want to try different combinations using the \"Run code\" button. Once you have found the solution, you can submit your answer."
   ]
  },
  {
   "cell_type": "code",
   "execution_count": 4,
   "id": "896021d3-97dc-4b2d-8e63-3ec073e1ead2",
   "metadata": {},
   "outputs": [],
   "source": [
    "# -- Try out different combinations\n",
    "fl = '''SELECT COUNT(DISTINCT(firstname,lastname)) \n",
    "FROM professors;'''"
   ]
  },
  {
   "cell_type": "markdown",
   "id": "6c85572a-8dfb-436d-b693-9d7809fffa44",
   "metadata": {},
   "source": [
    "- Indeed, the only combination that uniquely identifies professors is {firstname, lastname}. {firstname, lastname, university_shortname} is a superkey, and all other combinations give duplicate values. Hopefully, the concept of superkeys and keys is now a bit more clear. Let's move on to primary keys!"
   ]
  },
  {
   "cell_type": "markdown",
   "id": "b38eb3c6-305e-4d8e-875d-75c918cd50c2",
   "metadata": {},
   "source": [
    "# Primary keys"
   ]
  },
  {
   "cell_type": "markdown",
   "id": "2b64b2fe-bfc1-4c45-a124-80be9fa23f4d",
   "metadata": {},
   "source": [
    "Primary keys\n",
    "- One primary key per database table, chosen from candidate keys\n",
    "- Uniquely identifies records, e.g. for referencing in other tables\n",
    "- Unique and not-null constraints both apply\n",
    "- Primary keys are time-invariant: choose columns wisely!\n"
   ]
  },
  {
   "cell_type": "markdown",
   "id": "46bb6b7a-eb99-4f74-8f93-d396c06c9552",
   "metadata": {},
   "source": [
    "#### Specifying primary keys \n",
    "CREATE TABLE products (\\\n",
    "    product_no integer UNIQUE NOT NULL,\\\n",
    "    name text,\\\n",
    "price numeric);\n",
    "\n",
    "CREATE TABLE products (\\\n",
    "    product_no integer PRIMARY KEY,\\\n",
    "    name text, \\\n",
    "    price numeric);"
   ]
  },
  {
   "cell_type": "markdown",
   "id": "17dbb314-a01f-4f52-8181-940367438c37",
   "metadata": {},
   "source": [
    "CREATE TABLE example (\\\n",
    "    a integer,\\\n",
    "    b integer,\\\n",
    "    c integer, \\\n",
    "    PRIMARY KEY (a, c));\n"
   ]
  },
  {
   "cell_type": "markdown",
   "id": "2db1cc9f-ac00-4b32-b28c-26abd0b96cba",
   "metadata": {},
   "source": [
    "#### Specifying primary keys (contd.) \n",
    "ALTER TABLE table_name \\\n",
    "ADD CONSTRAINT some_name PRIMARY KEY (column_name)\n"
   ]
  },
  {
   "cell_type": "markdown",
   "id": "5a5d2247-afae-4a16-8b69-0c9037b76abd",
   "metadata": {},
   "source": [
    "#### ADD key CONSTRAINTs to the tables\n",
    "Two of the tables in your database already have well-suited candidate keys consisting of one column each: organizations and universities with the organization and university_shortname columns, respectively.\n",
    "\n",
    "In this exercise, you'll rename these columns to id using the RENAME COLUMN command and then specify primary key constraints for them. This is as straightforward as adding unique constraints (see the last exercise of Chapter 2):\n",
    "\n",
    "ALTER TABLE table_name\\\n",
    "ADD CONSTRAINT some_name PRIMARY KEY (column_name)\\\n",
    "Note that you can also specify more than one column in the brackets."
   ]
  },
  {
   "cell_type": "code",
   "execution_count": 5,
   "id": "b5491814-f0f0-46e0-8675-ded3b287574b",
   "metadata": {},
   "outputs": [],
   "source": [
    "# -- Rename the organization column to id\n",
    "ao = '''ALTER TABLE organizations\n",
    "RENAME COLUMN organization TO id;\n",
    "\n",
    "-- Make id a primary key\n",
    "ALTER TABLE organizations\n",
    "ADD CONSTRAINT organization_pk PRIMARY KEY (id);'''"
   ]
  },
  {
   "cell_type": "code",
   "execution_count": 6,
   "id": "830464f2-6630-4117-9079-4186c1d2fa4f",
   "metadata": {},
   "outputs": [],
   "source": [
    "# -- Rename the university_shortname column to id\n",
    "au = '''ALTER TABLE universities\n",
    "RENAME COLUMN university_shortname TO id;\n",
    "\n",
    "-- Make id a primary key\n",
    "ALTER TABLE universities\n",
    "ADD CONSTRAINT university_pk PRIMARY KEY(id);'''"
   ]
  },
  {
   "cell_type": "markdown",
   "id": "fe7bfbad-f0df-4bd0-8885-33467f8fc7c6",
   "metadata": {},
   "source": [
    "- Good job! That was easy, wasn't it? Let's tackle the last table that needs a primary key right now: professors. However, things are going to be different this time, because you'll add a so-called surrogate key."
   ]
  },
  {
   "cell_type": "markdown",
   "id": "4717da68-85e6-47ad-a7d4-6c024f2fec93",
   "metadata": {},
   "source": [
    "# Surrogate keys"
   ]
  },
  {
   "cell_type": "markdown",
   "id": "155195d1-a3e4-47b2-8a0f-ced4a5c18f33",
   "metadata": {},
   "source": [
    "#### Surrogate keys\n",
    "- Primary keys should be built from as few columns as possible\n",
    "- Primary keys should never change over time\n"
   ]
  },
  {
   "cell_type": "markdown",
   "id": "f6e21fa6-5e9f-4e5f-b7f0-2f74bd4345a4",
   "metadata": {},
   "source": [
    "#### Adding a surrogate key with serial data type\n",
    "ALTER TABLE cars \\\n",
    "ADD COLUMN id serial PRIMARY KEY;\\\n",
    "INSERT INTO cars\\\n",
    "VALUES ('Volkswagen', 'Blitz', 'black');"
   ]
  },
  {
   "cell_type": "markdown",
   "id": "484ee847-b89e-45e8-9a3f-35c021ecd2f4",
   "metadata": {},
   "source": [
    "#### Adding a surrogate key with serial data type (contd.)\n",
    "INSERT INTO cars \\\n",
    "VALUES ('Opel', 'Astra', 'green', 1);\n",
    "\n",
    "#### Trying to number the data will give Error"
   ]
  },
  {
   "cell_type": "markdown",
   "id": "c43c2d65-2eaf-4dba-9a8c-cff1fb4f5974",
   "metadata": {},
   "source": [
    "### Another type of surrogate key\n",
    "ALTER TABLE table_name\\\n",
    "ADD COLUMN column_c varchar(256);\\\n",
    "UPDATE table_name \\\n",
    "SET column_c = CONCAT(column_a, column_b);\\\n",
    "ALTER TABLE table_name\\\n",
    "ADD CONSTRAINT pk PRIMARY KEY (column_c);\n"
   ]
  },
  {
   "cell_type": "markdown",
   "id": "71bb646e-c4eb-48b9-97c8-d7d878cf21c0",
   "metadata": {},
   "source": [
    "## Add a SERIAL surrogate key\n",
    "Since there's no single column candidate key in professors (only a composite key candidate consisting of firstname, lastname), you'll add a new column id to that table.\n",
    "\n",
    "This column has a special data type serial, which turns the column into an auto-incrementing number. This means that, whenever you add a new professor to the table, it will automatically get an id that does not exist yet in the table: a perfect primary key!"
   ]
  },
  {
   "cell_type": "code",
   "execution_count": 7,
   "id": "2a6f4f6b-cbd7-4873-b862-52ddd30d6f7f",
   "metadata": {},
   "outputs": [],
   "source": [
    "# -- Add the new column to the table\n",
    "id = '''ALTER TABLE professors \n",
    "ADD COLUMN id serial PRIMARY KEY;'''"
   ]
  },
  {
   "cell_type": "code",
   "execution_count": 8,
   "id": "5e174a9c-5d63-41d8-b0fb-6c4074582f70",
   "metadata": {},
   "outputs": [],
   "source": [
    "# -- Add the new column to the table\n",
    "ids = '''ALTER TABLE professors \n",
    "ADD COLUMN id serial;\n",
    "\n",
    "-- Make id a primary key\n",
    "ALTER TABLE professors \n",
    "ADD CONSTRAINT professors_pkey PRIMARY KEY (id);\n",
    "\n",
    "-- Have a look at the first 10 rows of professors\n",
    "SELECT * \n",
    "FROM professors\n",
    "LIMIT 10;'''"
   ]
  },
  {
   "cell_type": "markdown",
   "id": "ddf5ed7e-eaec-4b0f-a0f4-1d7dedf209cd",
   "metadata": {},
   "source": [
    "- Well done. As you can see, PostgreSQL has automatically numbered the rows with the id column, which now functions as a (surrogate) primary key – it uniquely identifies professors."
   ]
  },
  {
   "cell_type": "markdown",
   "id": "bbc3f2cd-4370-4f0a-af80-b7c16c2ef7b0",
   "metadata": {},
   "source": [
    "### CONCATenate columns to a surrogate key\n",
    "Another strategy to add a surrogate key to an existing table is to concatenate existing columns with the CONCAT() function.\n",
    "\n",
    "Let's think of the following example table:\n",
    "\n",
    "CREATE TABLE cars (\\\n",
    " make varchar(64) NOT NULL,\\\n",
    " model varchar(64) NOT NULL,\\\n",
    " mpg integer NOT NULL\n",
    ")\\\n",
    "The table is populated with 10 rows of completely fictional data.\n",
    "\n",
    "Unfortunately, the table doesn't have a primary key yet. None of the columns consists of only unique values, so some columns can be combined to form a key.\n",
    "\n",
    "In the course of the following exercises, you will combine make and model into such a surrogate key."
   ]
  },
  {
   "cell_type": "code",
   "execution_count": 9,
   "id": "b7e11705-66c1-4ba2-b4af-3f60615559b6",
   "metadata": {},
   "outputs": [],
   "source": [
    "# -- Count the number of distinct rows with columns make, model\n",
    "idm = '''SELECT COUNT(DISTINCT(make, model)) \n",
    "FROM cars;\n",
    "\n",
    "-- Add the id column\n",
    "ALTER TABLE cars\n",
    "ADD COLUMN id varchar(128);\n",
    "\n",
    "-- Update id with make + model\n",
    "UPDATE cars\n",
    "SET id = CONCAT(make,' ', model);\n",
    "\n",
    "-- Make id a primary key\n",
    "ALTER TABLE cars\n",
    "ADD CONSTRAINT id_pk PRIMARY KEY(id);\n",
    "\n",
    "-- Have a look at the table\n",
    "SELECT * FROM cars;'''"
   ]
  },
  {
   "cell_type": "markdown",
   "id": "1dafd6f3-1b26-44fc-a0b4-21b36af3c87d",
   "metadata": {},
   "source": [
    "- Good job! These were quite some steps, but you've managed! Let's look into another method of adding a surrogate key now."
   ]
  },
  {
   "cell_type": "markdown",
   "id": "073bccd6-0a20-445d-aaa6-ba7765bd46f3",
   "metadata": {},
   "source": [
    "### Test your knowledge before advancing\n",
    "Before you move on to the next chapter, let's quickly review what you've learned so far about attributes and key constraints. If you're unsure about the answer, please quickly review chapters 2 and 3, respectively.\n",
    "\n",
    "Let's think of an entity type \"student\". A student has:\n",
    "\n",
    "a last name consisting of up to 128 characters (required),\\\n",
    "a unique social security number, consisting only of integers, that should serve as a key,\\\n",
    "a phone number of fixed length 12, consisting of numbers and characters (but some students don't have one)."
   ]
  },
  {
   "cell_type": "code",
   "execution_count": 10,
   "id": "2818d211-3b7e-47d2-85f9-0f07cd060f79",
   "metadata": {},
   "outputs": [],
   "source": [
    "# -- Create the table\n",
    "t = '''CREATE TABLE students (\n",
    "  last_name VARCHAR(128) NOT NULL,\n",
    "  ssn INTEGER PRIMARY KEY,\n",
    "  phone_no CHAR(12)\n",
    ");'''"
   ]
  },
  {
   "cell_type": "markdown",
   "id": "6722e254-3f14-47e5-b410-1f32467c0a7c",
   "metadata": {},
   "source": [
    "- Great! Looks like you are ready for the last chapter of this course, where you'll connect tables in your database."
   ]
  },
  {
   "cell_type": "code",
   "execution_count": null,
   "id": "79945864-1eb1-4909-9863-6a2afb125ba9",
   "metadata": {},
   "outputs": [],
   "source": []
  },
  {
   "cell_type": "code",
   "execution_count": null,
   "id": "cef9f94d-5d5c-49e7-a094-8c29a1130c9b",
   "metadata": {},
   "outputs": [],
   "source": []
  },
  {
   "cell_type": "code",
   "execution_count": null,
   "id": "e4f11dda-18c2-49fc-9aca-fe691b1fe512",
   "metadata": {},
   "outputs": [],
   "source": []
  }
 ],
 "metadata": {
  "kernelspec": {
   "display_name": "Python 3 (ipykernel)",
   "language": "python",
   "name": "python3"
  },
  "language_info": {
   "codemirror_mode": {
    "name": "ipython",
    "version": 3
   },
   "file_extension": ".py",
   "mimetype": "text/x-python",
   "name": "python",
   "nbconvert_exporter": "python",
   "pygments_lexer": "ipython3",
   "version": "3.13.0"
  }
 },
 "nbformat": 4,
 "nbformat_minor": 5
}
