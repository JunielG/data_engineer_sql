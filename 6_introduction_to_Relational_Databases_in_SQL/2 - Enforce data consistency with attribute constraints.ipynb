{
 "cells": [
  {
   "cell_type": "markdown",
   "id": "083d90c7-e585-42d2-bc1c-22805bf18bb9",
   "metadata": {},
   "source": [
    "# Better data quality with constraints"
   ]
  },
  {
   "cell_type": "markdown",
   "id": "f7196e7b-8f55-4324-8d22-ce7b5435bb3b",
   "metadata": {},
   "source": [
    "#### Integrity constraints\n",
    "1. Attribute constraints, e.g. data types on columns (Chapter 2)\\\n",
    "2. Key constraints, e.g. primary keys (Chapter 3)\\\n",
    "3. Referential integrity constraints, enforced through foreign keys (Chapter 4)"
   ]
  },
  {
   "cell_type": "markdown",
   "id": "a127e301-c424-445b-af4f-5285f5dfb518",
   "metadata": {},
   "source": [
    "#### Why constraints? \n",
    "- Constraints give the data structure\n",
    "- Constraints help with consistency, and thus data quality\n",
    "- Data quality is a business advantage / data science prerequisite\n",
    "- Enforcing is difficult, but PostgreSQL helps\n"
   ]
  },
  {
   "cell_type": "markdown",
   "id": "f2a6b3c3-c213-425b-a746-af87d6b51fea",
   "metadata": {},
   "source": [
    "### Dealing with data types (casting)\n",
    "CREATE TABLE weather (\\\n",
    "    temperature integer,\\\n",
    "    wind_speed text);\n",
    "\n",
    "SELECT temperature * wind_speed AS wind_chill\\\n",
    "FROM weather;\n",
    "\n",
    "operator does not exist: integer * textHINT: No operator matches the given name and argument type(s). You might need to add explicit type casts."
   ]
  },
  {
   "cell_type": "markdown",
   "id": "611faa16-4969-44e6-969c-05fb41a71e8b",
   "metadata": {},
   "source": [
    "#### The right query \n",
    "SELECT temperature * CAST(wind_speed AS integer) AS wind_chill\\\n",
    "FROM weather;\n"
   ]
  },
  {
   "cell_type": "markdown",
   "id": "cf22cead-74e8-42d3-8657-8dbc54c2ab7a",
   "metadata": {},
   "source": [
    "### Conforming with data types\n",
    "For demonstration purposes, I created a fictional database table that only holds three records. The columns have the data types date, integer, and text, respectively.\n",
    "\n",
    "CREATE TABLE transactions (\\\n",
    " transaction_date date, \\\n",
    " amount integer,\\\n",
    " fee text\n",
    ");\\\n",
    "Have a look at the contents of the transactions table.\n",
    "\n",
    "The transaction_date accepts date values. According to the PostgreSQL documentation, it accepts values in the form of YYYY-MM-DD, DD/MM/YY, and so forth.\n",
    "\n",
    "Both columns amount and fee appear to be numeric, however, the latter is modeled as text – which you will account for in the next exercise."
   ]
  },
  {
   "cell_type": "code",
   "execution_count": 1,
   "id": "5314f4d2-9069-4533-8839-5c76e3f0b75f",
   "metadata": {},
   "outputs": [],
   "source": [
    "# -- Let's add a record to the table\n",
    "t = '''INSERT INTO transactions (transaction_date, amount, fee) \n",
    "VALUES ('2018-09-24', 5454, 30);\n",
    "\n",
    "-- Doublecheck the contents\n",
    "SELECT *\n",
    "FROM transactions;'''"
   ]
  },
  {
   "cell_type": "markdown",
   "id": "b737fb03-079b-4627-9522-9a1cf92127e7",
   "metadata": {},
   "source": [
    "- Good work. You can see that data types provide certain restrictions on how data can be entered into a table. This may be tedious at the moment of insertion, but saves a lot of headache in the long run."
   ]
  },
  {
   "cell_type": "markdown",
   "id": "6e12975f-aab5-435a-88b3-c4cff91fc7dd",
   "metadata": {},
   "source": [
    "### Type CASTs\n",
    "In the video, you saw that type casts are a possible solution for data type issues. If you know that a certain column stores numbers as text, you can cast the column to a numeric form, i.e. to integer.\n",
    "\n",
    "SELECT CAST(some_column AS integer)\\\n",
    "FROM table;\\\n",
    "Now, the some_column column is temporarily represented as integer instead of text, meaning that you can perform numeric calculations on the column."
   ]
  },
  {
   "cell_type": "code",
   "execution_count": 2,
   "id": "6f5bbc54-000b-49bc-b302-af90f703cf56",
   "metadata": {},
   "outputs": [],
   "source": [
    "# -- Calculate the net amount as amount + fee\n",
    "c = '''SELECT transaction_date, CAST(amount AS INTEGER) + CAST(fee AS INTEGER) AS net_amount\n",
    "FROM transactions;'''"
   ]
  },
  {
   "cell_type": "markdown",
   "id": "9d843ba5-4553-41d4-8c05-8e05c51e9471",
   "metadata": {},
   "source": [
    "- Good job! You saw how, sometimes, type casts are necessary to work with data. However, it is better to store columns in the right data type from the first place. You'll learn how to do this in the next exercises."
   ]
  },
  {
   "cell_type": "markdown",
   "id": "9c558e32-55d6-4c16-ba1c-7f351c39d2b5",
   "metadata": {},
   "source": [
    "# Working with data types"
   ]
  },
  {
   "cell_type": "markdown",
   "id": "1bce7761-003c-4f60-b9c6-8d004678d63f",
   "metadata": {},
   "source": [
    "#### Working with data types\n",
    "- Enforced on columns (i.e. attributes)\n",
    "- Define the so-called \"domain\" of a column\n",
    "- Define what operations are possible\n",
    "- Enforce consistent storage of values"
   ]
  },
  {
   "cell_type": "markdown",
   "id": "75a90886-4626-4acc-9987-265e713a9f14",
   "metadata": {},
   "source": [
    "#### The most common types\n",
    "- text: character strings of any length\n",
    "- varchar [ (x) ]: a maximum of x characters\n",
    "- char [ (x) ]: a fixed-length string of x characters\n",
    "- boolean: can only take three states, e.g. TRUE, FALSE and NULL (unknown)\\\n",
    "From the PostgreSQL documentation.\n"
   ]
  },
  {
   "cell_type": "markdown",
   "id": "2c4056af-6f15-42f9-a881-67fda737906e",
   "metadata": {},
   "source": [
    "#### The most common types (cont'd.)\n",
    "- date, time and timestamp: various formats for date and time calculations\n",
    "- numeric: arbitrary precision numbers, e.g. 3.1457\n",
    "- integer: whole numbers in the range of -2147483648 and +2147483647 \\\n",
    "From the PostgreSQL documentation.\n"
   ]
  },
  {
   "cell_type": "markdown",
   "id": "6c37f743-21ef-461c-a982-796d211f544b",
   "metadata": {},
   "source": [
    "#### Specifying types upon table creation"
   ]
  },
  {
   "cell_type": "code",
   "execution_count": 1,
   "id": "0ccc30fa-2fc0-4a23-bb9f-ec78d1ccedb9",
   "metadata": {},
   "outputs": [],
   "source": [
    "s = '''CREATE TABLE students (\n",
    "    ssn integer, \n",
    "    name varchar(64), \n",
    "    dob date, \n",
    "    average_grade numeric(3, 2), -- e.g. 5.54 tuition_paid boolean);'''"
   ]
  },
  {
   "cell_type": "code",
   "execution_count": 3,
   "id": "aa600dd8-8b74-433c-977f-b47beede136a",
   "metadata": {},
   "outputs": [],
   "source": [
    "# Alter types after table creation\n",
    "\n",
    "a = '''ALTER TABLE students\n",
    "ALTER COLUMN name \n",
    "TYPE varchar(128);'''\n",
    "\n",
    "al = '''ALTER TABLE students\n",
    "ALTER COLUMN average_grade\n",
    "TYPE integer \n",
    "-- Turns 5.54 into 6, not 5, before type conversion \n",
    "USING ROUND(average_grade);'''"
   ]
  },
  {
   "cell_type": "markdown",
   "id": "ff1837d1-dd05-4f94-82ff-bd2765379ca7",
   "metadata": {},
   "source": [
    "#### Change types with ALTER COLUMN\n",
    "The syntax for changing the data type of a column is straightforward. The following code changes the data type of the column_name column in table_name to varchar(10):\n",
    "\n",
    "ALTER TABLE table_name\\\n",
    "ALTER COLUMN column_name\\\n",
    "TYPE varchar(10)\\\n",
    "Now it's time to start adding constraints to your database."
   ]
  },
  {
   "cell_type": "code",
   "execution_count": 4,
   "id": "494568e3-f5eb-4a27-8e42-ac974ff70a13",
   "metadata": {},
   "outputs": [],
   "source": [
    "# -- Select the university_shortname column\n",
    "d = '''SELECT DISTINCT(university_shortname) \n",
    "FROM professors;'''"
   ]
  },
  {
   "cell_type": "code",
   "execution_count": 5,
   "id": "ed7a481b-be5a-429d-9f5a-60cc97eaddaa",
   "metadata": {},
   "outputs": [],
   "source": [
    "# -- Specify the correct fixed-length character type\n",
    "ap = '''ALTER TABLE professors\n",
    "ALTER COLUMN university_shortname\n",
    "TYPE CHAR(3);'''"
   ]
  },
  {
   "cell_type": "code",
   "execution_count": 7,
   "id": "a2cce3d6-37f5-49a1-89f2-3138fc9f5f3c",
   "metadata": {},
   "outputs": [],
   "source": [
    "# -- Change the type of firstname\n",
    "apf = '''ALTER TABLE professors\n",
    "ALTER COLUMN firstname\n",
    "TYPE VARCHAR(64);'''"
   ]
  },
  {
   "cell_type": "markdown",
   "id": "bdd859b9-d8a0-49b3-aa24-06e02087e283",
   "metadata": {},
   "source": [
    "#### Convert types USING a function\n",
    "If you don't want to reserve too much space for a certain varchar column, you can truncate the values before converting its type.\n",
    "\n",
    "For this, you can use the following syntax:\n",
    "\n",
    "ALTER TABLE table_name\\\n",
    "ALTER COLUMN column_name\\\n",
    "TYPE varchar(x)\\\n",
    "USING SUBSTRING(column_name FROM 1 FOR x)\\\n",
    "You should read it like this: Because you want to reserve only x characters for column_name, you have to retain a SUBSTRING of every value, i.e. the first x characters of it, and throw away the rest. This way, the values will fit the varchar(x) requirement."
   ]
  },
  {
   "cell_type": "code",
   "execution_count": 8,
   "id": "5e2ae403-a015-4827-942b-c5714bb25362",
   "metadata": {},
   "outputs": [],
   "source": [
    "# -- Convert the values in firstname to a max. of 16 characters\n",
    "al = '''ALTER TABLE professors \n",
    "ALTER COLUMN firstname \n",
    "TYPE varchar(16)\n",
    "USING SUBSTRING(firstname FROM 1 FOR 16);'''"
   ]
  },
  {
   "cell_type": "markdown",
   "id": "e99a3ced-f05a-4d28-a362-970a2e6b9c35",
   "metadata": {},
   "source": [
    "- Perfect! However, it's best not to truncate any values in your database, so we'll revert this column to varchar(64). Now it's time to move on to the next set of attribute constraints!"
   ]
  },
  {
   "cell_type": "markdown",
   "id": "ad733af6-c478-4b78-9ab5-e0462f97a4e1",
   "metadata": {},
   "source": [
    "# The not-null and unique constraints"
   ]
  },
  {
   "cell_type": "markdown",
   "id": "4944bd65-c03c-44d2-91a1-606d1b4781a3",
   "metadata": {},
   "source": [
    "#### What does NULL mean? An example"
   ]
  },
  {
   "cell_type": "markdown",
   "id": "490ad258-9178-4034-a3a9-87c1ced00f57",
   "metadata": {},
   "source": [
    "CREATE TABLE students ( \\\n",
    "    ssn integernotnull,\\\n",
    "    lastname varchar(64) notnull,\\\n",
    "    home_phone integer,\\\n",
    "    office_phone integer);\n",
    "\n",
    "NULL != NULL"
   ]
  },
  {
   "cell_type": "markdown",
   "id": "65d1fae3-2a2a-4b49-8fd1-813168ddfa3f",
   "metadata": {},
   "source": [
    "#### How to add or remove a not-null constraint\n",
    "- When creating a table...\n",
    "\n",
    "CREATE TABLE students ( ssn integernotnull,\\\n",
    "                       lastname varchar(64) notnull,\\\n",
    "                       home_phone integer, \\\n",
    "                       office_phone integer);"
   ]
  },
  {
   "cell_type": "markdown",
   "id": "bc65a66f-9532-4a95-923b-9a64d15168dd",
   "metadata": {},
   "source": [
    "- After the table has been created...\n",
    "\n",
    "ALTER TABLE students \\\n",
    "ALTER COLUMN home_phone\\\n",
    "SET NOT NULL;\n",
    "\n",
    "ALTER TABLE students \\\n",
    "ALTER COLUMN ssn \\\n",
    "DROP NOT NULL;\n"
   ]
  },
  {
   "cell_type": "markdown",
   "id": "c4fcd366-f616-4edc-b391-43fa679ca0d2",
   "metadata": {},
   "source": [
    "#### Adding unique constraints\n",
    "CREATE TABLE table_name ( column_name UNIQUE);\n",
    "\n",
    "ALTER TABLE table_name\\\n",
    "ADD CONSTRAINT some_name UNIQUE(column_name);\n"
   ]
  },
  {
   "cell_type": "code",
   "execution_count": 9,
   "id": "7ba7bc67-ffc8-4e8d-a2e1-c65a5fd0d70b",
   "metadata": {},
   "outputs": [],
   "source": [
    "# -- Disallow NULL values in firstname\n",
    "ap = '''ALTER TABLE professors \n",
    "ALTER COLUMN firstname SET NOT NULL;'''"
   ]
  },
  {
   "cell_type": "code",
   "execution_count": 10,
   "id": "9d0a3112-df74-43b7-bfe4-2045476a4158",
   "metadata": {},
   "outputs": [],
   "source": [
    "# -- Disallow NULL values in lastname\n",
    "al = '''ALTER TABLE professors\n",
    "ALTER COLUMN lastname SET NOT NULL;'''"
   ]
  },
  {
   "cell_type": "markdown",
   "id": "107783d1-6e4e-4ea2-9b0e-6b5f9962ee5b",
   "metadata": {},
   "source": [
    "- Good job – it is no longer possible to add professors which have either their first or last name set to NULL. Likewise, it is no longer possible to update an existing professor and setting their first or last name to NULL."
   ]
  },
  {
   "cell_type": "markdown",
   "id": "6549cbcd-27cb-476a-9ff1-4ee04a270250",
   "metadata": {},
   "source": [
    "#### Make your columns UNIQUE with ADD CONSTRAINT\n",
    "As seen in the video, you add the UNIQUE keyword after the column_name that should be unique. This, of course, only works for new tables:\n",
    "\n",
    "CREATE TABLE table_name (\\\n",
    " column_name UNIQUE\n",
    ");\\\n",
    "If you want to add a unique constraint to an existing table, you do it like that:\n",
    "\n",
    "ALTER TABLE table_name\\\n",
    "ADD CONSTRAINT some_name UNIQUE(column_name);\\\n",
    "Note that this is different from the ALTER COLUMN syntax for the not-null constraint. Also, you have to give the constraint a name some_name."
   ]
  },
  {
   "cell_type": "code",
   "execution_count": 11,
   "id": "f3f1b368-0014-432f-b41e-db587439f96e",
   "metadata": {},
   "outputs": [],
   "source": [
    "# -- Make universities.university_shortname unique\n",
    "au = '''ALTER TABLE universities\n",
    "ADD CONSTRAINT university_shortname_unq UNIQUE(university_shortname);'''"
   ]
  },
  {
   "cell_type": "code",
   "execution_count": 12,
   "id": "ee76bb69-93ba-48f9-a011-e9fea1a5b569",
   "metadata": {},
   "outputs": [],
   "source": [
    "# -- Make organizations.organization unique\n",
    "ao = '''ALTER TABLE organizations\n",
    "ADD CONSTRAINT organization_unq UNIQUE(organization);'''"
   ]
  },
  {
   "cell_type": "markdown",
   "id": "f17487ff-94d2-4610-a915-1c70b6888ce0",
   "metadata": {},
   "source": [
    "- Perfect. Making sure universities.university_shortname and organizations.organization only contain unique values is a prerequisite for turning them into so-called primary keys – the subject of the next chapter!"
   ]
  },
  {
   "cell_type": "code",
   "execution_count": null,
   "id": "14e895b5-3a3d-4e24-a76c-9eb174fbfc4b",
   "metadata": {},
   "outputs": [],
   "source": []
  },
  {
   "cell_type": "code",
   "execution_count": null,
   "id": "9fca395b-0783-4e30-9654-005752f52d7c",
   "metadata": {},
   "outputs": [],
   "source": []
  },
  {
   "cell_type": "code",
   "execution_count": null,
   "id": "ed4f52ac-76eb-4a81-9304-6081fb4a30e9",
   "metadata": {},
   "outputs": [],
   "source": []
  }
 ],
 "metadata": {
  "kernelspec": {
   "display_name": "Python 3 (ipykernel)",
   "language": "python",
   "name": "python3"
  },
  "language_info": {
   "codemirror_mode": {
    "name": "ipython",
    "version": 3
   },
   "file_extension": ".py",
   "mimetype": "text/x-python",
   "name": "python",
   "nbconvert_exporter": "python",
   "pygments_lexer": "ipython3",
   "version": "3.13.0"
  }
 },
 "nbformat": 4,
 "nbformat_minor": 5
}
