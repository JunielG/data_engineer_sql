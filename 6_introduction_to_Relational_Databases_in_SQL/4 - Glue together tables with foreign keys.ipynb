{
 "cells": [
  {
   "cell_type": "markdown",
   "id": "c8e68d5f-6bea-4108-9a40-115206175fc7",
   "metadata": {},
   "source": [
    "# Model 1:N relationships with foreign keys"
   ]
  },
  {
   "cell_type": "markdown",
   "id": "db55ab26-822d-4799-a843-e39407d3520f",
   "metadata": {},
   "source": [
    "### Implementing relationships with foreign keys\n",
    "- A foreign key (FK) points to the primary key (PK) of another table\n",
    "- Domain of FK must be equal to domain of PK\n",
    "- Each value of FK must exist in PK of the other table (FK constraint or \"referential integrity\")FKs are not actual keys\n"
   ]
  },
  {
   "cell_type": "markdown",
   "id": "bd0964e7-4b87-481d-bfba-62ef096dce9a",
   "metadata": {},
   "source": [
    "### Specifying foreign keys"
   ]
  },
  {
   "cell_type": "markdown",
   "id": "7ffd888c-b3eb-4b90-a985-d956d4177eda",
   "metadata": {},
   "source": [
    "CREATE TABLE manufacturers (\\\n",
    "    name varchar(255) PRIMARY KEY);\n",
    "\n",
    "INSERT INTO manufacturers\\\n",
    "VALUES ('Ford'), ('VW'), ('GM');\\\n",
    "CREATE TABLE cars (\\\n",
    "    model varchar(255) PRIMARY KEY, \\\n",
    "    manufacturer_name varchar(255) REFERENCES manufacturers (name));\n",
    "\n",
    "INSERT INTO cars\\\n",
    "VALUES ('Ranger', 'Ford'), ('Beetle', 'VW');\n",
    "\n",
    "-- Throws an error!\n",
    "INSERT INTO cars \\\n",
    "VALUES ('Tundra', 'Toyota');\n"
   ]
  },
  {
   "cell_type": "markdown",
   "id": "32df836d-eaa4-41db-821e-f0033ff53852",
   "metadata": {},
   "source": [
    "### Specifying foreign keys to existing tables\n",
    "ALTER TABLE a\\\n",
    "ADD CONSTRAINT a_fkey FOREIGN KEY (b_id) REFERENCES b (id);"
   ]
  },
  {
   "cell_type": "code",
   "execution_count": 1,
   "id": "2db0883c-0f24-48ac-bb08-ac704d4bc67b",
   "metadata": {},
   "outputs": [],
   "source": [
    "# -- Rename the university_shortname column\n",
    "ap = '''ALTER TABLE professors\n",
    "RENAME COLUMN university_shortname TO university_id;\n",
    "\n",
    "-- Add a foreign key on professors referencing universities\n",
    "ALTER TABLE professors \n",
    "ADD CONSTRAINT professors_fkey FOREIGN KEY (university_id) REFERENCES universities(id);'''"
   ]
  },
  {
   "cell_type": "markdown",
   "id": "4b9f7c5f-b055-448e-8fa3-da2036810253",
   "metadata": {},
   "source": [
    "- Perfect! Now, the professors table has a link to the universities table. Each professor belongs to exactly one university."
   ]
  },
  {
   "cell_type": "markdown",
   "id": "1f17f313-d4f0-48f0-81bc-8cc3f6a7dfa3",
   "metadata": {},
   "source": [
    "## Explore foreign key constraints\n",
    "Foreign key constraints help you to keep order in your database mini-world. In your database, for instance, only professors belonging to Swiss universities should be allowed, as only Swiss universities are part of the universities table.\n",
    "\n",
    "The foreign key on professors referencing universities you just created thus makes sure that only existing universities can be specified when inserting new data. Let's test this!"
   ]
  },
  {
   "cell_type": "code",
   "execution_count": 2,
   "id": "8beb3ce6-bfd7-42b7-ac6b-fd7a8aa0bf79",
   "metadata": {},
   "outputs": [],
   "source": [
    "# -- Try to insert a new professor\n",
    "iv = '''INSERT INTO professors (firstname, lastname, university_id)\n",
    "VALUES ('Albert', 'Einstein', 'UZH');'''"
   ]
  },
  {
   "cell_type": "markdown",
   "id": "98995892-1528-4dc7-bf31-6df2d224a778",
   "metadata": {},
   "source": [
    "- Great! As you can see, inserting a professor with non-existing university IDs violates the foreign key constraint you've just added. This also makes sure that all universities are spelled equally – adding to data consistency."
   ]
  },
  {
   "cell_type": "markdown",
   "id": "11790dd4-3060-440a-8319-25556f62b370",
   "metadata": {},
   "source": [
    "## JOIN tables linked by a foreign key\n",
    "Let's join these two tables to analyze the data further!\n",
    "\n",
    "You might already know how SQL joins work from the Intro to SQL for Data Science course (last exercise) or from Joining Data in PostgreSQL.\n",
    "\n",
    "Here's a quick recap on how joins generally work:\n",
    "\n",
    "SELECT ...\\\n",
    "FROM table_a\\\n",
    "JOIN table_b\\\n",
    "ON ...\\\n",
    "WHERE ...\\\n",
    "While foreign keys and primary keys are not strictly necessary for join queries, they greatly help by telling you what to expect. For instance, you can be sure that records referenced from table A will always be present in table B – so a join from table A will always find something in table B. If not, the foreign key constraint would be violated."
   ]
  },
  {
   "cell_type": "code",
   "execution_count": 3,
   "id": "b306c9de-63ca-4c32-b1f2-e384c4a3149b",
   "metadata": {},
   "outputs": [],
   "source": [
    "# -- Select all professors working for universities in the city of Zurich\n",
    "zurich = '''SELECT professors.lastname, universities.id, universities.university_city\n",
    "FROM professors\n",
    "JOIN universities\n",
    "ON professors.university_id = universities.id\n",
    "WHERE universities.university_city ='Zurich';'''"
   ]
  },
  {
   "cell_type": "markdown",
   "id": "d1b9b595-1be9-4c31-b455-6efae5f93ba4",
   "metadata": {},
   "source": [
    "- That's a long query! First, the university belonging to each professor was attached with the JOIN operation. Then, only professors having \"Zurich\"\" as university city were retained with the WHERE clause."
   ]
  },
  {
   "cell_type": "code",
   "execution_count": null,
   "id": "d91603b9-7433-4d97-94dc-21fb842eed2c",
   "metadata": {},
   "outputs": [],
   "source": []
  },
  {
   "cell_type": "markdown",
   "id": "7e2fbb50-e813-492c-940d-c8f23be72cd4",
   "metadata": {},
   "source": [
    "# Model more complex relationships"
   ]
  },
  {
   "cell_type": "markdown",
   "id": "3f5566be-eb6a-440f-bcbb-b13291533c23",
   "metadata": {},
   "source": [
    "How to implement N:M-relationships\n",
    "- Create a table\n",
    "- Add foreign keys for every connected table\n",
    "- Add additional attributes\n",
    "                  \n",
    "CREATE TABLE affiliations (\\\n",
    "    professor_id integer REFERENCES professors (id),\\\n",
    "organization_id varchar(256) REFERENCES organizations (id),\\\n",
    "functionvarchar(256));\n",
    "\n",
    "- No primary key! \n",
    "- Possible PK = {professor_id, organization_id, function}\n"
   ]
  },
  {
   "cell_type": "markdown",
   "id": "30cd978c-23dd-4023-be21-792447578b42",
   "metadata": {},
   "source": [
    "### Add foreign keys to the \"affiliations\" table\n",
    "At the moment, the affiliations table has the structure {firstname, lastname, function, organization}, as you can see in the preview at the bottom right. In the next three exercises, you're going to turn this table into the form {professor_id, organization_id, function}, with professor_id and organization_id being foreign keys that point to the respective tables.\n",
    "\n",
    "You're going to transform the affiliations table in-place, i.e., without creating a temporary table to cache your intermediate results."
   ]
  },
  {
   "cell_type": "code",
   "execution_count": 4,
   "id": "54674202-06e7-4eba-a429-435b2c625ca5",
   "metadata": {},
   "outputs": [],
   "source": [
    "# -- Add a professor_id column\n",
    "aap = '''ALTER TABLE affiliations\n",
    "ADD COLUMN professor_id integer REFERENCES professors (id);\n",
    "\n",
    "-- Rename the organization column to organization_id\n",
    "ALTER TABLE affiliations\n",
    "RENAME organization TO organization_id;\n",
    "\n",
    "-- Add a foreign key on organization_id\n",
    "ALTER TABLE affiliations\n",
    "ADD CONSTRAINT affiliations_organization_fkey FOREIGN KEY (organization_id) REFERENCES organizations (id);'''"
   ]
  },
  {
   "cell_type": "markdown",
   "id": "e5a86062-d2a7-4404-bfca-792269ddce71",
   "metadata": {},
   "source": [
    "- Perfect! Making organization_id a foreign key worked flawlessly because these organizations actually exist in the organizations table. That was only the first part, though. Now it's time to update professor_id in affiliations – so that it correctly refers to the corresponding professors."
   ]
  },
  {
   "cell_type": "markdown",
   "id": "e6ec261f-0d61-4528-aba8-5baa99147df1",
   "metadata": {},
   "source": [
    "### Populate the \"professor_id\" column\n",
    "Now it's time to also populate professors_id. You'll take the ID directly from professors.\n",
    "\n",
    "Here's a way to update columns of a table based on values in another table:\n",
    "\n",
    "UPDATE table_a\n",
    "SET column_to_update = table_b.column_to_update_from\n",
    "FROM table_b\n",
    "WHERE condition1 AND condition2 AND ...;\n",
    "This query does the following:\n",
    "\n",
    "For each row in table_a, find the corresponding row in table_b where condition1, condition2, etc., are met.\n",
    "Set the value of column_to_update to the value of column_to_update_from (from that corresponding row).\n",
    "The conditions usually compare other columns of both tables, e.g. table_a.some_column = table_b.some_column. Of course, this query only makes sense if there is only one matching row in table_b."
   ]
  },
  {
   "cell_type": "code",
   "execution_count": 6,
   "id": "db5848bc-641c-4d87-9543-3c00cd0a9c8a",
   "metadata": {},
   "outputs": [],
   "source": [
    "# -- Have a look at the 10 first rows of affiliations\n",
    "a = '''SELECT * \n",
    "FROM affiliations\n",
    "LIMIT 10;'''"
   ]
  },
  {
   "cell_type": "code",
   "execution_count": 7,
   "id": "c0899ef9-cd76-416c-8f16-160b8dc9b125",
   "metadata": {},
   "outputs": [],
   "source": [
    "# -- Set professor_id to professors.id where firstname, lastname correspond to rows in professors\n",
    "aup = '''UPDATE affiliations\n",
    "SET professor_id = professors.id\n",
    "FROM professors\n",
    "WHERE affiliations.firstname = professors.firstname AND affiliations.lastname = professors.lastname; \n",
    "# -- Have a look at the 10 first rows of affiliations again\n",
    "SELECT * FROM affiliations\n",
    "LIMIT 10;'''"
   ]
  },
  {
   "cell_type": "markdown",
   "id": "d777d806-8cac-48be-a504-c8d77ecfe94e",
   "metadata": {},
   "source": [
    "- Wow, that was a thing! As you can see, the correct professors.id has been inserted into professor_id for each record, thanks to the matching firstname and lastname in both tables."
   ]
  },
  {
   "cell_type": "markdown",
   "id": "6d8cd734-54f1-458b-ae57-3cc1bb319013",
   "metadata": {},
   "source": [
    "### Drop \"firstname\" and \"lastname\"\n",
    "The firstname and lastname columns of affiliations were used to establish a link to the professors table in the last exercise – so the appropriate professor IDs could be copied over. This only worked because there is exactly one corresponding professor for each row in affiliations. In other words: {firstname, lastname} is a candidate key of professors – a unique combination of columns.\n",
    "\n",
    "It isn't one in affiliations though, because, as said in the video, professors can have more than one affiliation.\n",
    "\n",
    "Because professors are referenced by professor_id now, the firstname and lastname columns are no longer needed, so it's time to drop them. After all, one of the goals of a database is to reduce redundancy where possible."
   ]
  },
  {
   "cell_type": "code",
   "execution_count": 8,
   "id": "14f2f213-549e-4351-98e6-7ca62e66c2a0",
   "metadata": {},
   "outputs": [],
   "source": [
    "# -- Drop the firstname column\n",
    "dt = '''ALTER TABLE affiliations\n",
    "DROP COLUMN firstname;\n",
    "\n",
    "-- Drop the lastname column\n",
    "ALTER TABLE affiliations\n",
    "DROP COLUMN lastname;'''"
   ]
  },
  {
   "cell_type": "markdown",
   "id": "400ea0d2-8926-42b7-ac57-d653202ec864",
   "metadata": {},
   "source": [
    "- Good job! Now the affiliations table that models the N:M-relationship between professors and organizations is finally complete."
   ]
  },
  {
   "cell_type": "markdown",
   "id": "ef1eb211-7182-4b38-97db-ce9202cd5533",
   "metadata": {},
   "source": [
    "# Referential integrity"
   ]
  },
  {
   "cell_type": "markdown",
   "id": "f3abc466-3ea8-41b3-9b7d-1af80f82f645",
   "metadata": {},
   "source": [
    "Referential integrity\n",
    "- A record referencing another table must refer to an existing record in that table\n",
    "- Specified between two tables\n",
    "- Enforced through foreign keys\n"
   ]
  },
  {
   "cell_type": "markdown",
   "id": "45f129f5-fa9d-46bb-aa72-b1b5569f6cec",
   "metadata": {},
   "source": [
    "##### Referential integrity violations\n",
    "Referential integrity from table A to table B is violated......\n",
    "- if a record in table B that is referenced from a record in table A is deleted....\n",
    "- if a record in table A referencing a non-existing record from table B is inserted.\n",
    "- Foreign keys prevent violations!\n"
   ]
  },
  {
   "cell_type": "markdown",
   "id": "18b92526-fa16-4b04-9202-6ea9b89fa128",
   "metadata": {},
   "source": [
    "### Dealing with violations"
   ]
  },
  {
   "cell_type": "markdown",
   "id": "f1b0e32f-6c29-4c64-9b6b-708c947048c3",
   "metadata": {},
   "source": [
    "CREATE TABLE a (\\\n",
    "    id integer PRIMARY KEY,\\\n",
    "    column_a varchar(64),\\\n",
    "    ...,\\\n",
    "    b_id integer REFERENCES b (id) ON DELETE NO ACTION);\n",
    "\n",
    "CREATE TABLE a (\\\n",
    "    id integer PRIMARY KEY,\\\n",
    "    column_a varchar(64),\\\n",
    "    ...,\\\n",
    "    b_id integer REFERENCES b (id) ON DELETE CASCADE);\n"
   ]
  },
  {
   "cell_type": "markdown",
   "id": "a2e3942a-f071-489d-b493-10428038bed3",
   "metadata": {},
   "source": [
    "#### Dealing with violations, contd.\n",
    "ON DELETE......\n",
    "- NO ACTION: Throw an error...\n",
    "- CASCADE: Delete all referencing records...\n",
    "- RESTRICT: Throw an error...\n",
    "- SET NULL: Set the referencing column to NULL...\n",
    "- SET DEFAULT: Set the referencing column to its default value"
   ]
  },
  {
   "cell_type": "markdown",
   "id": "d84c3010-985b-451c-8556-4cc8aef780fb",
   "metadata": {},
   "source": [
    "#### Change the referential integrity behavior of a key\n",
    "So far, you implemented three foreign key constraints:\n",
    "\n",
    "professors.university_id to universities.id\n",
    "affiliations.organization_id to organizations.id\n",
    "affiliations.professor_id to professors.id\n",
    "These foreign keys currently have the behavior ON DELETE NO ACTION. Here, you're going to change that behavior for the column referencing organizations from affiliations. If an organization is deleted, all its affiliations (by any professor) should also be deleted.\n",
    "\n",
    "Altering a key constraint doesn't work with ALTER COLUMN. Instead, you have to DROP the key constraint and then ADD a new one with a different ON DELETE behavior.\n",
    "\n",
    "For deleting constraints, though, you need to know their name. This information is also stored in information_schema."
   ]
  },
  {
   "cell_type": "code",
   "execution_count": 9,
   "id": "0f0c8018-18b9-4e73-ac72-afd0aadccc7b",
   "metadata": {},
   "outputs": [],
   "source": [
    "# -- Identify the correct constraint name\n",
    "c = '''SELECT constraint_name, table_name, constraint_type\n",
    "FROM information_schema.table_constraints\n",
    "WHERE constraint_type = 'FOREIGN KEY';'''"
   ]
  },
  {
   "cell_type": "code",
   "execution_count": 10,
   "id": "3dbab77f-0866-4016-805b-d4559cbda5b1",
   "metadata": {},
   "outputs": [],
   "source": [
    "# -- Identify the correct constraint name\n",
    "tc = '''SELECT constraint_name, table_name, constraint_type\n",
    "FROM information_schema.table_constraints\n",
    "WHERE constraint_type = 'FOREIGN KEY';\n",
    "\n",
    "-- Drop the right foreign key constraint\n",
    "ALTER TABLE affiliations\n",
    "DROP CONSTRAINT affiliations_organization_id_fkey;\n",
    "\n",
    "-- Add a new foreign key constraint from affiliations to organizations which cascades deletion\n",
    "ALTER TABLE affiliations\n",
    "ADD CONSTRAINT affiliations_organization_id_fkey FOREIGN KEY (organization_id) REFERENCES organizations (id) ON DELETE CASCADE;\n",
    "\n",
    "-- Delete an organization \n",
    "DELETE FROM organizations \n",
    "WHERE id = 'CUREM';\n",
    "\n",
    "-- Check that no more affiliations with this organization exist\n",
    "SELECT * FROM affiliations\n",
    "WHERE organization_id = 'CUREM';'''"
   ]
  },
  {
   "cell_type": "markdown",
   "id": "867b8401-243f-4b26-bc1a-aa81dab8c765",
   "metadata": {},
   "source": [
    "- Good job. As you can see, whenever an organization referenced by an affiliation is deleted, the affiliations also gets deleted. It is your job as a database designer to judge whether this is a sensible configuration. Sometimes, setting values to NULL or restricting deletion altogether might make more sense!"
   ]
  },
  {
   "cell_type": "code",
   "execution_count": null,
   "id": "8efc3175-14ec-441d-9827-e44a77a27f3d",
   "metadata": {},
   "outputs": [],
   "source": []
  },
  {
   "cell_type": "markdown",
   "id": "63b23c2a-c59f-4d03-aee7-814f7bad26e2",
   "metadata": {},
   "source": [
    "# Round up"
   ]
  },
  {
   "cell_type": "markdown",
   "id": "55f068f5-abd6-4a28-ad55-8f5e9873f94f",
   "metadata": {},
   "source": [
    "#### Count affiliations per university\n",
    "Now that your data is ready for analysis, let's run some example SQL queries on the database. You'll now use already known concepts such as grouping by columns and joining tables.\n",
    "\n",
    "In this exercise, you will find out which university has the most affiliations (through its professors). For that, you need both affiliations and professors tables, as the latter also holds the university_id.\n",
    "\n",
    "As a quick repetition, remember that joins have the following structure:\n",
    "\n",
    "SELECT table_a.column1, table_a.column2, table_b.column1, ... \\\n",
    "FROM table_a\\\n",
    "JOIN table_b \\\n",
    "ON table_a.column = table_b.column\\\n",
    "This results in a combination of table_a and table_b, but only with rows where table_a.column is equal to table_b.column."
   ]
  },
  {
   "cell_type": "code",
   "execution_count": 12,
   "id": "034159d5-eabf-4beb-b342-2515d0a358b5",
   "metadata": {},
   "outputs": [],
   "source": [
    "# -- Count the total number of affiliations per university\n",
    "c = '''SELECT COUNT(*), professors.university_id \n",
    "FROM affiliations\n",
    "JOIN professors\n",
    "ON affiliations.professor_id = professors.id\n",
    "-- Group by the university ids of professors\n",
    "GROUP BY professors.university_id \n",
    "ORDER BY count DESC;'''"
   ]
  },
  {
   "cell_type": "markdown",
   "id": "1712324f-6018-4748-b5a9-225454f7692e",
   "metadata": {},
   "source": [
    "- Very good. As you can see, the count of affiliations is completely different from university to university."
   ]
  },
  {
   "cell_type": "markdown",
   "id": "b0d6b2e8-9150-482a-8d19-69b22a935bca",
   "metadata": {},
   "source": [
    "### Join all the tables together\n",
    "In this last exercise, your task is to find the university city of the professor with the most affiliations in the sector \"Media & communication\".\n",
    "\n",
    "For this,\n",
    "\n",
    "you need to join all the tables,\\\n",
    "group by some column,\\\n",
    "and then use selection criteria to get only the rows in the correct sector.\\\n",
    "Let's do this in three steps!"
   ]
  },
  {
   "cell_type": "code",
   "execution_count": 13,
   "id": "2ae45721-5299-44ad-8660-937d058a6fe2",
   "metadata": {},
   "outputs": [],
   "source": [
    "# -- Join all tables\n",
    "j = '''SELECT *\n",
    "FROM affiliations\n",
    "JOIN professors\n",
    "ON affiliations.professor_id = professors.id\n",
    "JOIN organizations\n",
    "ON affiliations.organization_id = organizations.id\n",
    "JOIN universities\n",
    "ON professors.university_id = universities.id;'''"
   ]
  },
  {
   "cell_type": "code",
   "execution_count": 14,
   "id": "18e5654b-bcc3-4aed-a2c3-29eeafe4bb2d",
   "metadata": {},
   "outputs": [],
   "source": [
    "# -- Group the table by organization sector, professor ID and university city\n",
    "count = '''SELECT COUNT(*), organizations.organization_sector, \n",
    "professors.id, universities.university_city\n",
    "FROM affiliations\n",
    "JOIN professors\n",
    "ON affiliations.professor_id = professors.id\n",
    "JOIN organizations\n",
    "ON affiliations.organization_id = organizations.id\n",
    "JOIN universities\n",
    "ON professors.university_id = universities.id\n",
    "GROUP BY organizations.organization_sector, \n",
    "professors.id, universities.university_city;'''"
   ]
  },
  {
   "cell_type": "code",
   "execution_count": 15,
   "id": "bd16592a-bbee-4bc3-a3fe-ad07b904d54e",
   "metadata": {},
   "outputs": [],
   "source": [
    "# -- Filter the table and sort it\n",
    "m_c = '''SELECT COUNT(*), organizations.organization_sector, \n",
    "professors.id, universities.university_city\n",
    "FROM affiliations\n",
    "JOIN professors\n",
    "ON affiliations.professor_id = professors.id\n",
    "JOIN organizations\n",
    "ON affiliations.organization_id = organizations.id\n",
    "JOIN universities\n",
    "ON professors.university_id = universities.id\n",
    "WHERE organizations.organization_sector = 'Media & communication'\n",
    "GROUP BY organizations.organization_sector, \n",
    "professors.id, universities.university_city\n",
    "ORDER BY count DESC;'''"
   ]
  },
  {
   "cell_type": "markdown",
   "id": "2eb0c520-f218-45bc-80bb-9ff3c2aac755",
   "metadata": {},
   "source": [
    "- Good job! The professor with id 538 has the most affiliations in the \"Media & communication\" sector, and he or she lives in the city of Lausanne. Thanks to your database design, you can be sure that the data you've just queried is consistent. Of course, you could also put university_city and organization_sector in their own tables, making the data model even more formal. However, in database design, you have to strike a balance between modeling overhead, desired data consistency, and usability for queries like the one you've just wrote. Congratulations, you made it to the end!"
   ]
  },
  {
   "cell_type": "code",
   "execution_count": null,
   "id": "34eac9d1-663f-4929-a656-fc0289691fa2",
   "metadata": {},
   "outputs": [],
   "source": []
  }
 ],
 "metadata": {
  "kernelspec": {
   "display_name": "Python 3 (ipykernel)",
   "language": "python",
   "name": "python3"
  },
  "language_info": {
   "codemirror_mode": {
    "name": "ipython",
    "version": 3
   },
   "file_extension": ".py",
   "mimetype": "text/x-python",
   "name": "python",
   "nbconvert_exporter": "python",
   "pygments_lexer": "ipython3",
   "version": "3.13.0"
  }
 },
 "nbformat": 4,
 "nbformat_minor": 5
}
