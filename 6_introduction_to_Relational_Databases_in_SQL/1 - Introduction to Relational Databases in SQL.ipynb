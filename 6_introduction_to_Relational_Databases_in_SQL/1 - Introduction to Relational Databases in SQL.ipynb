{
 "cells": [
  {
   "cell_type": "markdown",
   "id": "d30b8e42-77ef-427b-88eb-59ac09da02a2",
   "metadata": {},
   "source": [
    "# Introduction to Relational Databases in SQL"
   ]
  },
  {
   "cell_type": "markdown",
   "id": "34de67dc-0e99-4e25-a348-487948a610fa",
   "metadata": {},
   "source": [
    "#### Query information_schema with SELECT\n",
    "information_schema is a meta-database that holds information about your current database. information_schema has multiple tables you can query with the known SELECT * FROM syntax:\n",
    "\n",
    "tables: information about all tables in your current database\n",
    "columns: information about all columns in all of the tables in your current database\n",
    "…\n",
    "In this exercise, you'll only need information from the 'public' schema, which is specified as the column table_schema of the tables and columns tables. The 'public' schema holds information about user-defined tables and databases. The other types of table_schema hold system information – for this course, you're only interested in user-defined stuff."
   ]
  },
  {
   "cell_type": "markdown",
   "id": "e335bdde-a2de-467c-bafe-0ef148c492d1",
   "metadata": {},
   "source": [
    "#### Your first duty: Have a look at the PostgreSQL database\n",
    "SELECT table_schema, table_name \\\n",
    "FROM information_schema.tables;   "
   ]
  },
  {
   "cell_type": "markdown",
   "id": "1858e0a3-d774-4dfc-b6ab-3a8078e54f0c",
   "metadata": {},
   "source": [
    "#### Have a look at the columns of a certain table\n",
    "SELECT table_name, column_name, data_type\\\n",
    "FROM information_schema.columns\\\n",
    "WHERE table_name ='pg_config';"
   ]
  },
  {
   "cell_type": "code",
   "execution_count": 1,
   "id": "ab349227-6b3e-4149-bcb0-ee40a7e9d871",
   "metadata": {},
   "outputs": [],
   "source": [
    "# -- Query the right table in information_schema\n",
    "public = '''SELECT table_name \n",
    "FROM information_schema.tables\n",
    "-- Specify the correct table_schema value\n",
    "WHERE table_schema = 'public';'''"
   ]
  },
  {
   "cell_type": "code",
   "execution_count": 2,
   "id": "d62759b8-bfed-42e3-8dc7-f1f20ab810ad",
   "metadata": {},
   "outputs": [],
   "source": [
    "# -- Query the right table in information_schema to get columns\n",
    "schema = '''SELECT column_name, data_type \n",
    "FROM information_schema.columns \n",
    "WHERE table_name = 'university_professors' AND table_schema = 'public';'''"
   ]
  },
  {
   "cell_type": "markdown",
   "id": "f900920c-cb0a-4d39-8618-abd0c75e27f0",
   "metadata": {},
   "source": [
    "# Tables: At the core of every database"
   ]
  },
  {
   "cell_type": "markdown",
   "id": "704f0f96-df36-40b0-9045-63f364043f96",
   "metadata": {},
   "source": [
    "#### Create new tables with CREATE TABLE\n",
    "CREATE TABLE table_name ( \\\n",
    "    column_a data_type, \\\n",
    "    column_b data_type,\\\n",
    "    column_c data_type);"
   ]
  },
  {
   "cell_type": "markdown",
   "id": "80081637-60ee-47d6-af58-a9ec9f6b034e",
   "metadata": {},
   "source": [
    "#### Create new tables with CREATE TABLE\n",
    "CREATE TABLE weather (\\\n",
    "    clouds text,\\\n",
    "    temperature numeric,\\\n",
    "    weather_station char(5));"
   ]
  },
  {
   "cell_type": "markdown",
   "id": "3ad55410-ebbd-413a-9d67-94d435671f4a",
   "metadata": {},
   "source": [
    "#### CREATE your first few TABLEs\n",
    "You'll now start implementing a better database model. For this, you'll create tables for the professors and universities entity types. The other tables will be created for you.\n",
    "The syntax for creating simple tables is as follows:\n",
    "\n",
    "CREATE TABLE table_name (\\\n",
    " column_a data_type,\\\n",
    " column_b data_type,\\\n",
    " column_c data_type\n",
    ");\\\n",
    "Attention: Table and columns names, as well as data types, don't need to be surrounded by quotation marks.\n"
   ]
  },
  {
   "cell_type": "code",
   "execution_count": 3,
   "id": "a3de955e-6d61-481d-964f-6629f0a104af",
   "metadata": {},
   "outputs": [],
   "source": [
    "# -- Create a table for the professors entity type\n",
    "db = '''CREATE TABLE professors (\n",
    " firstname text,\n",
    " lastname text\n",
    ");'''\n",
    "\n",
    "# -- Print the contents of this table\n",
    "p = '''SELECT * \n",
    "FROM professors;'''"
   ]
  },
  {
   "cell_type": "code",
   "execution_count": 4,
   "id": "a9216f5f-cd07-4828-8360-83eedaef1aad",
   "metadata": {},
   "outputs": [],
   "source": [
    "# -- Create a table for the universities entity type\n",
    "bdu = ''' CREATE TABLE universities(\n",
    "    university_shortname text,\n",
    "    university text,\n",
    "    university_city text\n",
    ");'''\n",
    "\n",
    "\n",
    "# -- Print the contents of this table\n",
    "pr = '''SELECT * \n",
    "FROM universities;'''"
   ]
  },
  {
   "cell_type": "markdown",
   "id": "3356e6b5-591f-452e-887c-0d83e9a4060e",
   "metadata": {},
   "source": [
    "- Great job. The other two tables, affiliations and organizations, will be created for you."
   ]
  },
  {
   "cell_type": "markdown",
   "id": "f0117efe-2070-4483-8e86-de314ce4821c",
   "metadata": {},
   "source": [
    "### ADD a COLUMN with ALTER TABLE\n",
    "Oops! We forgot to add the university_shortname column to the professors table. You've probably already noticed:\n",
    "\n",
    "In chapter 4 of this course, you'll need this column for connecting the professors table with the universities table.\n",
    "\n",
    "However, adding columns to existing tables is easy, especially if they're still empty.\n",
    "\n",
    "To add columns you can use the following SQL query:\n",
    "\n",
    "ALTER TABLE table_name\\\n",
    "ADD COLUMN column_name data_type;"
   ]
  },
  {
   "cell_type": "code",
   "execution_count": 6,
   "id": "18dcb602-a255-42b5-9574-f410915506c4",
   "metadata": {},
   "outputs": [],
   "source": [
    "# -- Add the university_shortname column\n",
    "a = '''ALTER TABLE professors\n",
    "ADD COLUMN university_shortname text;'''\n",
    "\n",
    "# -- Print the contents of this table\n",
    "pro = '''SELECT * \n",
    "FROM professors;'''"
   ]
  },
  {
   "cell_type": "markdown",
   "id": "3d1011d3-ff82-4436-99c4-d1e5707f801a",
   "metadata": {},
   "source": [
    "- Perfect – now your first sample database model is complete. Time to fill these tables with data!"
   ]
  },
  {
   "cell_type": "code",
   "execution_count": null,
   "id": "7e7d032a-e564-49d2-bfcd-eaa4409e899e",
   "metadata": {},
   "outputs": [],
   "source": []
  },
  {
   "cell_type": "markdown",
   "id": "ca0a3a20-77f7-44c9-a378-85a9845d1524",
   "metadata": {},
   "source": [
    "# Update your database as the structure changes"
   ]
  },
  {
   "cell_type": "markdown",
   "id": "62d53b38-88f4-4887-a537-351cf2d4317f",
   "metadata": {},
   "source": [
    "#### Only store DISTINCT data in the new tables\n",
    "SELECT COUNT(*)\\\n",
    "FROM university_professors;"
   ]
  },
  {
   "cell_type": "markdown",
   "id": "eb4c7195-4563-4e74-bb94-0dc2e0af4939",
   "metadata": {},
   "source": [
    "SELECT COUNT(DISTINCT organization)\\\n",
    "FROM university_professors;"
   ]
  },
  {
   "cell_type": "markdown",
   "id": "7b4a4de6-07b9-43b9-95dc-934f9c1d781d",
   "metadata": {},
   "source": [
    "### INSERT DISTINCT records INTO the new tables\n",
    "INSERT INTO organizations\\\n",
    "SELECT DISTINCT organization,\\\n",
    "organization_sector\\\n",
    "FROM university_professors;"
   ]
  },
  {
   "cell_type": "markdown",
   "id": "9dd171fe-4237-47d7-82ef-ac9bded27f9e",
   "metadata": {},
   "source": [
    "INSERT INTO organizations\\\n",
    "SELECT organization, \\\n",
    "organization_sector\\\n",
    "FROM university_professors;"
   ]
  },
  {
   "cell_type": "markdown",
   "id": "61fa3d70-9de5-4d36-a013-2419eec6a239",
   "metadata": {},
   "source": [
    "### The INSERT INTO statement \n",
    "INSERT INTO table_name (\\\n",
    "    column_a, column_b)\\\n",
    "VALUES (\"value_a\", \"value_b\");"
   ]
  },
  {
   "cell_type": "markdown",
   "id": "1f57b9db-d4c2-4052-9e9c-e7bc3efa4496",
   "metadata": {},
   "source": [
    "### RENAME a COLUMN in affiliations \n",
    "CREATE TABLE affiliations (\\\n",
    "    firstname text,\\\n",
    "    lastname text,\\\n",
    "    university_shortname text,\\\n",
    "    function text,\\\n",
    "    organisation text);\n",
    "\n",
    "\n",
    "ALTER TABLE table_name\\\n",
    "RENAME COLUMN old_name TO new_name;\n",
    "\n"
   ]
  },
  {
   "cell_type": "markdown",
   "id": "62fcc04b-7835-4b8d-8b57-e1e1a283a80a",
   "metadata": {},
   "source": [
    "### DROP a COLUMN in affiliations \n",
    "CREATE TABLE affiliations (\\\n",
    "    firstname text,\\\n",
    "    lastname text,\\\n",
    "    university_shortname text,\\\n",
    "    function text,\\\n",
    "    organisation text);\n",
    "\n",
    "ALTER TABLE table_name\\\n",
    "DROP COLUMN column_name;"
   ]
  },
  {
   "cell_type": "markdown",
   "id": "ddd537ca-6c20-43f8-9c03-5a04fb4ae2c8",
   "metadata": {},
   "source": [
    "SELECT DISTINCT firstname,\\\n",
    "lastname,\\\n",
    "university_shortname\\\n",
    "FROM university_professors\\\n",
    "ORDER BY lastname;"
   ]
  },
  {
   "cell_type": "markdown",
   "id": "5b6e0d11-cdfa-4498-8193-f8d7a1b42669",
   "metadata": {},
   "source": [
    "SELECT DISTINCT firstname,\\\n",
    "lastname,\\\n",
    "FROM university_professors\\\n",
    "ORDER BY lastname;"
   ]
  },
  {
   "cell_type": "markdown",
   "id": "167353ae-20a8-47d6-923a-58dba4e59798",
   "metadata": {},
   "source": [
    "### RENAME and DROP COLUMNs in affiliations\n",
    "As mentioned in the video, the still empty affiliations table has some flaws. In this exercise, you'll correct them as outlined in the video.\n",
    "\n",
    "You'll use the following queries:"
   ]
  },
  {
   "cell_type": "code",
   "execution_count": 7,
   "id": "1c99f0d3-0c56-4ea7-8334-6d810f3d47bf",
   "metadata": {},
   "outputs": [],
   "source": [
    "# -- Rename the organisation column\n",
    "c = '''ALTER TABLE affiliations\n",
    "RENAME COLUMN organisation TO organization;'''"
   ]
  },
  {
   "cell_type": "code",
   "execution_count": 8,
   "id": "b5a2da53-07ce-458f-813b-7a98a46d3497",
   "metadata": {},
   "outputs": [],
   "source": [
    "# -- Rename the organisation column\n",
    "d = '''ALTER TABLE affiliations\n",
    "RENAME COLUMN organisation TO organization;\n",
    "\n",
    "-- Delete the university_shortname column\n",
    "ALTER TABLE affiliations\n",
    "DROP COLUMN university_shortname;'''"
   ]
  },
  {
   "cell_type": "markdown",
   "id": "f416878d-da94-4150-8ab1-0e453bfcb674",
   "metadata": {},
   "source": [
    "#### Migrate data with INSERT INTO SELECT DISTINCT\n",
    "Now it's finally time to migrate the data into the new tables. You'll use the following pattern:\n",
    "\n",
    "INSERT INTO ... \\\n",
    "SELECT DISTINCT ...\\ \n",
    "FROM ...;\\\n",
    "It can be broken up into two parts:\n",
    "\n",
    "First part:\n",
    "\n",
    "SELECT DISTINCT column_name1, column_name2, ... \\\n",
    "FROM table_a;\\\n",
    "This selects all distinct values in table table_a – nothing new for you.\n",
    "\n",
    "Second part:\n",
    "\n",
    "INSERT INTO table_b ...;\\\n",
    "Take this part and append it to the first, so it inserts all distinct rows from table_a into table_b.\n",
    "\n",
    "One last thing: It is important that you run all of the code at the same time once you have filled out the blanks."
   ]
  },
  {
   "cell_type": "code",
   "execution_count": 9,
   "id": "b973461a-4e78-4214-adfb-808f7a26737f",
   "metadata": {},
   "outputs": [],
   "source": [
    "# -- Insert unique professors into the new table\n",
    "i = '''INSERT INTO professors \n",
    "SELECT DISTINCT firstname, lastname, university_shortname \n",
    "FROM university_professors;\n",
    "\n",
    "-- Doublecheck the contents of professors\n",
    "SELECT * \n",
    "FROM professors;'''"
   ]
  },
  {
   "cell_type": "code",
   "execution_count": 10,
   "id": "b3e66dcf-7444-413e-9523-ebcac3be3a0e",
   "metadata": {},
   "outputs": [],
   "source": [
    "# -- Insert unique affiliations into the new table\n",
    "a = '''INSERT INTO affiliations \n",
    "SELECT DISTINCT firstname, lastname, function, organization \n",
    "FROM university_professors;\n",
    "\n",
    "-- Doublecheck the contents of affiliations\n",
    "SELECT * \n",
    "FROM affiliations;'''"
   ]
  },
  {
   "cell_type": "markdown",
   "id": "bec53c3b-0e91-432d-8ca6-f0c374d6500d",
   "metadata": {},
   "source": [
    "- Perfect. You can see that there are 1377 distinct combinations of professors and organisations in the dataset. We'll migrate the other two tables universities and organisations for you. The last thing to do in this chapter is to delete the no longer needed university_professors table."
   ]
  },
  {
   "cell_type": "markdown",
   "id": "ec2095ea-c6a0-4eef-8ec0-dd4f0d2474ee",
   "metadata": {},
   "source": [
    "### Delete tables with DROP TABLE\n",
    "Obviously, the university_professors table is now no longer needed and can safely be deleted.\n",
    "\n",
    "For table deletion, you can use the simple command:\n",
    "\n",
    "DROP TABLE table_name;"
   ]
  },
  {
   "cell_type": "code",
   "execution_count": 11,
   "id": "1bf94084-b2b7-45e8-be40-818325e690a2",
   "metadata": {},
   "outputs": [],
   "source": [
    "# -- Delete the university_professors table\n",
    "de = '''DROP TABLE university_professors;'''"
   ]
  },
  {
   "cell_type": "markdown",
   "id": "173ee998-af4a-4502-8a31-8eb6b2ad7ef3",
   "metadata": {},
   "source": [
    "- Perfect! Now it's finally time to delve into the real advantages of databases. In the following chapters, you will discover many cool features that ultimately lead to better data consistency and quality, such as domain constraints, keys, and referential integrity. See you soon!"
   ]
  },
  {
   "cell_type": "code",
   "execution_count": null,
   "id": "ee9e3b09-885e-478b-80e9-c504425e5760",
   "metadata": {},
   "outputs": [],
   "source": []
  },
  {
   "cell_type": "code",
   "execution_count": null,
   "id": "3beb854f-65b3-4866-9aca-7f3a29dd3ff0",
   "metadata": {},
   "outputs": [],
   "source": []
  },
  {
   "cell_type": "code",
   "execution_count": null,
   "id": "5f9003bc-e716-412a-934a-973eecc7b9be",
   "metadata": {},
   "outputs": [],
   "source": []
  },
  {
   "cell_type": "code",
   "execution_count": null,
   "id": "53faf826-caa0-48bc-8673-58c48ef0e4b6",
   "metadata": {},
   "outputs": [],
   "source": []
  },
  {
   "cell_type": "markdown",
   "id": "d0fbf2c5-8155-4a54-b398-4d5eb87fbe7c",
   "metadata": {},
   "source": []
  }
 ],
 "metadata": {
  "kernelspec": {
   "display_name": "Python 3 (ipykernel)",
   "language": "python",
   "name": "python3"
  },
  "language_info": {
   "codemirror_mode": {
    "name": "ipython",
    "version": 3
   },
   "file_extension": ".py",
   "mimetype": "text/x-python",
   "name": "python",
   "nbconvert_exporter": "python",
   "pygments_lexer": "ipython3",
   "version": "3.13.0"
  }
 },
 "nbformat": 4,
 "nbformat_minor": 5
}
