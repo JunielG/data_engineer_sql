{
 "cells": [
  {
   "cell_type": "code",
   "execution_count": 1,
   "id": "85b78a80-f372-46aa-870f-b5e1be878637",
   "metadata": {},
   "outputs": [],
   "source": [
    "import pandas as pd\n",
    "import sqlite3 as sql\n",
    "from pandasql import sqldf"
   ]
  },
  {
   "cell_type": "code",
   "execution_count": 2,
   "id": "9c922120-9764-42fa-962f-bb476274f23c",
   "metadata": {},
   "outputs": [],
   "source": [
    "cities = pd.read_csv('cities.csv')"
   ]
  },
  {
   "cell_type": "code",
   "execution_count": 3,
   "id": "f38674dd-8537-4b13-970e-b002d978e11a",
   "metadata": {},
   "outputs": [],
   "source": [
    "economies = pd.read_csv('economies.csv')"
   ]
  },
  {
   "cell_type": "code",
   "execution_count": 4,
   "id": "fe949a49-e602-4a7f-9195-3ccb31c3da25",
   "metadata": {},
   "outputs": [],
   "source": [
    "countries = pd.read_csv('countries.csv')"
   ]
  },
  {
   "cell_type": "code",
   "execution_count": 8,
   "id": "3815ba81-4dec-4b99-9a67-3f055c4bcc51",
   "metadata": {},
   "outputs": [],
   "source": [
    "cnn = sql.connect('cities.db')"
   ]
  },
  {
   "cell_type": "code",
   "execution_count": 9,
   "id": "894fe303-177b-4253-8dc5-d6ad7e28ed87",
   "metadata": {},
   "outputs": [
    {
     "data": {
      "text/plain": [
       "236"
      ]
     },
     "execution_count": 9,
     "metadata": {},
     "output_type": "execute_result"
    }
   ],
   "source": [
    "cities.to_sql('cities', cnn)"
   ]
  },
  {
   "cell_type": "code",
   "execution_count": 10,
   "id": "5a68750d-e26e-4a3a-a4a0-6f4bfb12ee75",
   "metadata": {},
   "outputs": [],
   "source": [
    "%load_ext sql"
   ]
  },
  {
   "cell_type": "code",
   "execution_count": 16,
   "id": "f097259d-37d3-401a-9526-78d922a33605",
   "metadata": {},
   "outputs": [
    {
     "data": {
      "text/html": [
       "<span style=\"None\">Connecting and switching to connection &#x27;sqlite:///cities.db&#x27;</span>"
      ],
      "text/plain": [
       "Connecting and switching to connection 'sqlite:///cities.db'"
      ]
     },
     "metadata": {},
     "output_type": "display_data"
    }
   ],
   "source": [
    "%sql sqlite:///cities.db"
   ]
  },
  {
   "cell_type": "code",
   "execution_count": 17,
   "id": "ceb1e7bd-56af-491b-8317-2af7f61d8ebd",
   "metadata": {},
   "outputs": [
    {
     "data": {
      "text/html": [
       "<span style=\"None\">Running query in &#x27;sqlite:///cities.db&#x27;</span>"
      ],
      "text/plain": [
       "Running query in 'sqlite:///cities.db'"
      ]
     },
     "metadata": {},
     "output_type": "display_data"
    },
    {
     "data": {
      "text/html": [
       "<table>\n",
       "    <thead>\n",
       "        <tr>\n",
       "            <th>name</th>\n",
       "            <th>country_code</th>\n",
       "            <th>city_proper_pop</th>\n",
       "            <th>metroarea_pop</th>\n",
       "            <th>urbanarea_pop</th>\n",
       "        </tr>\n",
       "    </thead>\n",
       "    <tbody>\n",
       "        <tr>\n",
       "            <td>Abidjan</td>\n",
       "            <td>CIV</td>\n",
       "            <td>4765000</td>\n",
       "            <td>None</td>\n",
       "            <td>4765000</td>\n",
       "        </tr>\n",
       "        <tr>\n",
       "            <td>Abu Dhabi</td>\n",
       "            <td>ARE</td>\n",
       "            <td>1145000</td>\n",
       "            <td>None</td>\n",
       "            <td>1145000</td>\n",
       "        </tr>\n",
       "        <tr>\n",
       "            <td>Abuja</td>\n",
       "            <td>NGA</td>\n",
       "            <td>1235880</td>\n",
       "            <td>6000000.0</td>\n",
       "            <td>1235880</td>\n",
       "        </tr>\n",
       "        <tr>\n",
       "            <td>Accra</td>\n",
       "            <td>GHA</td>\n",
       "            <td>2070463</td>\n",
       "            <td>4010054.0</td>\n",
       "            <td>2070463</td>\n",
       "        </tr>\n",
       "        <tr>\n",
       "            <td>Addis Ababa</td>\n",
       "            <td>ETH</td>\n",
       "            <td>3103673</td>\n",
       "            <td>4567857.0</td>\n",
       "            <td>3103673</td>\n",
       "        </tr>\n",
       "        <tr>\n",
       "            <td>Ahmedabad</td>\n",
       "            <td>IND</td>\n",
       "            <td>5570585</td>\n",
       "            <td>None</td>\n",
       "            <td>5570585</td>\n",
       "        </tr>\n",
       "        <tr>\n",
       "            <td>Alexandria</td>\n",
       "            <td>EGY</td>\n",
       "            <td>4616625</td>\n",
       "            <td>None</td>\n",
       "            <td>4616625</td>\n",
       "        </tr>\n",
       "        <tr>\n",
       "            <td>Algiers</td>\n",
       "            <td>DZA</td>\n",
       "            <td>3415811</td>\n",
       "            <td>5000000.0</td>\n",
       "            <td>3415811</td>\n",
       "        </tr>\n",
       "        <tr>\n",
       "            <td>Almaty</td>\n",
       "            <td>KAZ</td>\n",
       "            <td>1703481</td>\n",
       "            <td>None</td>\n",
       "            <td>1703481</td>\n",
       "        </tr>\n",
       "        <tr>\n",
       "            <td>Ankara</td>\n",
       "            <td>TUR</td>\n",
       "            <td>5271000</td>\n",
       "            <td>4585000.0</td>\n",
       "            <td>5271000</td>\n",
       "        </tr>\n",
       "    </tbody>\n",
       "</table>\n",
       "<span style=\"font-style:italic;text-align:center;\">Truncated to <a href=\"https://jupysql.ploomber.io/en/latest/api/configuration.html#displaylimit\">displaylimit</a> of 10.</span>"
      ],
      "text/plain": [
       "+-------------+--------------+-----------------+---------------+---------------+\n",
       "|     name    | country_code | city_proper_pop | metroarea_pop | urbanarea_pop |\n",
       "+-------------+--------------+-----------------+---------------+---------------+\n",
       "|   Abidjan   |     CIV      |     4765000     |      None     |    4765000    |\n",
       "|  Abu Dhabi  |     ARE      |     1145000     |      None     |    1145000    |\n",
       "|    Abuja    |     NGA      |     1235880     |   6000000.0   |    1235880    |\n",
       "|    Accra    |     GHA      |     2070463     |   4010054.0   |    2070463    |\n",
       "| Addis Ababa |     ETH      |     3103673     |   4567857.0   |    3103673    |\n",
       "|  Ahmedabad  |     IND      |     5570585     |      None     |    5570585    |\n",
       "|  Alexandria |     EGY      |     4616625     |      None     |    4616625    |\n",
       "|   Algiers   |     DZA      |     3415811     |   5000000.0   |    3415811    |\n",
       "|    Almaty   |     KAZ      |     1703481     |      None     |    1703481    |\n",
       "|    Ankara   |     TUR      |     5271000     |   4585000.0   |    5271000    |\n",
       "+-------------+--------------+-----------------+---------------+---------------+\n",
       "Truncated to displaylimit of 10."
      ]
     },
     "execution_count": 17,
     "metadata": {},
     "output_type": "execute_result"
    }
   ],
   "source": [
    "%%sql \n",
    "SELECT *\n",
    "FROM cities"
   ]
  },
  {
   "cell_type": "code",
   "execution_count": null,
   "id": "4af3dbff-04af-455e-8f8e-df2e6eea30b3",
   "metadata": {},
   "outputs": [],
   "source": []
  },
  {
   "cell_type": "code",
   "execution_count": null,
   "id": "268e4842-0317-4400-801d-3000a652894e",
   "metadata": {},
   "outputs": [],
   "source": []
  }
 ],
 "metadata": {
  "kernelspec": {
   "display_name": "Python 3 (ipykernel)",
   "language": "python",
   "name": "python3"
  },
  "language_info": {
   "codemirror_mode": {
    "name": "ipython",
    "version": 3
   },
   "file_extension": ".py",
   "mimetype": "text/x-python",
   "name": "python",
   "nbconvert_exporter": "python",
   "pygments_lexer": "ipython3",
   "version": "3.13.0"
  }
 },
 "nbformat": 4,
 "nbformat_minor": 5
}
