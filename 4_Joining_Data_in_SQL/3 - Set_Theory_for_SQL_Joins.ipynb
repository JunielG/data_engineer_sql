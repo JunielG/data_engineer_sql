{
 "cells": [
  {
   "cell_type": "code",
   "execution_count": 1,
   "id": "4f9b100f-f7f9-4b2b-b13f-e984e9262f49",
   "metadata": {},
   "outputs": [],
   "source": [
    "import pandas as pd\n",
    "import sqlite3 as sql\n",
    "from pandasql import sqldf"
   ]
  },
  {
   "cell_type": "code",
   "execution_count": 2,
   "id": "634e5480-e865-4884-82af-0a441feecece",
   "metadata": {},
   "outputs": [],
   "source": [
    "cities = pd.read_csv('cities.csv')"
   ]
  },
  {
   "cell_type": "code",
   "execution_count": 3,
   "id": "023c9a8c-bae1-45d9-9cb3-db7d5e63882a",
   "metadata": {},
   "outputs": [],
   "source": [
    "countries = pd.read_csv('countries.csv')"
   ]
  },
  {
   "cell_type": "code",
   "execution_count": 4,
   "id": "5df7a93c-a55f-45d0-90cc-1167a5a1537c",
   "metadata": {},
   "outputs": [],
   "source": [
    "economies = pd.read_csv('economies.csv')"
   ]
  },
  {
   "cell_type": "code",
   "execution_count": 5,
   "id": "5b5e4597-fddb-4f78-af38-c9f765737695",
   "metadata": {},
   "outputs": [],
   "source": [
    "languages = pd.read_csv('languages.csv')"
   ]
  },
  {
   "cell_type": "code",
   "execution_count": 6,
   "id": "6d9fe575-91fe-4a00-a660-4f5477e6d346",
   "metadata": {},
   "outputs": [],
   "source": [
    "currencies = pd.read_csv('currencies.csv')"
   ]
  },
  {
   "cell_type": "code",
   "execution_count": 7,
   "id": "020b40d4-6ee9-4fee-b69b-e1bd5e57abc4",
   "metadata": {},
   "outputs": [],
   "source": [
    "populations = pd.read_csv('populations.csv')"
   ]
  },
  {
   "cell_type": "code",
   "execution_count": 17,
   "id": "2d6cd462-0bea-41e4-9efa-c22e907c1d0e",
   "metadata": {},
   "outputs": [],
   "source": [
    "economies2015 = pd.read_csv('economies2015.csv')"
   ]
  },
  {
   "cell_type": "code",
   "execution_count": 18,
   "id": "28d56ed4-5641-4431-8e89-ee9fd1dc57a0",
   "metadata": {},
   "outputs": [],
   "source": [
    "economies2019 = pd.read_csv('economies2019.csv')"
   ]
  },
  {
   "cell_type": "code",
   "execution_count": null,
   "id": "d5bb6caa-6f5a-476c-819a-09a73d97d029",
   "metadata": {},
   "outputs": [],
   "source": []
  },
  {
   "cell_type": "markdown",
   "id": "294d38cd-8483-4418-b236-411e79ba3fed",
   "metadata": {},
   "source": [
    "# Set Theory for SQL Joins"
   ]
  },
  {
   "cell_type": "markdown",
   "id": "5ba6f86c-70de-49f4-bc63-d0df2b640adc",
   "metadata": {},
   "source": [
    "- UNION vs. UNION ALL\\\n",
    "Nice work learning all about UNION and UNION ALL!\\\n",
    "Two tables, languages and currencies, are provided. Run the queries provided in the console and select the correct answer for the multiple-choice questions in this exercise."
   ]
  },
  {
   "cell_type": "markdown",
   "id": "502f750c-201e-4725-88d1-005405d2276d",
   "metadata": {},
   "source": [
    "q = '''SELECT * \\\n",
    "FROM languages\\\n",
    "UNION\\\n",
    "SELECT * \\\n",
    "FROM currencies;'''\\\n",
    "sqldf(q,env=None) SELECTs to the left and right of UNION do not have the same number of result columns"
   ]
  },
  {
   "cell_type": "code",
   "execution_count": 9,
   "id": "f3a586c2-2ba5-42b3-bd7e-53b46eeee44a",
   "metadata": {},
   "outputs": [],
   "source": [
    "c = '''SELECT code FROM\n",
    "languages\n",
    "UNION ALL\n",
    "SELECT code FROM \n",
    "currencies;'''"
   ]
  },
  {
   "cell_type": "code",
   "execution_count": 10,
   "id": "43b0471b-9ba6-44c6-bb99-9d7f9bb3f4e0",
   "metadata": {},
   "outputs": [
    {
     "data": {
      "text/html": [
       "<div>\n",
       "<style scoped>\n",
       "    .dataframe tbody tr th:only-of-type {\n",
       "        vertical-align: middle;\n",
       "    }\n",
       "\n",
       "    .dataframe tbody tr th {\n",
       "        vertical-align: top;\n",
       "    }\n",
       "\n",
       "    .dataframe thead th {\n",
       "        text-align: right;\n",
       "    }\n",
       "</style>\n",
       "<table border=\"1\" class=\"dataframe\">\n",
       "  <thead>\n",
       "    <tr style=\"text-align: right;\">\n",
       "      <th></th>\n",
       "      <th>code</th>\n",
       "    </tr>\n",
       "  </thead>\n",
       "  <tbody>\n",
       "    <tr>\n",
       "      <th>0</th>\n",
       "      <td>AFG</td>\n",
       "    </tr>\n",
       "    <tr>\n",
       "      <th>1</th>\n",
       "      <td>AFG</td>\n",
       "    </tr>\n",
       "    <tr>\n",
       "      <th>2</th>\n",
       "      <td>AFG</td>\n",
       "    </tr>\n",
       "    <tr>\n",
       "      <th>3</th>\n",
       "      <td>AFG</td>\n",
       "    </tr>\n",
       "    <tr>\n",
       "      <th>4</th>\n",
       "      <td>ALB</td>\n",
       "    </tr>\n",
       "    <tr>\n",
       "      <th>...</th>\n",
       "      <td>...</td>\n",
       "    </tr>\n",
       "    <tr>\n",
       "      <th>1174</th>\n",
       "      <td>ZWE</td>\n",
       "    </tr>\n",
       "    <tr>\n",
       "      <th>1175</th>\n",
       "      <td>ZWE</td>\n",
       "    </tr>\n",
       "    <tr>\n",
       "      <th>1176</th>\n",
       "      <td>ZWE</td>\n",
       "    </tr>\n",
       "    <tr>\n",
       "      <th>1177</th>\n",
       "      <td>ZWE</td>\n",
       "    </tr>\n",
       "    <tr>\n",
       "      <th>1178</th>\n",
       "      <td>ZWE</td>\n",
       "    </tr>\n",
       "  </tbody>\n",
       "</table>\n",
       "<p>1179 rows × 1 columns</p>\n",
       "</div>"
      ],
      "text/plain": [
       "     code\n",
       "0     AFG\n",
       "1     AFG\n",
       "2     AFG\n",
       "3     AFG\n",
       "4     ALB\n",
       "...   ...\n",
       "1174  ZWE\n",
       "1175  ZWE\n",
       "1176  ZWE\n",
       "1177  ZWE\n",
       "1178  ZWE\n",
       "\n",
       "[1179 rows x 1 columns]"
      ]
     },
     "execution_count": 10,
     "metadata": {},
     "output_type": "execute_result"
    }
   ],
   "source": [
    "sqldf(c,env=None)"
   ]
  },
  {
   "cell_type": "markdown",
   "id": "7a8e1226-ae44-4cb8-9507-712a7a10e3c6",
   "metadata": {},
   "source": [
    "- An unordered list of each country code in languages and currencies, including duplicates"
   ]
  },
  {
   "cell_type": "code",
   "execution_count": 12,
   "id": "43410894-70e2-4c87-a5bf-d4bb4d5a9020",
   "metadata": {},
   "outputs": [
    {
     "data": {
      "text/html": [
       "<div>\n",
       "<style scoped>\n",
       "    .dataframe tbody tr th:only-of-type {\n",
       "        vertical-align: middle;\n",
       "    }\n",
       "\n",
       "    .dataframe tbody tr th {\n",
       "        vertical-align: top;\n",
       "    }\n",
       "\n",
       "    .dataframe thead th {\n",
       "        text-align: right;\n",
       "    }\n",
       "</style>\n",
       "<table border=\"1\" class=\"dataframe\">\n",
       "  <thead>\n",
       "    <tr style=\"text-align: right;\">\n",
       "      <th></th>\n",
       "      <th>code</th>\n",
       "    </tr>\n",
       "  </thead>\n",
       "  <tbody>\n",
       "    <tr>\n",
       "      <th>0</th>\n",
       "      <td>1</td>\n",
       "    </tr>\n",
       "    <tr>\n",
       "      <th>1</th>\n",
       "      <td>2</td>\n",
       "    </tr>\n",
       "    <tr>\n",
       "      <th>2</th>\n",
       "      <td>3</td>\n",
       "    </tr>\n",
       "    <tr>\n",
       "      <th>3</th>\n",
       "      <td>4</td>\n",
       "    </tr>\n",
       "    <tr>\n",
       "      <th>4</th>\n",
       "      <td>5</td>\n",
       "    </tr>\n",
       "    <tr>\n",
       "      <th>...</th>\n",
       "      <td>...</td>\n",
       "    </tr>\n",
       "    <tr>\n",
       "      <th>431</th>\n",
       "      <td>WSM</td>\n",
       "    </tr>\n",
       "    <tr>\n",
       "      <th>432</th>\n",
       "      <td>YEM</td>\n",
       "    </tr>\n",
       "    <tr>\n",
       "      <th>433</th>\n",
       "      <td>ZAF</td>\n",
       "    </tr>\n",
       "    <tr>\n",
       "      <th>434</th>\n",
       "      <td>ZMB</td>\n",
       "    </tr>\n",
       "    <tr>\n",
       "      <th>435</th>\n",
       "      <td>ZWE</td>\n",
       "    </tr>\n",
       "  </tbody>\n",
       "</table>\n",
       "<p>436 rows × 1 columns</p>\n",
       "</div>"
      ],
      "text/plain": [
       "    code\n",
       "0      1\n",
       "1      2\n",
       "2      3\n",
       "3      4\n",
       "4      5\n",
       "..   ...\n",
       "431  WSM\n",
       "432  YEM\n",
       "433  ZAF\n",
       "434  ZMB\n",
       "435  ZWE\n",
       "\n",
       "[436 rows x 1 columns]"
      ]
     },
     "execution_count": 12,
     "metadata": {},
     "output_type": "execute_result"
    }
   ],
   "source": [
    "x = '''SELECT code \n",
    "FROM languages\n",
    "UNION\n",
    "SELECT curr_id \n",
    "FROM currencies;'''\n",
    "sqldf(x,env=None)"
   ]
  },
  {
   "cell_type": "markdown",
   "id": "f55a3315-be79-4f4c-aa5c-45aae4ef44fc",
   "metadata": {},
   "source": [
    "- Correct! Both queries on the left and right of the set operation must have the same data types. The names of the fields do not need to be the same, as the result will always contain field names from the left query."
   ]
  },
  {
   "cell_type": "markdown",
   "id": "8e987ad7-0cb0-45ac-8cbe-fdeaed7a8eff",
   "metadata": {},
   "source": [
    "# Comparing global economies\n",
    "Are you ready to perform your first set operation?\\\n",
    "In this exercise, you have two tables, economies2015 and economies2019, available to you under the tabs in the console. You'll perform a set operation to stack all records in these two tables on top of each other, excluding duplicates.\\\n",
    "When drafting queries containing set operations, it is often helpful to write the queries on either side of the operation first, and then call the set operator. The instructions are ordered accordingly."
   ]
  },
  {
   "cell_type": "code",
   "execution_count": 20,
   "id": "1bfd2bd4-d774-46ae-b288-c10d268cb54d",
   "metadata": {},
   "outputs": [
    {
     "data": {
      "text/html": [
       "<div>\n",
       "<style scoped>\n",
       "    .dataframe tbody tr th:only-of-type {\n",
       "        vertical-align: middle;\n",
       "    }\n",
       "\n",
       "    .dataframe tbody tr th {\n",
       "        vertical-align: top;\n",
       "    }\n",
       "\n",
       "    .dataframe thead th {\n",
       "        text-align: right;\n",
       "    }\n",
       "</style>\n",
       "<table border=\"1\" class=\"dataframe\">\n",
       "  <thead>\n",
       "    <tr style=\"text-align: right;\">\n",
       "      <th></th>\n",
       "      <th>code</th>\n",
       "      <th>year</th>\n",
       "      <th>income_group</th>\n",
       "      <th>gross_savings</th>\n",
       "    </tr>\n",
       "  </thead>\n",
       "  <tbody>\n",
       "    <tr>\n",
       "      <th>0</th>\n",
       "      <td>ABW</td>\n",
       "      <td>2015</td>\n",
       "      <td>High income</td>\n",
       "      <td>14.867852</td>\n",
       "    </tr>\n",
       "    <tr>\n",
       "      <th>1</th>\n",
       "      <td>AGO</td>\n",
       "      <td>2015</td>\n",
       "      <td>Lower middle income</td>\n",
       "      <td>25.021327</td>\n",
       "    </tr>\n",
       "    <tr>\n",
       "      <th>2</th>\n",
       "      <td>AGO</td>\n",
       "      <td>2019</td>\n",
       "      <td>Lower middle income</td>\n",
       "      <td>25.524848</td>\n",
       "    </tr>\n",
       "    <tr>\n",
       "      <th>3</th>\n",
       "      <td>ALB</td>\n",
       "      <td>2015</td>\n",
       "      <td>Upper middle income</td>\n",
       "      <td>16.863981</td>\n",
       "    </tr>\n",
       "    <tr>\n",
       "      <th>4</th>\n",
       "      <td>ALB</td>\n",
       "      <td>2019</td>\n",
       "      <td>Upper middle income</td>\n",
       "      <td>14.499826</td>\n",
       "    </tr>\n",
       "    <tr>\n",
       "      <th>...</th>\n",
       "      <td>...</td>\n",
       "      <td>...</td>\n",
       "      <td>...</td>\n",
       "      <td>...</td>\n",
       "    </tr>\n",
       "    <tr>\n",
       "      <th>312</th>\n",
       "      <td>ZAF</td>\n",
       "      <td>2019</td>\n",
       "      <td>Upper middle income</td>\n",
       "      <td>13.465737</td>\n",
       "    </tr>\n",
       "    <tr>\n",
       "      <th>313</th>\n",
       "      <td>ZMB</td>\n",
       "      <td>2015</td>\n",
       "      <td>Lower middle income</td>\n",
       "      <td>33.700215</td>\n",
       "    </tr>\n",
       "    <tr>\n",
       "      <th>314</th>\n",
       "      <td>ZMB</td>\n",
       "      <td>2019</td>\n",
       "      <td>Lower middle income</td>\n",
       "      <td>39.714393</td>\n",
       "    </tr>\n",
       "    <tr>\n",
       "      <th>315</th>\n",
       "      <td>ZWE</td>\n",
       "      <td>2015</td>\n",
       "      <td>Lower middle income</td>\n",
       "      <td>-0.107826</td>\n",
       "    </tr>\n",
       "    <tr>\n",
       "      <th>316</th>\n",
       "      <td>ZWE</td>\n",
       "      <td>2019</td>\n",
       "      <td>Lower middle income</td>\n",
       "      <td>11.830197</td>\n",
       "    </tr>\n",
       "  </tbody>\n",
       "</table>\n",
       "<p>317 rows × 4 columns</p>\n",
       "</div>"
      ],
      "text/plain": [
       "    code  year         income_group  gross_savings\n",
       "0    ABW  2015          High income      14.867852\n",
       "1    AGO  2015  Lower middle income      25.021327\n",
       "2    AGO  2019  Lower middle income      25.524848\n",
       "3    ALB  2015  Upper middle income      16.863981\n",
       "4    ALB  2019  Upper middle income      14.499826\n",
       "..   ...   ...                  ...            ...\n",
       "312  ZAF  2019  Upper middle income      13.465737\n",
       "313  ZMB  2015  Lower middle income      33.700215\n",
       "314  ZMB  2019  Lower middle income      39.714393\n",
       "315  ZWE  2015  Lower middle income      -0.107826\n",
       "316  ZWE  2019  Lower middle income      11.830197\n",
       "\n",
       "[317 rows x 4 columns]"
      ]
     },
     "execution_count": 20,
     "metadata": {},
     "output_type": "execute_result"
    }
   ],
   "source": [
    "# Select all fields from economies2015\n",
    "u = '''SELECT *\n",
    "FROM economies2015   \n",
    "-- Set operation\n",
    "UNION\n",
    "-- Select all fields from economies2019\n",
    "SELECT *\n",
    "FROM economies2019\n",
    "ORDER BY code, year;'''\n",
    "sqldf(u,env=None)"
   ]
  },
  {
   "cell_type": "markdown",
   "id": "6fb9c609-2661-4a98-8948-99f99f4897c5",
   "metadata": {},
   "source": [
    "- Your first UNION! UNION can be helpful for consolidating data from multiple tables into one result, which as you have seen, can then be ordered in meaningful ways."
   ]
  },
  {
   "cell_type": "markdown",
   "id": "0db0f3f5-6829-4f38-bc98-d87c4b51d66e",
   "metadata": {},
   "source": [
    "# Comparing two set operations\n",
    "You learned in the video exercise that UNION ALL returns duplicates, whereas UNION does not. In this exercise, you will dive deeper into this, looking at cases for when UNION is appropriate compared to UNION ALL.\\\n",
    "You will be looking at combinations of country code and year from the economies and populations tables."
   ]
  },
  {
   "cell_type": "code",
   "execution_count": 21,
   "id": "204fc399-968c-4bce-87c9-bcba20281ce0",
   "metadata": {},
   "outputs": [
    {
     "data": {
      "text/html": [
       "<div>\n",
       "<style scoped>\n",
       "    .dataframe tbody tr th:only-of-type {\n",
       "        vertical-align: middle;\n",
       "    }\n",
       "\n",
       "    .dataframe tbody tr th {\n",
       "        vertical-align: top;\n",
       "    }\n",
       "\n",
       "    .dataframe thead th {\n",
       "        text-align: right;\n",
       "    }\n",
       "</style>\n",
       "<table border=\"1\" class=\"dataframe\">\n",
       "  <thead>\n",
       "    <tr style=\"text-align: right;\">\n",
       "      <th></th>\n",
       "      <th>code</th>\n",
       "      <th>year</th>\n",
       "    </tr>\n",
       "  </thead>\n",
       "  <tbody>\n",
       "    <tr>\n",
       "      <th>0</th>\n",
       "      <td>ABW</td>\n",
       "      <td>2010</td>\n",
       "    </tr>\n",
       "    <tr>\n",
       "      <th>1</th>\n",
       "      <td>ABW</td>\n",
       "      <td>2015</td>\n",
       "    </tr>\n",
       "    <tr>\n",
       "      <th>2</th>\n",
       "      <td>AFG</td>\n",
       "      <td>2010</td>\n",
       "    </tr>\n",
       "    <tr>\n",
       "      <th>3</th>\n",
       "      <td>AFG</td>\n",
       "      <td>2015</td>\n",
       "    </tr>\n",
       "    <tr>\n",
       "      <th>4</th>\n",
       "      <td>AGO</td>\n",
       "      <td>2010</td>\n",
       "    </tr>\n",
       "    <tr>\n",
       "      <th>...</th>\n",
       "      <td>...</td>\n",
       "      <td>...</td>\n",
       "    </tr>\n",
       "    <tr>\n",
       "      <th>429</th>\n",
       "      <td>ZAF</td>\n",
       "      <td>2015</td>\n",
       "    </tr>\n",
       "    <tr>\n",
       "      <th>430</th>\n",
       "      <td>ZMB</td>\n",
       "      <td>2010</td>\n",
       "    </tr>\n",
       "    <tr>\n",
       "      <th>431</th>\n",
       "      <td>ZMB</td>\n",
       "      <td>2015</td>\n",
       "    </tr>\n",
       "    <tr>\n",
       "      <th>432</th>\n",
       "      <td>ZWE</td>\n",
       "      <td>2010</td>\n",
       "    </tr>\n",
       "    <tr>\n",
       "      <th>433</th>\n",
       "      <td>ZWE</td>\n",
       "      <td>2015</td>\n",
       "    </tr>\n",
       "  </tbody>\n",
       "</table>\n",
       "<p>434 rows × 2 columns</p>\n",
       "</div>"
      ],
      "text/plain": [
       "    code  year\n",
       "0    ABW  2010\n",
       "1    ABW  2015\n",
       "2    AFG  2010\n",
       "3    AFG  2015\n",
       "4    AGO  2010\n",
       "..   ...   ...\n",
       "429  ZAF  2015\n",
       "430  ZMB  2010\n",
       "431  ZMB  2015\n",
       "432  ZWE  2010\n",
       "433  ZWE  2015\n",
       "\n",
       "[434 rows x 2 columns]"
      ]
     },
     "execution_count": 21,
     "metadata": {},
     "output_type": "execute_result"
    }
   ],
   "source": [
    "# Query that determines all pairs of code and year from economies and populations, without duplicates\n",
    "un = '''SELECT code, year\n",
    "FROM economies\n",
    "UNION\n",
    "SELECT country_code, year\n",
    "FROM populations;'''\n",
    "sqldf(un,env=None)"
   ]
  },
  {
   "cell_type": "code",
   "execution_count": 22,
   "id": "c8e7e722-c6b6-4a6d-abd6-a27c9e909af9",
   "metadata": {},
   "outputs": [
    {
     "data": {
      "text/html": [
       "<div>\n",
       "<style scoped>\n",
       "    .dataframe tbody tr th:only-of-type {\n",
       "        vertical-align: middle;\n",
       "    }\n",
       "\n",
       "    .dataframe tbody tr th {\n",
       "        vertical-align: top;\n",
       "    }\n",
       "\n",
       "    .dataframe thead th {\n",
       "        text-align: right;\n",
       "    }\n",
       "</style>\n",
       "<table border=\"1\" class=\"dataframe\">\n",
       "  <thead>\n",
       "    <tr style=\"text-align: right;\">\n",
       "      <th></th>\n",
       "      <th>code</th>\n",
       "      <th>year</th>\n",
       "    </tr>\n",
       "  </thead>\n",
       "  <tbody>\n",
       "    <tr>\n",
       "      <th>0</th>\n",
       "      <td>ABW</td>\n",
       "      <td>2010</td>\n",
       "    </tr>\n",
       "    <tr>\n",
       "      <th>1</th>\n",
       "      <td>ABW</td>\n",
       "      <td>2015</td>\n",
       "    </tr>\n",
       "    <tr>\n",
       "      <th>2</th>\n",
       "      <td>AFG</td>\n",
       "      <td>2010</td>\n",
       "    </tr>\n",
       "    <tr>\n",
       "      <th>3</th>\n",
       "      <td>AFG</td>\n",
       "      <td>2010</td>\n",
       "    </tr>\n",
       "    <tr>\n",
       "      <th>4</th>\n",
       "      <td>AFG</td>\n",
       "      <td>2015</td>\n",
       "    </tr>\n",
       "    <tr>\n",
       "      <th>...</th>\n",
       "      <td>...</td>\n",
       "      <td>...</td>\n",
       "    </tr>\n",
       "    <tr>\n",
       "      <th>809</th>\n",
       "      <td>ZMB</td>\n",
       "      <td>2015</td>\n",
       "    </tr>\n",
       "    <tr>\n",
       "      <th>810</th>\n",
       "      <td>ZWE</td>\n",
       "      <td>2010</td>\n",
       "    </tr>\n",
       "    <tr>\n",
       "      <th>811</th>\n",
       "      <td>ZWE</td>\n",
       "      <td>2010</td>\n",
       "    </tr>\n",
       "    <tr>\n",
       "      <th>812</th>\n",
       "      <td>ZWE</td>\n",
       "      <td>2015</td>\n",
       "    </tr>\n",
       "    <tr>\n",
       "      <th>813</th>\n",
       "      <td>ZWE</td>\n",
       "      <td>2015</td>\n",
       "    </tr>\n",
       "  </tbody>\n",
       "</table>\n",
       "<p>814 rows × 2 columns</p>\n",
       "</div>"
      ],
      "text/plain": [
       "    code  year\n",
       "0    ABW  2010\n",
       "1    ABW  2015\n",
       "2    AFG  2010\n",
       "3    AFG  2010\n",
       "4    AFG  2015\n",
       "..   ...   ...\n",
       "809  ZMB  2015\n",
       "810  ZWE  2010\n",
       "811  ZWE  2010\n",
       "812  ZWE  2015\n",
       "813  ZWE  2015\n",
       "\n",
       "[814 rows x 2 columns]"
      ]
     },
     "execution_count": 22,
     "metadata": {},
     "output_type": "execute_result"
    }
   ],
   "source": [
    "un_a = '''SELECT code, year\n",
    "FROM economies\n",
    "-- Set theory clause\n",
    "UNION ALL\n",
    "SELECT country_code, year\n",
    "FROM populations\n",
    "ORDER BY code, year;'''\n",
    "sqldf(un_a,env=None)"
   ]
  },
  {
   "cell_type": "markdown",
   "id": "2d288e7f-9477-4ca7-9a0c-ecfc537b9398",
   "metadata": {},
   "source": [
    "- Nicely done! UNION returned 434 records, whereas UNION ALL returned 814. Are you able to spot the duplicates in the UNION ALL?"
   ]
  },
  {
   "cell_type": "markdown",
   "id": "5a70aca7-d7b6-4204-a7ce-8d27238c765d",
   "metadata": {},
   "source": [
    "# At the INTERSECT"
   ]
  },
  {
   "cell_type": "markdown",
   "id": "3fe2415c-4561-4265-aef7-f5d0a3225672",
   "metadata": {},
   "source": [
    "Well done getting through the material on INTERSECT!\\\n",
    "Let's say you are interested in those countries that share names with cities. Use this task as an opportunity to show off your knowledge of set theory in SQL!\n",
    "\n"
   ]
  },
  {
   "cell_type": "code",
   "execution_count": 25,
   "id": "b42d7aa0-9f9f-459a-836e-4b4554425d09",
   "metadata": {},
   "outputs": [
    {
     "data": {
      "text/html": [
       "<div>\n",
       "<style scoped>\n",
       "    .dataframe tbody tr th:only-of-type {\n",
       "        vertical-align: middle;\n",
       "    }\n",
       "\n",
       "    .dataframe tbody tr th {\n",
       "        vertical-align: top;\n",
       "    }\n",
       "\n",
       "    .dataframe thead th {\n",
       "        text-align: right;\n",
       "    }\n",
       "</style>\n",
       "<table border=\"1\" class=\"dataframe\">\n",
       "  <thead>\n",
       "    <tr style=\"text-align: right;\">\n",
       "      <th></th>\n",
       "      <th>name</th>\n",
       "    </tr>\n",
       "  </thead>\n",
       "  <tbody>\n",
       "    <tr>\n",
       "      <th>0</th>\n",
       "      <td>Singapore</td>\n",
       "    </tr>\n",
       "  </tbody>\n",
       "</table>\n",
       "</div>"
      ],
      "text/plain": [
       "        name\n",
       "0  Singapore"
      ]
     },
     "execution_count": 25,
     "metadata": {},
     "output_type": "execute_result"
    }
   ],
   "source": [
    "# Return all cities with the same name as a country\n",
    "i = '''SELECT name\n",
    "FROM cities\n",
    "INTERSECT \n",
    "SELECT country_name\n",
    "FROM countries;'''\n",
    "sqldf(i,env=None)"
   ]
  },
  {
   "cell_type": "markdown",
   "id": "f10d9619-cbd4-44f8-bbdd-6199ba29fc01",
   "metadata": {},
   "source": [
    "- Nice one! It looks as though Singapore is the only country in our database that has a city with the same name!"
   ]
  },
  {
   "cell_type": "markdown",
   "id": "2babf418-fdd4-4b2f-8f18-cff0c474befe",
   "metadata": {},
   "source": [
    "Which of the following definitions of set operations is correct?\\\n",
    "Correct! INTERSECT is a robust set operation for finding the set of identical records between two sets of records.✅"
   ]
  },
  {
   "cell_type": "markdown",
   "id": "22befc5e-a0dc-4897-aead-bcd36026dab6",
   "metadata": {},
   "source": [
    "# EXCEPT"
   ]
  },
  {
   "cell_type": "markdown",
   "id": "68e5dc24-a58f-48e1-8f1a-792a2e26285e",
   "metadata": {},
   "source": [
    "- You've got it, EXCEPT...\n",
    "Just as you were able to leverage INTERSECT to find the names of cities with the same names as countries, you can also do the reverse, using EXCEPT.\\\n",
    "In this exercise, you will find the names of cities that do not have the same names as their countries."
   ]
  },
  {
   "cell_type": "code",
   "execution_count": 29,
   "id": "e3f30325-abb0-4f0b-9b0d-de934f24f11d",
   "metadata": {},
   "outputs": [
    {
     "data": {
      "text/html": [
       "<div>\n",
       "<style scoped>\n",
       "    .dataframe tbody tr th:only-of-type {\n",
       "        vertical-align: middle;\n",
       "    }\n",
       "\n",
       "    .dataframe tbody tr th {\n",
       "        vertical-align: top;\n",
       "    }\n",
       "\n",
       "    .dataframe thead th {\n",
       "        text-align: right;\n",
       "    }\n",
       "</style>\n",
       "<table border=\"1\" class=\"dataframe\">\n",
       "  <thead>\n",
       "    <tr style=\"text-align: right;\">\n",
       "      <th></th>\n",
       "      <th>name</th>\n",
       "    </tr>\n",
       "  </thead>\n",
       "  <tbody>\n",
       "    <tr>\n",
       "      <th>0</th>\n",
       "      <td>Abidjan</td>\n",
       "    </tr>\n",
       "    <tr>\n",
       "      <th>1</th>\n",
       "      <td>Abu Dhabi</td>\n",
       "    </tr>\n",
       "    <tr>\n",
       "      <th>2</th>\n",
       "      <td>Abuja</td>\n",
       "    </tr>\n",
       "    <tr>\n",
       "      <th>3</th>\n",
       "      <td>Accra</td>\n",
       "    </tr>\n",
       "    <tr>\n",
       "      <th>4</th>\n",
       "      <td>Addis Ababa</td>\n",
       "    </tr>\n",
       "    <tr>\n",
       "      <th>...</th>\n",
       "      <td>...</td>\n",
       "    </tr>\n",
       "    <tr>\n",
       "      <th>230</th>\n",
       "      <td>Yerevan</td>\n",
       "    </tr>\n",
       "    <tr>\n",
       "      <th>231</th>\n",
       "      <td>Yokohama</td>\n",
       "    </tr>\n",
       "    <tr>\n",
       "      <th>232</th>\n",
       "      <td>Zhengzhou</td>\n",
       "    </tr>\n",
       "    <tr>\n",
       "      <th>233</th>\n",
       "      <td>Zhongshan</td>\n",
       "    </tr>\n",
       "    <tr>\n",
       "      <th>234</th>\n",
       "      <td>Zunyi</td>\n",
       "    </tr>\n",
       "  </tbody>\n",
       "</table>\n",
       "<p>235 rows × 1 columns</p>\n",
       "</div>"
      ],
      "text/plain": [
       "            name\n",
       "0        Abidjan\n",
       "1      Abu Dhabi\n",
       "2          Abuja\n",
       "3          Accra\n",
       "4    Addis Ababa\n",
       "..           ...\n",
       "230      Yerevan\n",
       "231     Yokohama\n",
       "232    Zhengzhou\n",
       "233    Zhongshan\n",
       "234        Zunyi\n",
       "\n",
       "[235 rows x 1 columns]"
      ]
     },
     "execution_count": 29,
     "metadata": {},
     "output_type": "execute_result"
    }
   ],
   "source": [
    "# Return all cities that do not have the same name as a country\n",
    "e = '''SELECT name\n",
    "FROM cities\n",
    "EXCEPT  \n",
    "SELECT country_name\n",
    "FROM countries\n",
    "ORDER BY name;'''\n",
    "sqldf(e,env=None)"
   ]
  },
  {
   "cell_type": "markdown",
   "id": "a3a3fc00-de74-4330-8d4f-2a59023a8dab",
   "metadata": {},
   "source": [
    "- EXCEPTional! Note that if countries had been on the left and cities on the right, you would have returned the opposite: all countries that do not have the same name as a city."
   ]
  },
  {
   "cell_type": "code",
   "execution_count": null,
   "id": "d41ca627-2272-46ed-8600-c74bd466de8d",
   "metadata": {},
   "outputs": [],
   "source": []
  },
  {
   "cell_type": "code",
   "execution_count": null,
   "id": "2a044db7-307c-4708-b031-1995a20c87f5",
   "metadata": {},
   "outputs": [],
   "source": []
  },
  {
   "cell_type": "code",
   "execution_count": null,
   "id": "a473543b-7f84-4c03-8706-734a92a3cf8b",
   "metadata": {},
   "outputs": [],
   "source": []
  }
 ],
 "metadata": {
  "kernelspec": {
   "display_name": "Python 3 (ipykernel)",
   "language": "python",
   "name": "python3"
  },
  "language_info": {
   "codemirror_mode": {
    "name": "ipython",
    "version": 3
   },
   "file_extension": ".py",
   "mimetype": "text/x-python",
   "name": "python",
   "nbconvert_exporter": "python",
   "pygments_lexer": "ipython3",
   "version": "3.13.0"
  }
 },
 "nbformat": 4,
 "nbformat_minor": 5
}
